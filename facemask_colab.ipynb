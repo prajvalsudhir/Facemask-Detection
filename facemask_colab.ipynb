{
  "nbformat": 4,
  "nbformat_minor": 0,
  "metadata": {
    "kernelspec": {
      "display_name": "Python 3",
      "language": "python",
      "name": "python3"
    },
    "language_info": {
      "codemirror_mode": {
        "name": "ipython",
        "version": 3
      },
      "file_extension": ".py",
      "mimetype": "text/x-python",
      "name": "python",
      "nbconvert_exporter": "python",
      "pygments_lexer": "ipython3",
      "version": "3.7.4"
    },
    "colab": {
      "name": "facemask.ipynb",
      "provenance": [],
      "collapsed_sections": [],
      "include_colab_link": true
    },
    "accelerator": "GPU"
  },
  "cells": [
    {
      "cell_type": "markdown",
      "metadata": {
        "id": "view-in-github",
        "colab_type": "text"
      },
      "source": [
        "<a href=\"https://colab.research.google.com/github/prajvalsudhir/Facemask-Detection/blob/master/facemask_colab.ipynb\" target=\"_parent\"><img src=\"https://colab.research.google.com/assets/colab-badge.svg\" alt=\"Open In Colab\"/></a>"
      ]
    },
    {
      "cell_type": "code",
      "metadata": {
        "id": "9blyToJ9v3z9",
        "colab_type": "code",
        "colab": {}
      },
      "source": [
        "import numpy as np\n",
        "import pandas as pd\n",
        "import matplotlib.pyplot as plt\n",
        "import seaborn as sns\n",
        "import cv2\n",
        "import os\n",
        "from matplotlib.image import imread\n",
        "from tensorflow.keras.applications.mobilenet_v2 import preprocess_input"
      ],
      "execution_count": 0,
      "outputs": []
    },
    {
      "cell_type": "code",
      "metadata": {
        "id": "7qStyidHxDKQ",
        "colab_type": "code",
        "outputId": "539be589-262d-4514-9b2b-158558cad32d",
        "colab": {
          "base_uri": "https://localhost:8080/",
          "height": 34
        }
      },
      "source": [
        "from google.colab import drive \n",
        "drive.mount('/content/gdrive')"
      ],
      "execution_count": 152,
      "outputs": [
        {
          "output_type": "stream",
          "text": [
            "Drive already mounted at /content/gdrive; to attempt to forcibly remount, call drive.mount(\"/content/gdrive\", force_remount=True).\n"
          ],
          "name": "stdout"
        }
      ]
    },
    {
      "cell_type": "code",
      "metadata": {
        "id": "5il4VQLhv30B",
        "colab_type": "code",
        "outputId": "b789f1d9-4497-422a-e3ac-cb9cfef963f2",
        "colab": {
          "base_uri": "https://localhost:8080/",
          "height": 34
        }
      },
      "source": [
        "pwd"
      ],
      "execution_count": 153,
      "outputs": [
        {
          "output_type": "execute_result",
          "data": {
            "text/plain": [
              "'/content'"
            ]
          },
          "metadata": {
            "tags": []
          },
          "execution_count": 153
        }
      ]
    },
    {
      "cell_type": "code",
      "metadata": {
        "id": "Rg0u86ASxB0m",
        "colab_type": "code",
        "colab": {}
      },
      "source": [
        "data = '/content/gdrive/My Drive/Colab Notebooks/data'"
      ],
      "execution_count": 0,
      "outputs": []
    },
    {
      "cell_type": "code",
      "metadata": {
        "id": "IcveQLXqxB_6",
        "colab_type": "code",
        "colab": {}
      },
      "source": [
        ""
      ],
      "execution_count": 0,
      "outputs": []
    },
    {
      "cell_type": "code",
      "metadata": {
        "id": "Op9SuL5fv30F",
        "colab_type": "code",
        "outputId": "54137fb6-963c-4957-de0d-c7b750c49db5",
        "colab": {
          "base_uri": "https://localhost:8080/",
          "height": 34
        }
      },
      "source": [
        "os.listdir('/content/gdrive/My Drive/Colab Notebooks/data')"
      ],
      "execution_count": 155,
      "outputs": [
        {
          "output_type": "execute_result",
          "data": {
            "text/plain": [
              "['test', 'train']"
            ]
          },
          "metadata": {
            "tags": []
          },
          "execution_count": 155
        }
      ]
    },
    {
      "cell_type": "code",
      "metadata": {
        "id": "DY6jspwav30I",
        "colab_type": "code",
        "colab": {}
      },
      "source": [
        ""
      ],
      "execution_count": 0,
      "outputs": []
    },
    {
      "cell_type": "code",
      "metadata": {
        "id": "4DQU_U4Mv30L",
        "colab_type": "code",
        "colab": {}
      },
      "source": [
        "#lets split the data to train and test\n",
        "#there are approx 680 images in withmask and withoutmask each "
      ],
      "execution_count": 0,
      "outputs": []
    },
    {
      "cell_type": "code",
      "metadata": {
        "id": "ltnRUc8Iv30O",
        "colab_type": "code",
        "colab": {}
      },
      "source": [
        "#80% for train and 20% for test"
      ],
      "execution_count": 0,
      "outputs": []
    },
    {
      "cell_type": "code",
      "metadata": {
        "id": "Ui2n8SdUv30R",
        "colab_type": "code",
        "outputId": "7df44e1e-7739-4151-e41c-781cbf295893",
        "colab": {
          "base_uri": "https://localhost:8080/",
          "height": 34
        }
      },
      "source": [
        "(0.8*680)*2"
      ],
      "execution_count": 158,
      "outputs": [
        {
          "output_type": "execute_result",
          "data": {
            "text/plain": [
              "1088.0"
            ]
          },
          "metadata": {
            "tags": []
          },
          "execution_count": 158
        }
      ]
    },
    {
      "cell_type": "code",
      "metadata": {
        "id": "9nIcrjQqv30U",
        "colab_type": "code",
        "outputId": "cb0c4590-d72c-4b2c-ea70-1d932bf5b78d",
        "colab": {
          "base_uri": "https://localhost:8080/",
          "height": 34
        }
      },
      "source": [
        "(0.2*680)*2"
      ],
      "execution_count": 159,
      "outputs": [
        {
          "output_type": "execute_result",
          "data": {
            "text/plain": [
              "272.0"
            ]
          },
          "metadata": {
            "tags": []
          },
          "execution_count": 159
        }
      ]
    },
    {
      "cell_type": "code",
      "metadata": {
        "id": "YSWq-Lvxv30X",
        "colab_type": "code",
        "outputId": "3f82de2c-416d-4e12-8f25-687384a242c6",
        "colab": {
          "base_uri": "https://localhost:8080/",
          "height": 34
        }
      },
      "source": [
        "os.listdir('/content/gdrive/My Drive/Colab Notebooks/data/train')"
      ],
      "execution_count": 160,
      "outputs": [
        {
          "output_type": "execute_result",
          "data": {
            "text/plain": [
              "['without_mask', 'with_mask']"
            ]
          },
          "metadata": {
            "tags": []
          },
          "execution_count": 160
        }
      ]
    },
    {
      "cell_type": "code",
      "metadata": {
        "id": "n7dk59jpv30a",
        "colab_type": "code",
        "colab": {}
      },
      "source": [
        "train_path = '/content/gdrive/My Drive/Colab Notebooks/data/train'\n",
        "test_path = '/content/gdrive/My Drive/Colab Notebooks/data/test'"
      ],
      "execution_count": 0,
      "outputs": []
    },
    {
      "cell_type": "code",
      "metadata": {
        "id": "jp4LKZjQv30c",
        "colab_type": "code",
        "outputId": "a3a7ba1b-ad64-4bd1-f11c-82cd5bf7e832",
        "colab": {
          "base_uri": "https://localhost:8080/",
          "height": 1000
        }
      },
      "source": [
        "os.listdir(train_path+'/without_mask')"
      ],
      "execution_count": 162,
      "outputs": [
        {
          "output_type": "execute_result",
          "data": {
            "text/plain": [
              "['105.jpg',\n",
              " '1.jpg',\n",
              " '110.jpg',\n",
              " '0.jpg',\n",
              " '10.jpg',\n",
              " '104.jpg',\n",
              " '102.jpg',\n",
              " '101.jpg',\n",
              " '107.jpg',\n",
              " '108.jpg',\n",
              " '111.jpg',\n",
              " '106.jpg',\n",
              " '11.jpg',\n",
              " '100.jpg',\n",
              " '109.jpg',\n",
              " '133.jpg',\n",
              " '184.jpg',\n",
              " '224.jpg',\n",
              " '168.jpg',\n",
              " '117.jpg',\n",
              " '215.jpg',\n",
              " '14.jpg',\n",
              " '194.jpg',\n",
              " '164.jpg',\n",
              " '174.jpg',\n",
              " '213.jpg',\n",
              " '152.jpg',\n",
              " '140.jpg',\n",
              " '22.jpg',\n",
              " '197.jpg',\n",
              " '17.jpg',\n",
              " '125.jpg',\n",
              " '153.jpg',\n",
              " '18.jpg',\n",
              " '143.jpg',\n",
              " '206.jpg',\n",
              " '115.jpg',\n",
              " '195.jpg',\n",
              " '178.jpg',\n",
              " '172.jpg',\n",
              " '163.jpg',\n",
              " '218.jpg',\n",
              " '2.jpg',\n",
              " '176.jpg',\n",
              " '173.jpg',\n",
              " '13.jpg',\n",
              " '135.jpg',\n",
              " '120.jpg',\n",
              " '151.jpg',\n",
              " '203.jpg',\n",
              " '131.jpg',\n",
              " '179.jpg',\n",
              " '160.jpg',\n",
              " '141.jpg',\n",
              " '207.jpg',\n",
              " '119.jpg',\n",
              " '149.jpg',\n",
              " '226.jpg',\n",
              " '186.jpg',\n",
              " '217.jpg',\n",
              " '139.jpg',\n",
              " '145.jpg',\n",
              " '188.jpg',\n",
              " '161.jpg',\n",
              " '136.jpg',\n",
              " '148.jpg',\n",
              " '118.jpg',\n",
              " '208.jpg',\n",
              " '20.jpg',\n",
              " '225.jpg',\n",
              " '192.jpg',\n",
              " '216.jpg',\n",
              " '114.jpg',\n",
              " '169.jpg',\n",
              " '123.jpg',\n",
              " '228.jpg',\n",
              " '170.jpg',\n",
              " '15.jpg',\n",
              " '132.jpg',\n",
              " '214.jpg',\n",
              " '127.jpg',\n",
              " '180.jpg',\n",
              " '185.jpg',\n",
              " '177.jpg',\n",
              " '222.jpg',\n",
              " '221.jpg',\n",
              " '210.jpg',\n",
              " '159.jpg',\n",
              " '193.jpg',\n",
              " '128.jpg',\n",
              " '204.jpg',\n",
              " '130.jpg',\n",
              " '187.jpg',\n",
              " '223.jpg',\n",
              " '175.jpg',\n",
              " '158.jpg',\n",
              " '122.jpg',\n",
              " '16.jpg',\n",
              " '183.jpg',\n",
              " '157.jpg',\n",
              " '124.jpg',\n",
              " '201.jpg',\n",
              " '171.jpg',\n",
              " '146.jpg',\n",
              " '212.jpg',\n",
              " '112.jpg',\n",
              " '137.jpg',\n",
              " '227.jpg',\n",
              " '220.jpg',\n",
              " '134.jpg',\n",
              " '181.jpg',\n",
              " '19.jpg',\n",
              " '198.jpg',\n",
              " '138.jpg',\n",
              " '142.jpg',\n",
              " '155.jpg',\n",
              " '12.jpg',\n",
              " '129.jpg',\n",
              " '116.jpg',\n",
              " '191.jpg',\n",
              " '211.jpg',\n",
              " '156.jpg',\n",
              " '154.jpg',\n",
              " '166.jpg',\n",
              " '196.jpg',\n",
              " '162.jpg',\n",
              " '297.jpg',\n",
              " '317.jpg',\n",
              " '310.jpg',\n",
              " '295.jpg',\n",
              " '252.jpg',\n",
              " '336.jpg',\n",
              " '331.jpg',\n",
              " '309.jpg',\n",
              " '250.jpg',\n",
              " '322.jpg',\n",
              " '298.jpg',\n",
              " '265.jpg',\n",
              " '243.jpg',\n",
              " '281.jpg',\n",
              " '232.jpg',\n",
              " '244.jpg',\n",
              " '283.jpg',\n",
              " '308.jpg',\n",
              " '339.jpg',\n",
              " '249.jpg',\n",
              " '347.jpg',\n",
              " '253.jpg',\n",
              " '259.jpg',\n",
              " '276.jpg',\n",
              " '327.jpg',\n",
              " '270.jpg',\n",
              " '264.jpg',\n",
              " '23.jpg',\n",
              " '240.jpg',\n",
              " '292.jpg',\n",
              " '335.jpg',\n",
              " '266.jpg',\n",
              " '318.jpg',\n",
              " '263.jpg',\n",
              " '32.jpg',\n",
              " '3.jpg',\n",
              " '311.jpg',\n",
              " '269.jpg',\n",
              " '258.jpg',\n",
              " '332.jpg',\n",
              " '340.jpg',\n",
              " '254.jpg',\n",
              " '285.jpg',\n",
              " '328.jpg',\n",
              " '334.jpg',\n",
              " '267.jpg',\n",
              " '261.jpg',\n",
              " '344.jpg',\n",
              " '284.jpg',\n",
              " '294.jpg',\n",
              " '237.jpg',\n",
              " '288.jpg',\n",
              " '303.jpg',\n",
              " '287.jpg',\n",
              " '349.jpg',\n",
              " '307.jpg',\n",
              " '230.jpg',\n",
              " '282.jpg',\n",
              " '34.jpg',\n",
              " '30.jpg',\n",
              " '319.jpg',\n",
              " '233.jpg',\n",
              " '341.jpg',\n",
              " '289.jpg',\n",
              " '231.jpg',\n",
              " '312.jpg',\n",
              " '247.jpg',\n",
              " '262.jpg',\n",
              " '29.jpg',\n",
              " '348.jpg',\n",
              " '241.jpg',\n",
              " '24.jpg',\n",
              " '251.jpg',\n",
              " '246.jpg',\n",
              " '291.jpg',\n",
              " '290.jpg',\n",
              " '306.jpg',\n",
              " '323.jpg',\n",
              " '325.jpg',\n",
              " '324.jpg',\n",
              " '338.jpg',\n",
              " '286.jpg',\n",
              " '31.jpg',\n",
              " '315.jpg',\n",
              " '27.jpg',\n",
              " '302.jpg',\n",
              " '242.jpg',\n",
              " '248.jpg',\n",
              " '301.jpg',\n",
              " '234.jpg',\n",
              " '329.jpg',\n",
              " '350.jpg',\n",
              " '278.jpg',\n",
              " '275.jpg',\n",
              " '26.jpg',\n",
              " '229.jpg',\n",
              " '256.jpg',\n",
              " '33.jpg',\n",
              " '316.jpg',\n",
              " '260.jpg',\n",
              " '330.jpg',\n",
              " '299.jpg',\n",
              " '321.jpg',\n",
              " '280.jpg',\n",
              " '293.jpg',\n",
              " '255.jpg',\n",
              " '300.jpg',\n",
              " '345.jpg',\n",
              " '28.jpg',\n",
              " '271.jpg',\n",
              " '337.jpg',\n",
              " '239.jpg',\n",
              " '326.jpg',\n",
              " '352.jpg',\n",
              " '447.jpg',\n",
              " '375.jpg',\n",
              " '362.jpg',\n",
              " '370.jpg',\n",
              " '379.jpg',\n",
              " '413.jpg',\n",
              " '361.jpg',\n",
              " '462.jpg',\n",
              " '391.jpg',\n",
              " '434.jpg',\n",
              " '409.jpg',\n",
              " '387.jpg',\n",
              " '385.jpg',\n",
              " '454.jpg',\n",
              " '461.jpg',\n",
              " '448.jpg',\n",
              " '415.jpg',\n",
              " '436.jpg',\n",
              " '401.jpg',\n",
              " '405.jpg',\n",
              " '363.jpg',\n",
              " '398.jpg',\n",
              " '416.jpg',\n",
              " '397.jpg',\n",
              " '424.jpg',\n",
              " '458.jpg',\n",
              " '400.jpg',\n",
              " '392.jpg',\n",
              " '374.jpg',\n",
              " '455.jpg',\n",
              " '364.jpg',\n",
              " '395.jpg',\n",
              " '4.jpg',\n",
              " '426.jpg',\n",
              " '437.jpg',\n",
              " '383.jpg',\n",
              " '452.jpg',\n",
              " '446.jpg',\n",
              " '394.jpg',\n",
              " '399.jpg',\n",
              " '451.jpg',\n",
              " '403.jpg',\n",
              " '390.jpg',\n",
              " '456.jpg',\n",
              " '372.jpg',\n",
              " '457.jpg',\n",
              " '427.jpg',\n",
              " '460.jpg',\n",
              " '442.jpg',\n",
              " '367.jpg',\n",
              " '425.jpg',\n",
              " '430.jpg',\n",
              " '378.jpg',\n",
              " '45.jpg',\n",
              " '368.jpg',\n",
              " '386.jpg',\n",
              " '37.jpg',\n",
              " '40.jpg',\n",
              " '408.jpg',\n",
              " '39.jpg',\n",
              " '43.jpg',\n",
              " '412.jpg',\n",
              " '431.jpg',\n",
              " '359.jpg',\n",
              " '373.jpg',\n",
              " '417.jpg',\n",
              " '376.jpg',\n",
              " '449.jpg',\n",
              " '42.jpg',\n",
              " '445.jpg',\n",
              " '356.jpg',\n",
              " '441.jpg',\n",
              " '351.jpg',\n",
              " '463.jpg',\n",
              " '428.jpg',\n",
              " '353.jpg',\n",
              " '423.jpg',\n",
              " '420.jpg',\n",
              " '411.jpg',\n",
              " '388.jpg',\n",
              " '404.jpg',\n",
              " '440.jpg',\n",
              " '407.jpg',\n",
              " '354.jpg',\n",
              " '459.jpg',\n",
              " '450.jpg',\n",
              " '421.jpg',\n",
              " '393.jpg',\n",
              " '36.jpg',\n",
              " '46.jpg',\n",
              " '464.jpg',\n",
              " '432.jpg',\n",
              " '419.jpg',\n",
              " '44.jpg',\n",
              " '444.jpg',\n",
              " '465.jpg',\n",
              " '435.jpg',\n",
              " '414.jpg',\n",
              " '355.jpg',\n",
              " '439.jpg',\n",
              " '443.jpg',\n",
              " '410.jpg',\n",
              " '402.jpg',\n",
              " '384.jpg',\n",
              " '422.jpg',\n",
              " '406.jpg',\n",
              " '438.jpg',\n",
              " '365.jpg',\n",
              " '360.jpg',\n",
              " '453.jpg',\n",
              " '389.jpg',\n",
              " 'augmented_image_116.jpg',\n",
              " 'augmented_image_115.jpg',\n",
              " '93.jpg',\n",
              " 'augmented_image_100.jpg',\n",
              " '66.jpg',\n",
              " '467.jpg',\n",
              " '67.jpg',\n",
              " '6.jpg',\n",
              " '65.jpg',\n",
              " 'augmented_image_117.jpg',\n",
              " '94.jpg',\n",
              " '466.jpg',\n",
              " '49.jpg',\n",
              " '54.jpg',\n",
              " '99.jpg',\n",
              " 'augmented_image_131.jpg',\n",
              " '90.jpg',\n",
              " 'augmented_image_129.jpg',\n",
              " '69.jpg',\n",
              " '478.jpg',\n",
              " 'augmented_image_152.jpg',\n",
              " 'augmented_image_12.jpg',\n",
              " 'augmented_image_137.jpg',\n",
              " 'augmented_image_114.jpg',\n",
              " '80.jpg',\n",
              " '92.jpg',\n",
              " 'augmented_image_130.jpg',\n",
              " '81.jpg',\n",
              " 'augmented_image_111.jpg',\n",
              " '62.jpg',\n",
              " 'augmented_image_147.jpg',\n",
              " '86.jpg',\n",
              " '469.jpg',\n",
              " '79.jpg',\n",
              " 'augmented_image_143.jpg',\n",
              " 'augmented_image_151.jpg',\n",
              " 'augmented_image_120.jpg',\n",
              " '475.jpg',\n",
              " 'augmented_image_138.jpg',\n",
              " 'augmented_image_141.jpg',\n",
              " 'augmented_image_123.jpg',\n",
              " 'augmented_image_154.jpg',\n",
              " '77.jpg',\n",
              " 'augmented_image_122.jpg',\n",
              " '84.jpg',\n",
              " 'augmented_image_142.jpg',\n",
              " '52.jpg',\n",
              " '88.jpg',\n",
              " '476.jpg',\n",
              " '57.jpg',\n",
              " '9.jpg',\n",
              " '58.jpg',\n",
              " 'augmented_image_109.jpg',\n",
              " '7.jpg',\n",
              " '477.jpg',\n",
              " 'augmented_image_127.jpg',\n",
              " 'augmented_image_113.jpg',\n",
              " '74.jpg',\n",
              " '76.jpg',\n",
              " '63.jpg',\n",
              " '97.jpg',\n",
              " '55.jpg',\n",
              " 'augmented_image_112.jpg',\n",
              " '51.jpg',\n",
              " '59.jpg',\n",
              " 'augmented_image_124.jpg',\n",
              " '53.jpg',\n",
              " 'augmented_image_135.jpg',\n",
              " '96.jpg',\n",
              " 'augmented_image_155.jpg',\n",
              " 'augmented_image_1.jpg',\n",
              " 'augmented_image_126.jpg',\n",
              " 'augmented_image_136.jpg',\n",
              " 'augmented_image_133.jpg',\n",
              " '95.jpg',\n",
              " '56.jpg',\n",
              " '87.jpg',\n",
              " '98.jpg',\n",
              " 'augmented_image_132.jpg',\n",
              " 'augmented_image_105.jpg',\n",
              " '48.jpg',\n",
              " 'augmented_image_103.jpg',\n",
              " 'augmented_image_13.jpg',\n",
              " '47.jpg',\n",
              " 'augmented_image_153.jpg',\n",
              " 'augmented_image_125.jpg',\n",
              " '83.jpg',\n",
              " 'augmented_image_118.jpg',\n",
              " 'augmented_image_101.jpg',\n",
              " 'augmented_image_14.jpg',\n",
              " '61.jpg',\n",
              " '468.jpg',\n",
              " 'augmented_image_139.jpg',\n",
              " 'augmented_image_106.jpg',\n",
              " 'augmented_image_119.jpg',\n",
              " 'augmented_image_145.jpg',\n",
              " '50.jpg',\n",
              " 'augmented_image_134.jpg',\n",
              " 'augmented_image_107.jpg',\n",
              " 'augmented_image_144.jpg',\n",
              " 'augmented_image_128.jpg',\n",
              " '480.jpg',\n",
              " '91.jpg',\n",
              " '64.jpg',\n",
              " '70.jpg',\n",
              " 'augmented_image_140.jpg',\n",
              " 'augmented_image_150.jpg',\n",
              " 'augmented_image_121.jpg',\n",
              " '73.jpg',\n",
              " 'augmented_image_149.jpg',\n",
              " 'augmented_image_148.jpg',\n",
              " '89.jpg',\n",
              " 'augmented_image_17.jpg',\n",
              " 'augmented_image_22.jpg',\n",
              " 'augmented_image_156.jpg',\n",
              " 'augmented_image_18.jpg',\n",
              " 'augmented_image_19.jpg',\n",
              " 'augmented_image_27.jpg',\n",
              " 'augmented_image_21.jpg',\n",
              " 'augmented_image_23.jpg',\n",
              " 'augmented_image_25.jpg',\n",
              " 'augmented_image_16.jpg',\n",
              " 'augmented_image_157.jpg',\n",
              " 'augmented_image_2.jpg',\n",
              " 'augmented_image_20.jpg',\n",
              " 'augmented_image_65.jpg',\n",
              " 'augmented_image_30.jpg',\n",
              " 'augmented_image_96.jpg',\n",
              " 'augmented_image_95.jpg',\n",
              " 'augmented_image_40.jpg',\n",
              " 'augmented_image_89.jpg',\n",
              " 'augmented_image_38.jpg',\n",
              " 'augmented_image_82.jpg',\n",
              " 'augmented_image_37.jpg',\n",
              " 'augmented_image_81.jpg',\n",
              " 'augmented_image_4.jpg',\n",
              " 'augmented_image_54.jpg',\n",
              " 'augmented_image_39.jpg',\n",
              " 'augmented_image_36.jpg',\n",
              " 'augmented_image_56.jpg',\n",
              " 'augmented_image_93.jpg',\n",
              " 'augmented_image_94.jpg',\n",
              " 'augmented_image_83.jpg',\n",
              " 'augmented_image_67.jpg',\n",
              " 'augmented_image_41.jpg',\n",
              " 'augmented_image_90.jpg',\n",
              " 'augmented_image_50.jpg',\n",
              " 'augmented_image_7.jpg',\n",
              " 'augmented_image_58.jpg',\n",
              " 'augmented_image_45.jpg',\n",
              " 'augmented_image_77.jpg',\n",
              " 'augmented_image_53.jpg',\n",
              " 'augmented_image_71.jpg',\n",
              " 'augmented_image_66.jpg',\n",
              " 'augmented_image_70.jpg',\n",
              " 'augmented_image_63.jpg',\n",
              " 'augmented_image_59.jpg',\n",
              " 'augmented_image_88.jpg',\n",
              " 'augmented_image_55.jpg',\n",
              " 'augmented_image_85.jpg',\n",
              " 'augmented_image_72.jpg',\n",
              " 'augmented_image_52.jpg',\n",
              " 'augmented_image_79.jpg',\n",
              " 'augmented_image_48.jpg',\n",
              " 'augmented_image_44.jpg',\n",
              " 'augmented_image_42.jpg',\n",
              " 'augmented_image_86.jpg',\n",
              " 'augmented_image_64.jpg',\n",
              " 'augmented_image_91.jpg',\n",
              " 'augmented_image_62.jpg',\n",
              " 'augmented_image_74.jpg',\n",
              " 'augmented_image_3.jpg',\n",
              " 'augmented_image_60.jpg',\n",
              " 'augmented_image_92.jpg',\n",
              " 'augmented_image_43.jpg',\n",
              " 'augmented_image_87.jpg',\n",
              " 'augmented_image_69.jpg',\n",
              " 'augmented_image_84.jpg',\n",
              " 'augmented_image_32.jpg',\n",
              " 'augmented_image_31.jpg',\n",
              " 'augmented_image_78.jpg',\n",
              " 'augmented_image_61.jpg',\n",
              " 'augmented_image_68.jpg',\n",
              " 'augmented_image_73.jpg',\n",
              " 'augmented_image_33.jpg',\n",
              " 'augmented_image_5.jpg',\n",
              " 'augmented_image_51.jpg',\n",
              " 'augmented_image_76.jpg',\n",
              " 'augmented_image_35.jpg',\n",
              " 'augmented_image_80.jpg',\n",
              " 'augmented_image_57.jpg',\n",
              " 'augmented_image_98.jpg',\n",
              " 'augmented_image_99.jpg',\n",
              " 'augmented_image_97.jpg']"
            ]
          },
          "metadata": {
            "tags": []
          },
          "execution_count": 162
        }
      ]
    },
    {
      "cell_type": "code",
      "metadata": {
        "id": "dDyhcCnfv30e",
        "colab_type": "code",
        "outputId": "dd2826bf-306d-4ae2-f40b-3140c6f0006a",
        "colab": {
          "base_uri": "https://localhost:8080/",
          "height": 34
        }
      },
      "source": [
        "len(os.listdir(train_path+'/without_mask'))"
      ],
      "execution_count": 163,
      "outputs": [
        {
          "output_type": "execute_result",
          "data": {
            "text/plain": [
              "545"
            ]
          },
          "metadata": {
            "tags": []
          },
          "execution_count": 163
        }
      ]
    },
    {
      "cell_type": "code",
      "metadata": {
        "id": "5_B0rxfhv30h",
        "colab_type": "code",
        "outputId": "f7adea0b-3884-4a24-b228-96d3efdbfb20",
        "colab": {
          "base_uri": "https://localhost:8080/",
          "height": 840
        }
      },
      "source": [
        "cv2.imread(train_path+'/without_mask/0.jpg')"
      ],
      "execution_count": 164,
      "outputs": [
        {
          "output_type": "execute_result",
          "data": {
            "text/plain": [
              "array([[[ 18,   3,   7],\n",
              "        [ 18,   3,   7],\n",
              "        [ 18,   3,   7],\n",
              "        ...,\n",
              "        [ 28,  12,  19],\n",
              "        [ 28,  12,  19],\n",
              "        [ 29,  13,  20]],\n",
              "\n",
              "       [[ 22,   7,  11],\n",
              "        [ 22,   7,  11],\n",
              "        [ 22,   7,  11],\n",
              "        ...,\n",
              "        [ 41,  25,  32],\n",
              "        [ 41,  25,  32],\n",
              "        [ 42,  26,  33]],\n",
              "\n",
              "       [[ 26,   9,  13],\n",
              "        [ 26,   9,  13],\n",
              "        [ 26,   9,  13],\n",
              "        ...,\n",
              "        [ 30,  15,  19],\n",
              "        [ 31,  16,  20],\n",
              "        [ 32,  17,  21]],\n",
              "\n",
              "       ...,\n",
              "\n",
              "       [[ 77,   5, 172],\n",
              "        [ 73,   5, 170],\n",
              "        [ 65,   5, 167],\n",
              "        ...,\n",
              "        [  0,   0,   0],\n",
              "        [  0,   0,   0],\n",
              "        [  0,   0,   0]],\n",
              "\n",
              "       [[ 73,   5, 166],\n",
              "        [ 67,   3, 162],\n",
              "        [ 62,   5, 158],\n",
              "        ...,\n",
              "        [  0,   0,   0],\n",
              "        [  0,   0,   0],\n",
              "        [  0,   0,   0]],\n",
              "\n",
              "       [[ 71,   6, 162],\n",
              "        [ 65,   3, 157],\n",
              "        [ 59,   4, 155],\n",
              "        ...,\n",
              "        [  0,   0,   0],\n",
              "        [  0,   0,   0],\n",
              "        [  0,   0,   0]]], dtype=uint8)"
            ]
          },
          "metadata": {
            "tags": []
          },
          "execution_count": 164
        }
      ]
    },
    {
      "cell_type": "code",
      "metadata": {
        "id": "C_GWFCzmv30l",
        "colab_type": "code",
        "outputId": "08670b7d-9bee-49de-9e18-ea8a7d2e0a14",
        "colab": {
          "base_uri": "https://localhost:8080/",
          "height": 840
        }
      },
      "source": [
        "imread(train_path+'/without_mask/0.jpg')"
      ],
      "execution_count": 165,
      "outputs": [
        {
          "output_type": "execute_result",
          "data": {
            "text/plain": [
              "array([[[  7,   3,  18],\n",
              "        [  7,   3,  18],\n",
              "        [  7,   3,  18],\n",
              "        ...,\n",
              "        [ 19,  12,  28],\n",
              "        [ 19,  12,  28],\n",
              "        [ 20,  13,  29]],\n",
              "\n",
              "       [[ 11,   7,  22],\n",
              "        [ 11,   7,  22],\n",
              "        [ 11,   7,  22],\n",
              "        ...,\n",
              "        [ 30,  26,  41],\n",
              "        [ 30,  26,  41],\n",
              "        [ 31,  27,  42]],\n",
              "\n",
              "       [[ 13,   9,  26],\n",
              "        [ 13,   9,  26],\n",
              "        [ 13,   9,  26],\n",
              "        ...,\n",
              "        [ 19,  15,  30],\n",
              "        [ 20,  16,  31],\n",
              "        [ 21,  17,  32]],\n",
              "\n",
              "       ...,\n",
              "\n",
              "       [[171,   5,  77],\n",
              "        [170,   5,  73],\n",
              "        [168,   4,  67],\n",
              "        ...,\n",
              "        [  0,   0,   0],\n",
              "        [  0,   0,   0],\n",
              "        [  0,   0,   0]],\n",
              "\n",
              "       [[165,   6,  73],\n",
              "        [162,   3,  67],\n",
              "        [159,   4,  62],\n",
              "        ...,\n",
              "        [  0,   0,   0],\n",
              "        [  0,   0,   0],\n",
              "        [  0,   0,   0]],\n",
              "\n",
              "       [[160,   7,  71],\n",
              "        [156,   4,  63],\n",
              "        [153,   4,  59],\n",
              "        ...,\n",
              "        [  0,   0,   0],\n",
              "        [  0,   0,   0],\n",
              "        [  0,   0,   0]]], dtype=uint8)"
            ]
          },
          "metadata": {
            "tags": []
          },
          "execution_count": 165
        }
      ]
    },
    {
      "cell_type": "code",
      "metadata": {
        "id": "KG2hHy7Xv30p",
        "colab_type": "code",
        "outputId": "4af8792f-4b4c-49c8-89a1-5dfd6d6c1169",
        "colab": {
          "base_uri": "https://localhost:8080/",
          "height": 286
        }
      },
      "source": [
        "plt.imshow(imread(train_path+'/without_mask/0.jpg'))"
      ],
      "execution_count": 166,
      "outputs": [
        {
          "output_type": "execute_result",
          "data": {
            "text/plain": [
              "<matplotlib.image.AxesImage at 0x7f8be54fbcf8>"
            ]
          },
          "metadata": {
            "tags": []
          },
          "execution_count": 166
        },
        {
          "output_type": "display_data",
          "data": {
            "image/png": "[encoded data removed]",
            "text/plain": [
              "<Figure size 432x288 with 1 Axes>"
            ]
          },
          "metadata": {
            "tags": [],
            "needs_background": "light"
          }
        }
      ]
    },
    {
      "cell_type": "code",
      "metadata": {
        "id": "XZkweYS8v30s",
        "colab_type": "code",
        "outputId": "9b0a5012-1c14-4060-df68-adc0203dfdee",
        "colab": {
          "base_uri": "https://localhost:8080/",
          "height": 34
        }
      },
      "source": [
        "sam = imread(train_path+'/without_mask/0.jpg')\n",
        "sam.shape"
      ],
      "execution_count": 167,
      "outputs": [
        {
          "output_type": "execute_result",
          "data": {
            "text/plain": [
              "(270, 180, 3)"
            ]
          },
          "metadata": {
            "tags": []
          },
          "execution_count": 167
        }
      ]
    },
    {
      "cell_type": "code",
      "metadata": {
        "id": "lyz_pptlv30v",
        "colab_type": "code",
        "outputId": "45a10806-9241-4705-9efb-6019cc35e22d",
        "colab": {
          "base_uri": "https://localhost:8080/",
          "height": 34
        }
      },
      "source": [
        "imread(train_path+'/without_mask/2.jpg').shape"
      ],
      "execution_count": 168,
      "outputs": [
        {
          "output_type": "execute_result",
          "data": {
            "text/plain": [
              "(433, 320, 3)"
            ]
          },
          "metadata": {
            "tags": []
          },
          "execution_count": 168
        }
      ]
    },
    {
      "cell_type": "code",
      "metadata": {
        "id": "7DvTP0qiv30x",
        "colab_type": "code",
        "colab": {}
      },
      "source": [
        "#all the images have varying shape so lets find the avg height and width"
      ],
      "execution_count": 0,
      "outputs": []
    },
    {
      "cell_type": "code",
      "metadata": {
        "id": "Qqpe5Ifpv301",
        "colab_type": "code",
        "colab": {}
      },
      "source": [
        "avg_height= []\n",
        "avg_width = []\n",
        "for face in os.listdir(train_path+'/without_mask'):\n",
        "    f_img = imread(train_path+'/without_mask/'+face)\n",
        "    f_wid,f_hig,cc = f_img.shape\n",
        "    avg_width.append(f_wid)\n",
        "    avg_height.append(f_hig)"
      ],
      "execution_count": 0,
      "outputs": []
    },
    {
      "cell_type": "code",
      "metadata": {
        "id": "5nqUk761v303",
        "colab_type": "code",
        "colab": {
          "base_uri": "https://localhost:8080/",
          "height": 1000
        },
        "outputId": "56c8aa13-753b-469c-c8ee-fc2d12ee787d"
      },
      "source": [
        "avg_width"
      ],
      "execution_count": 171,
      "outputs": [
        {
          "output_type": "execute_result",
          "data": {
            "text/plain": [
              "[244,\n",
              " 225,\n",
              " 960,\n",
              " 270,\n",
              " 366,\n",
              " 341,\n",
              " 433,\n",
              " 428,\n",
              " 433,\n",
              " 428,\n",
              " 428,\n",
              " 484,\n",
              " 224,\n",
              " 428,\n",
              " 374,\n",
              " 428,\n",
              " 465,\n",
              " 433,\n",
              " 240,\n",
              " 428,\n",
              " 428,\n",
              " 274,\n",
              " 433,\n",
              " 262,\n",
              " 414,\n",
              " 456,\n",
              " 246,\n",
              " 428,\n",
              " 494,\n",
              " 428,\n",
              " 436,\n",
              " 433,\n",
              " 259,\n",
              " 285,\n",
              " 212,\n",
              " 428,\n",
              " 428,\n",
              " 516,\n",
              " 428,\n",
              " 194,\n",
              " 433,\n",
              " 433,\n",
              " 433,\n",
              " 428,\n",
              " 233,\n",
              " 428,\n",
              " 428,\n",
              " 428,\n",
              " 400,\n",
              " 168,\n",
              " 417,\n",
              " 267,\n",
              " 208,\n",
              " 256,\n",
              " 225,\n",
              " 428,\n",
              " 428,\n",
              " 222,\n",
              " 433,\n",
              " 433,\n",
              " 428,\n",
              " 428,\n",
              " 194,\n",
              " 283,\n",
              " 372,\n",
              " 428,\n",
              " 400,\n",
              " 193,\n",
              " 428,\n",
              " 274,\n",
              " 640,\n",
              " 428,\n",
              " 433,\n",
              " 196,\n",
              " 428,\n",
              " 450,\n",
              " 248,\n",
              " 428,\n",
              " 540,\n",
              " 329,\n",
              " 265,\n",
              " 428,\n",
              " 152,\n",
              " 170,\n",
              " 428,\n",
              " 428,\n",
              " 227,\n",
              " 289,\n",
              " 428,\n",
              " 351,\n",
              " 433,\n",
              " 960,\n",
              " 428,\n",
              " 275,\n",
              " 225,\n",
              " 433,\n",
              " 428,\n",
              " 594,\n",
              " 428,\n",
              " 584,\n",
              " 428,\n",
              " 433,\n",
              " 442,\n",
              " 434,\n",
              " 418,\n",
              " 344,\n",
              " 194,\n",
              " 650,\n",
              " 322,\n",
              " 428,\n",
              " 249,\n",
              " 428,\n",
              " 225,\n",
              " 960,\n",
              " 258,\n",
              " 244,\n",
              " 428,\n",
              " 428,\n",
              " 300,\n",
              " 590,\n",
              " 225,\n",
              " 194,\n",
              " 250,\n",
              " 433,\n",
              " 428,\n",
              " 433,\n",
              " 449,\n",
              " 331,\n",
              " 428,\n",
              " 428,\n",
              " 428,\n",
              " 178,\n",
              " 433,\n",
              " 428,\n",
              " 433,\n",
              " 247,\n",
              " 455,\n",
              " 224,\n",
              " 390,\n",
              " 246,\n",
              " 433,\n",
              " 247,\n",
              " 502,\n",
              " 266,\n",
              " 554,\n",
              " 423,\n",
              " 275,\n",
              " 442,\n",
              " 433,\n",
              " 251,\n",
              " 720,\n",
              " 432,\n",
              " 480,\n",
              " 260,\n",
              " 281,\n",
              " 382,\n",
              " 268,\n",
              " 433,\n",
              " 428,\n",
              " 416,\n",
              " 458,\n",
              " 433,\n",
              " 433,\n",
              " 405,\n",
              " 428,\n",
              " 166,\n",
              " 428,\n",
              " 251,\n",
              " 418,\n",
              " 960,\n",
              " 263,\n",
              " 281,\n",
              " 428,\n",
              " 288,\n",
              " 576,\n",
              " 428,\n",
              " 359,\n",
              " 428,\n",
              " 461,\n",
              " 433,\n",
              " 549,\n",
              " 363,\n",
              " 502,\n",
              " 428,\n",
              " 259,\n",
              " 235,\n",
              " 433,\n",
              " 203,\n",
              " 577,\n",
              " 182,\n",
              " 428,\n",
              " 272,\n",
              " 157,\n",
              " 446,\n",
              " 428,\n",
              " 428,\n",
              " 220,\n",
              " 367,\n",
              " 489,\n",
              " 428,\n",
              " 225,\n",
              " 433,\n",
              " 428,\n",
              " 225,\n",
              " 433,\n",
              " 428,\n",
              " 442,\n",
              " 428,\n",
              " 433,\n",
              " 428,\n",
              " 433,\n",
              " 428,\n",
              " 428,\n",
              " 395,\n",
              " 395,\n",
              " 417,\n",
              " 400,\n",
              " 225,\n",
              " 960,\n",
              " 316,\n",
              " 455,\n",
              " 313,\n",
              " 261,\n",
              " 194,\n",
              " 640,\n",
              " 428,\n",
              " 428,\n",
              " 382,\n",
              " 428,\n",
              " 428,\n",
              " 428,\n",
              " 384,\n",
              " 428,\n",
              " 428,\n",
              " 511,\n",
              " 174,\n",
              " 267,\n",
              " 428,\n",
              " 339,\n",
              " 276,\n",
              " 517,\n",
              " 384,\n",
              " 423,\n",
              " 428,\n",
              " 206,\n",
              " 428,\n",
              " 433,\n",
              " 258,\n",
              " 433,\n",
              " 428,\n",
              " 639,\n",
              " 195,\n",
              " 183,\n",
              " 433,\n",
              " 428,\n",
              " 310,\n",
              " 433,\n",
              " 275,\n",
              " 428,\n",
              " 338,\n",
              " 428,\n",
              " 433,\n",
              " 433,\n",
              " 428,\n",
              " 480,\n",
              " 521,\n",
              " 493,\n",
              " 428,\n",
              " 427,\n",
              " 428,\n",
              " 309,\n",
              " 299,\n",
              " 217,\n",
              " 496,\n",
              " 218,\n",
              " 428,\n",
              " 297,\n",
              " 428,\n",
              " 428,\n",
              " 428,\n",
              " 183,\n",
              " 362,\n",
              " 428,\n",
              " 428,\n",
              " 428,\n",
              " 428,\n",
              " 183,\n",
              " 184,\n",
              " 168,\n",
              " 428,\n",
              " 428,\n",
              " 507,\n",
              " 168,\n",
              " 428,\n",
              " 408,\n",
              " 411,\n",
              " 213,\n",
              " 428,\n",
              " 378,\n",
              " 428,\n",
              " 428,\n",
              " 340,\n",
              " 499,\n",
              " 466,\n",
              " 246,\n",
              " 428,\n",
              " 428,\n",
              " 241,\n",
              " 416,\n",
              " 217,\n",
              " 960,\n",
              " 425,\n",
              " 237,\n",
              " 433,\n",
              " 254,\n",
              " 275,\n",
              " 221,\n",
              " 253,\n",
              " 141,\n",
              " 433,\n",
              " 442,\n",
              " 420,\n",
              " 428,\n",
              " 277,\n",
              " 640,\n",
              " 428,\n",
              " 183,\n",
              " 518,\n",
              " 230,\n",
              " 433,\n",
              " 428,\n",
              " 433,\n",
              " 433,\n",
              " 428,\n",
              " 248,\n",
              " 275,\n",
              " 768,\n",
              " 344,\n",
              " 385,\n",
              " 283,\n",
              " 169,\n",
              " 908,\n",
              " 800,\n",
              " 181,\n",
              " 267,\n",
              " 168,\n",
              " 259,\n",
              " 183,\n",
              " 433,\n",
              " 433,\n",
              " 259,\n",
              " 428,\n",
              " 428,\n",
              " 332,\n",
              " 433,\n",
              " 347,\n",
              " 452,\n",
              " 225,\n",
              " 439,\n",
              " 428,\n",
              " 428,\n",
              " 252,\n",
              " 428,\n",
              " 276,\n",
              " 433,\n",
              " 433,\n",
              " 433,\n",
              " 428,\n",
              " 433,\n",
              " 381,\n",
              " 443,\n",
              " 248,\n",
              " 274,\n",
              " 428,\n",
              " 428,\n",
              " 249,\n",
              " 455,\n",
              " 433,\n",
              " 258,\n",
              " 428,\n",
              " 263,\n",
              " 338,\n",
              " 428,\n",
              " 428,\n",
              " 217,\n",
              " 417,\n",
              " 248,\n",
              " 428,\n",
              " 433,\n",
              " 428,\n",
              " 428,\n",
              " 428,\n",
              " 428,\n",
              " 217,\n",
              " 428,\n",
              " 322,\n",
              " 417,\n",
              " 446,\n",
              " 166,\n",
              " 203,\n",
              " 538,\n",
              " 275,\n",
              " 439,\n",
              " 428,\n",
              " 864,\n",
              " 428,\n",
              " 428,\n",
              " 428,\n",
              " 225,\n",
              " 303,\n",
              " 264,\n",
              " 433,\n",
              " 720,\n",
              " 428,\n",
              " 428,\n",
              " 428,\n",
              " 428,\n",
              " 280,\n",
              " 720,\n",
              " 221,\n",
              " 433,\n",
              " 411,\n",
              " 428,\n",
              " 720,\n",
              " 720,\n",
              " 428,\n",
              " 428,\n",
              " 183,\n",
              " 446,\n",
              " 433,\n",
              " 254,\n",
              " 165,\n",
              " 433,\n",
              " 428,\n",
              " 501,\n",
              " 428,\n",
              " 428,\n",
              " 433,\n",
              " 428,\n",
              " 433,\n",
              " 428,\n",
              " 326,\n",
              " 960,\n",
              " 428,\n",
              " 254,\n",
              " 428,\n",
              " 417,\n",
              " 262,\n",
              " 720,\n",
              " 254,\n",
              " 417,\n",
              " 433,\n",
              " 443,\n",
              " 208,\n",
              " 428,\n",
              " 433,\n",
              " 428,\n",
              " 248,\n",
              " 428,\n",
              " 240,\n",
              " 338,\n",
              " 338,\n",
              " 800,\n",
              " 428,\n",
              " 208,\n",
              " 433,\n",
              " 428,\n",
              " 428,\n",
              " 247,\n",
              " 208,\n",
              " 208,\n",
              " 208,\n",
              " 428,\n",
              " 433,\n",
              " 411,\n",
              " 428,\n",
              " 382,\n",
              " 194,\n",
              " 428,\n",
              " 428,\n",
              " 258,\n",
              " 183,\n",
              " 428,\n",
              " 864,\n",
              " 428,\n",
              " 864,\n",
              " 277,\n",
              " 428,\n",
              " 258,\n",
              " 960,\n",
              " 428,\n",
              " 428,\n",
              " 428,\n",
              " 281,\n",
              " 382,\n",
              " 258,\n",
              " 183,\n",
              " 267,\n",
              " 277,\n",
              " 217,\n",
              " 428,\n",
              " 347,\n",
              " 428,\n",
              " 428,\n",
              " 382,\n",
              " 251,\n",
              " 382,\n",
              " 217,\n",
              " 183,\n",
              " 428,\n",
              " 281,\n",
              " 428,\n",
              " 428,\n",
              " 864,\n",
              " 267,\n",
              " 428,\n",
              " 258,\n",
              " 281,\n",
              " 382,\n",
              " 225,\n",
              " 217,\n",
              " 347,\n",
              " 277,\n",
              " 217,\n",
              " 225,\n",
              " 258,\n",
              " 281,\n",
              " 251,\n",
              " 281,\n",
              " 960,\n",
              " 960,\n",
              " 864,\n",
              " 217,\n",
              " 251,\n",
              " 428,\n",
              " 960,\n",
              " 277,\n",
              " 428,\n",
              " 347,\n",
              " 960,\n",
              " 864,\n",
              " 428,\n",
              " 194,\n",
              " 194,\n",
              " 428]"
            ]
          },
          "metadata": {
            "tags": []
          },
          "execution_count": 171
        }
      ]
    },
    {
      "cell_type": "code",
      "metadata": {
        "id": "pjnI3ou3v305",
        "colab_type": "code",
        "colab": {
          "base_uri": "https://localhost:8080/",
          "height": 1000
        },
        "outputId": "39c3974f-5587-4440-e816-a21a6b4cde38"
      },
      "source": [
        "avg_height"
      ],
      "execution_count": 172,
      "outputs": [
        {
          "output_type": "execute_result",
          "data": {
            "text/plain": [
              "[214,\n",
              " 154,\n",
              " 594,\n",
              " 180,\n",
              " 274,\n",
              " 324,\n",
              " 320,\n",
              " 320,\n",
              " 320,\n",
              " 320,\n",
              " 320,\n",
              " 428,\n",
              " 225,\n",
              " 320,\n",
              " 296,\n",
              " 320,\n",
              " 379,\n",
              " 320,\n",
              " 225,\n",
              " 320,\n",
              " 320,\n",
              " 184,\n",
              " 327,\n",
              " 192,\n",
              " 338,\n",
              " 341,\n",
              " 205,\n",
              " 320,\n",
              " 441,\n",
              " 320,\n",
              " 322,\n",
              " 327,\n",
              " 195,\n",
              " 236,\n",
              " 238,\n",
              " 320,\n",
              " 320,\n",
              " 740,\n",
              " 320,\n",
              " 259,\n",
              " 320,\n",
              " 327,\n",
              " 320,\n",
              " 320,\n",
              " 203,\n",
              " 320,\n",
              " 320,\n",
              " 320,\n",
              " 273,\n",
              " 300,\n",
              " 340,\n",
              " 189,\n",
              " 165,\n",
              " 197,\n",
              " 225,\n",
              " 320,\n",
              " 320,\n",
              " 110,\n",
              " 327,\n",
              " 327,\n",
              " 320,\n",
              " 320,\n",
              " 259,\n",
              " 188,\n",
              " 285,\n",
              " 320,\n",
              " 295,\n",
              " 261,\n",
              " 320,\n",
              " 184,\n",
              " 480,\n",
              " 320,\n",
              " 327,\n",
              " 257,\n",
              " 320,\n",
              " 503,\n",
              " 203,\n",
              " 320,\n",
              " 720,\n",
              " 207,\n",
              " 190,\n",
              " 320,\n",
              " 270,\n",
              " 296,\n",
              " 320,\n",
              " 320,\n",
              " 222,\n",
              " 201,\n",
              " 320,\n",
              " 312,\n",
              " 327,\n",
              " 768,\n",
              " 320,\n",
              " 183,\n",
              " 225,\n",
              " 320,\n",
              " 320,\n",
              " 512,\n",
              " 320,\n",
              " 374,\n",
              " 320,\n",
              " 320,\n",
              " 318,\n",
              " 321,\n",
              " 300,\n",
              " 266,\n",
              " 259,\n",
              " 797,\n",
              " 309,\n",
              " 320,\n",
              " 202,\n",
              " 320,\n",
              " 225,\n",
              " 956,\n",
              " 196,\n",
              " 206,\n",
              " 320,\n",
              " 320,\n",
              " 300,\n",
              " 513,\n",
              " 225,\n",
              " 260,\n",
              " 226,\n",
              " 327,\n",
              " 320,\n",
              " 320,\n",
              " 313,\n",
              " 264,\n",
              " 320,\n",
              " 320,\n",
              " 320,\n",
              " 150,\n",
              " 327,\n",
              " 320,\n",
              " 320,\n",
              " 204,\n",
              " 297,\n",
              " 225,\n",
              " 345,\n",
              " 205,\n",
              " 320,\n",
              " 209,\n",
              " 377,\n",
              " 189,\n",
              " 353,\n",
              " 313,\n",
              " 183,\n",
              " 318,\n",
              " 327,\n",
              " 205,\n",
              " 720,\n",
              " 408,\n",
              " 480,\n",
              " 194,\n",
              " 179,\n",
              " 341,\n",
              " 188,\n",
              " 320,\n",
              " 320,\n",
              " 351,\n",
              " 317,\n",
              " 320,\n",
              " 320,\n",
              " 277,\n",
              " 320,\n",
              " 303,\n",
              " 320,\n",
              " 166,\n",
              " 365,\n",
              " 576,\n",
              " 191,\n",
              " 179,\n",
              " 320,\n",
              " 279,\n",
              " 398,\n",
              " 320,\n",
              " 242,\n",
              " 320,\n",
              " 280,\n",
              " 327,\n",
              " 356,\n",
              " 322,\n",
              " 353,\n",
              " 320,\n",
              " 194,\n",
              " 148,\n",
              " 327,\n",
              " 249,\n",
              " 362,\n",
              " 276,\n",
              " 320,\n",
              " 209,\n",
              " 155,\n",
              " 292,\n",
              " 320,\n",
              " 320,\n",
              " 229,\n",
              " 349,\n",
              " 388,\n",
              " 320,\n",
              " 225,\n",
              " 320,\n",
              " 320,\n",
              " 225,\n",
              " 327,\n",
              " 320,\n",
              " 318,\n",
              " 320,\n",
              " 327,\n",
              " 320,\n",
              " 320,\n",
              " 320,\n",
              " 320,\n",
              " 315,\n",
              " 363,\n",
              " 290,\n",
              " 437,\n",
              " 225,\n",
              " 768,\n",
              " 214,\n",
              " 444,\n",
              " 316,\n",
              " 193,\n",
              " 259,\n",
              " 480,\n",
              " 320,\n",
              " 320,\n",
              " 658,\n",
              " 320,\n",
              " 320,\n",
              " 320,\n",
              " 308,\n",
              " 320,\n",
              " 320,\n",
              " 396,\n",
              " 290,\n",
              " 189,\n",
              " 320,\n",
              " 323,\n",
              " 198,\n",
              " 405,\n",
              " 291,\n",
              " 346,\n",
              " 320,\n",
              " 245,\n",
              " 320,\n",
              " 320,\n",
              " 189,\n",
              " 320,\n",
              " 320,\n",
              " 639,\n",
              " 258,\n",
              " 275,\n",
              " 320,\n",
              " 320,\n",
              " 250,\n",
              " 320,\n",
              " 183,\n",
              " 320,\n",
              " 271,\n",
              " 320,\n",
              " 320,\n",
              " 320,\n",
              " 320,\n",
              " 640,\n",
              " 538,\n",
              " 324,\n",
              " 320,\n",
              " 336,\n",
              " 320,\n",
              " 278,\n",
              " 168,\n",
              " 232,\n",
              " 511,\n",
              " 200,\n",
              " 320,\n",
              " 236,\n",
              " 320,\n",
              " 320,\n",
              " 320,\n",
              " 275,\n",
              " 345,\n",
              " 320,\n",
              " 320,\n",
              " 320,\n",
              " 320,\n",
              " 276,\n",
              " 273,\n",
              " 299,\n",
              " 320,\n",
              " 320,\n",
              " 491,\n",
              " 299,\n",
              " 320,\n",
              " 363,\n",
              " 408,\n",
              " 191,\n",
              " 320,\n",
              " 427,\n",
              " 320,\n",
              " 320,\n",
              " 354,\n",
              " 301,\n",
              " 337,\n",
              " 205,\n",
              " 320,\n",
              " 320,\n",
              " 167,\n",
              " 301,\n",
              " 232,\n",
              " 960,\n",
              " 398,\n",
              " 213,\n",
              " 320,\n",
              " 199,\n",
              " 183,\n",
              " 156,\n",
              " 199,\n",
              " 114,\n",
              " 320,\n",
              " 318,\n",
              " 317,\n",
              " 320,\n",
              " 289,\n",
              " 480,\n",
              " 320,\n",
              " 275,\n",
              " 467,\n",
              " 167,\n",
              " 320,\n",
              " 320,\n",
              " 320,\n",
              " 320,\n",
              " 320,\n",
              " 261,\n",
              " 183,\n",
              " 960,\n",
              " 353,\n",
              " 441,\n",
              " 250,\n",
              " 299,\n",
              " 600,\n",
              " 450,\n",
              " 278,\n",
              " 209,\n",
              " 300,\n",
              " 194,\n",
              " 275,\n",
              " 320,\n",
              " 320,\n",
              " 195,\n",
              " 320,\n",
              " 320,\n",
              " 230,\n",
              " 327,\n",
              " 263,\n",
              " 298,\n",
              " 225,\n",
              " 589,\n",
              " 320,\n",
              " 320,\n",
              " 237,\n",
              " 320,\n",
              " 182,\n",
              " 327,\n",
              " 327,\n",
              " 320,\n",
              " 320,\n",
              " 320,\n",
              " 276,\n",
              " 338,\n",
              " 203,\n",
              " 184,\n",
              " 320,\n",
              " 320,\n",
              " 167,\n",
              " 332,\n",
              " 320,\n",
              " 209,\n",
              " 320,\n",
              " 244,\n",
              " 271,\n",
              " 320,\n",
              " 320,\n",
              " 232,\n",
              " 290,\n",
              " 203,\n",
              " 320,\n",
              " 327,\n",
              " 320,\n",
              " 320,\n",
              " 320,\n",
              " 320,\n",
              " 232,\n",
              " 320,\n",
              " 231,\n",
              " 290,\n",
              " 324,\n",
              " 303,\n",
              " 187,\n",
              " 341,\n",
              " 183,\n",
              " 473,\n",
              " 320,\n",
              " 864,\n",
              " 320,\n",
              " 320,\n",
              " 320,\n",
              " 225,\n",
              " 244,\n",
              " 191,\n",
              " 327,\n",
              " 540,\n",
              " 320,\n",
              " 320,\n",
              " 320,\n",
              " 320,\n",
              " 226,\n",
              " 540,\n",
              " 228,\n",
              " 320,\n",
              " 408,\n",
              " 320,\n",
              " 540,\n",
              " 540,\n",
              " 320,\n",
              " 320,\n",
              " 275,\n",
              " 459,\n",
              " 320,\n",
              " 199,\n",
              " 306,\n",
              " 327,\n",
              " 320,\n",
              " 412,\n",
              " 320,\n",
              " 320,\n",
              " 327,\n",
              " 320,\n",
              " 327,\n",
              " 320,\n",
              " 307,\n",
              " 540,\n",
              " 320,\n",
              " 199,\n",
              " 320,\n",
              " 290,\n",
              " 192,\n",
              " 540,\n",
              " 199,\n",
              " 290,\n",
              " 320,\n",
              " 313,\n",
              " 242,\n",
              " 320,\n",
              " 320,\n",
              " 320,\n",
              " 203,\n",
              " 320,\n",
              " 224,\n",
              " 271,\n",
              " 271,\n",
              " 531,\n",
              " 320,\n",
              " 165,\n",
              " 320,\n",
              " 320,\n",
              " 320,\n",
              " 209,\n",
              " 165,\n",
              " 165,\n",
              " 165,\n",
              " 320,\n",
              " 320,\n",
              " 408,\n",
              " 320,\n",
              " 658,\n",
              " 259,\n",
              " 320,\n",
              " 320,\n",
              " 189,\n",
              " 275,\n",
              " 320,\n",
              " 864,\n",
              " 320,\n",
              " 864,\n",
              " 289,\n",
              " 320,\n",
              " 189,\n",
              " 576,\n",
              " 320,\n",
              " 320,\n",
              " 320,\n",
              " 179,\n",
              " 658,\n",
              " 189,\n",
              " 275,\n",
              " 209,\n",
              " 289,\n",
              " 232,\n",
              " 320,\n",
              " 263,\n",
              " 320,\n",
              " 320,\n",
              " 658,\n",
              " 166,\n",
              " 658,\n",
              " 232,\n",
              " 275,\n",
              " 320,\n",
              " 179,\n",
              " 320,\n",
              " 320,\n",
              " 864,\n",
              " 209,\n",
              " 320,\n",
              " 189,\n",
              " 179,\n",
              " 658,\n",
              " 154,\n",
              " 232,\n",
              " 263,\n",
              " 289,\n",
              " 232,\n",
              " 154,\n",
              " 189,\n",
              " 179,\n",
              " 166,\n",
              " 179,\n",
              " 768,\n",
              " 768,\n",
              " 864,\n",
              " 232,\n",
              " 166,\n",
              " 320,\n",
              " 768,\n",
              " 289,\n",
              " 320,\n",
              " 263,\n",
              " 576,\n",
              " 864,\n",
              " 320,\n",
              " 259,\n",
              " 259,\n",
              " 320]"
            ]
          },
          "metadata": {
            "tags": []
          },
          "execution_count": 172
        }
      ]
    },
    {
      "cell_type": "code",
      "metadata": {
        "id": "uMfwAaLVv308",
        "colab_type": "code",
        "colab": {
          "base_uri": "https://localhost:8080/",
          "height": 286
        },
        "outputId": "368a7131-17ab-4a82-b957-5be0ae939e5a"
      },
      "source": [
        "sns.scatterplot(avg_width,avg_height)"
      ],
      "execution_count": 173,
      "outputs": [
        {
          "output_type": "execute_result",
          "data": {
            "text/plain": [
              "<matplotlib.axes._subplots.AxesSubplot at 0x7f8be549e908>"
            ]
          },
          "metadata": {
            "tags": []
          },
          "execution_count": 173
        },
        {
          "output_type": "display_data",
          "data": {
            "image/png": "[encoded data removed]",
            "text/plain": [
              "<Figure size 432x288 with 1 Axes>"
            ]
          },
          "metadata": {
            "tags": [],
            "needs_background": "light"
          }
        }
      ]
    },
    {
      "cell_type": "code",
      "metadata": {
        "id": "db1SOfF8v30-",
        "colab_type": "code",
        "colab": {
          "base_uri": "https://localhost:8080/",
          "height": 34
        },
        "outputId": "b521f9f6-6bcc-4b05-b23c-ad73f9e2c817"
      },
      "source": [
        "np.mean(avg_width)"
      ],
      "execution_count": 174,
      "outputs": [
        {
          "output_type": "execute_result",
          "data": {
            "text/plain": [
              "390.20917431192663"
            ]
          },
          "metadata": {
            "tags": []
          },
          "execution_count": 174
        }
      ]
    },
    {
      "cell_type": "code",
      "metadata": {
        "id": "N_f1BTMmv31B",
        "colab_type": "code",
        "colab": {
          "base_uri": "https://localhost:8080/",
          "height": 34
        },
        "outputId": "49efe3cb-9392-493c-ddd7-3078ec2f0eee"
      },
      "source": [
        "np.mean(avg_height)"
      ],
      "execution_count": 175,
      "outputs": [
        {
          "output_type": "execute_result",
          "data": {
            "text/plain": [
              "320.2862385321101"
            ]
          },
          "metadata": {
            "tags": []
          },
          "execution_count": 175
        }
      ]
    },
    {
      "cell_type": "code",
      "metadata": {
        "id": "11cCPVYyiGNP",
        "colab_type": "code",
        "colab": {
          "base_uri": "https://localhost:8080/",
          "height": 840
        },
        "outputId": "2b956485-eb59-41a3-d229-41c99171d829"
      },
      "source": [
        "preprocess_input(sam)"
      ],
      "execution_count": 176,
      "outputs": [
        {
          "output_type": "execute_result",
          "data": {
            "text/plain": [
              "array([[[-0.94509804, -0.9764706 , -0.85882354],\n",
              "        [-0.94509804, -0.9764706 , -0.85882354],\n",
              "        [-0.94509804, -0.9764706 , -0.85882354],\n",
              "        ...,\n",
              "        [-0.8509804 , -0.90588236, -0.78039217],\n",
              "        [-0.8509804 , -0.90588236, -0.78039217],\n",
              "        [-0.84313726, -0.8980392 , -0.77254903]],\n",
              "\n",
              "       [[-0.9137255 , -0.94509804, -0.827451  ],\n",
              "        [-0.9137255 , -0.94509804, -0.827451  ],\n",
              "        [-0.9137255 , -0.94509804, -0.827451  ],\n",
              "        ...,\n",
              "        [-0.7647059 , -0.79607844, -0.6784314 ],\n",
              "        [-0.7647059 , -0.79607844, -0.6784314 ],\n",
              "        [-0.75686276, -0.7882353 , -0.67058825]],\n",
              "\n",
              "       [[-0.8980392 , -0.92941177, -0.79607844],\n",
              "        [-0.8980392 , -0.92941177, -0.79607844],\n",
              "        [-0.8980392 , -0.92941177, -0.79607844],\n",
              "        ...,\n",
              "        [-0.8509804 , -0.88235295, -0.7647059 ],\n",
              "        [-0.84313726, -0.8745098 , -0.75686276],\n",
              "        [-0.8352941 , -0.8666667 , -0.7490196 ]],\n",
              "\n",
              "       ...,\n",
              "\n",
              "       [[ 0.3411765 , -0.9607843 , -0.3960784 ],\n",
              "        [ 0.33333337, -0.9607843 , -0.42745095],\n",
              "        [ 0.3176471 , -0.96862745, -0.47450978],\n",
              "        ...,\n",
              "        [-1.        , -1.        , -1.        ],\n",
              "        [-1.        , -1.        , -1.        ],\n",
              "        [-1.        , -1.        , -1.        ]],\n",
              "\n",
              "       [[ 0.2941177 , -0.9529412 , -0.42745095],\n",
              "        [ 0.27058828, -0.9764706 , -0.47450978],\n",
              "        [ 0.24705887, -0.96862745, -0.5137255 ],\n",
              "        ...,\n",
              "        [-1.        , -1.        , -1.        ],\n",
              "        [-1.        , -1.        , -1.        ],\n",
              "        [-1.        , -1.        , -1.        ]],\n",
              "\n",
              "       [[ 0.254902  , -0.94509804, -0.44313723],\n",
              "        [ 0.22352946, -0.96862745, -0.5058824 ],\n",
              "        [ 0.20000005, -0.96862745, -0.5372549 ],\n",
              "        ...,\n",
              "        [-1.        , -1.        , -1.        ],\n",
              "        [-1.        , -1.        , -1.        ],\n",
              "        [-1.        , -1.        , -1.        ]]], dtype=float32)"
            ]
          },
          "metadata": {
            "tags": []
          },
          "execution_count": 176
        }
      ]
    },
    {
      "cell_type": "code",
      "metadata": {
        "id": "2jOYsRQUiGP7",
        "colab_type": "code",
        "colab": {}
      },
      "source": [
        ""
      ],
      "execution_count": 0,
      "outputs": []
    },
    {
      "cell_type": "code",
      "metadata": {
        "id": "zkOqADrgv31E",
        "colab_type": "code",
        "colab": {}
      },
      "source": [
        "# using image data generator lets generate our training and testing images"
      ],
      "execution_count": 0,
      "outputs": []
    },
    {
      "cell_type": "code",
      "metadata": {
        "id": "738ZVyr0v31G",
        "colab_type": "code",
        "colab": {}
      },
      "source": [
        "from tensorflow.keras.preprocessing.image import ImageDataGenerator,img_to_array"
      ],
      "execution_count": 0,
      "outputs": []
    },
    {
      "cell_type": "code",
      "metadata": {
        "id": "twg6qGDnv31J",
        "colab_type": "code",
        "colab": {}
      },
      "source": [
        "img_gen = ImageDataGenerator(rotation_range=20,#in degrees\n",
        "    width_shift_range=0.1,#the images will have a max width shift of 10%\n",
        "    height_shift_range=0.1,\n",
        "    shear_range=0.1, # max of 10% of the image will be cut\n",
        "    zoom_range=0.1, # zoom upto 10%\n",
        "    fill_mode='nearest',# fill up the empty spaces with nearest pixel values\n",
        "    rescale = 1/255,\n",
        "    horizontal_flip=True)"
      ],
      "execution_count": 0,
      "outputs": []
    },
    {
      "cell_type": "code",
      "metadata": {
        "id": "QV2NpT_lv31M",
        "colab_type": "code",
        "outputId": "7ebd4584-fdb8-4660-d7d3-0681ad53350b",
        "colab": {
          "base_uri": "https://localhost:8080/",
          "height": 286
        }
      },
      "source": [
        "plt.imshow(sam)"
      ],
      "execution_count": 180,
      "outputs": [
        {
          "output_type": "execute_result",
          "data": {
            "text/plain": [
              "<matplotlib.image.AxesImage at 0x7f8be5435860>"
            ]
          },
          "metadata": {
            "tags": []
          },
          "execution_count": 180
        },
        {
          "output_type": "display_data",
          "data": {
            "image/png": "[encoded data removed]",
            "text/plain": [
              "<Figure size 432x288 with 1 Axes>"
            ]
          },
          "metadata": {
            "tags": [],
            "needs_background": "light"
          }
        }
      ]
    },
    {
      "cell_type": "code",
      "metadata": {
        "id": "4GtvFDcxv31O",
        "colab_type": "code",
        "outputId": "0d784929-b734-4f0a-c1e6-70d1b1e4f329",
        "colab": {
          "base_uri": "https://localhost:8080/",
          "height": 286
        }
      },
      "source": [
        "plt.imshow(img_gen.random_transform(sam))"
      ],
      "execution_count": 181,
      "outputs": [
        {
          "output_type": "execute_result",
          "data": {
            "text/plain": [
              "<matplotlib.image.AxesImage at 0x7f8be538ac50>"
            ]
          },
          "metadata": {
            "tags": []
          },
          "execution_count": 181
        },
        {
          "output_type": "display_data",
          "data": {
            "image/png": "[encoded data removed]",
            "text/plain": [
              "<Figure size 432x288 with 1 Axes>"
            ]
          },
          "metadata": {
            "tags": [],
            "needs_background": "light"
          }
        }
      ]
    },
    {
      "cell_type": "code",
      "metadata": {
        "id": "JfM98zd3v31R",
        "colab_type": "code",
        "outputId": "eb2bf36d-0edb-4559-afee-1c87b583f13c",
        "colab": {
          "base_uri": "https://localhost:8080/",
          "height": 50
        }
      },
      "source": [
        "img_gen.flow_from_directory(train_path)"
      ],
      "execution_count": 182,
      "outputs": [
        {
          "output_type": "stream",
          "text": [
            "Found 1090 images belonging to 2 classes.\n"
          ],
          "name": "stdout"
        },
        {
          "output_type": "execute_result",
          "data": {
            "text/plain": [
              "<keras_preprocessing.image.directory_iterator.DirectoryIterator at 0x7f8be539df28>"
            ]
          },
          "metadata": {
            "tags": []
          },
          "execution_count": 182
        }
      ]
    },
    {
      "cell_type": "code",
      "metadata": {
        "id": "txSV0DiRv31T",
        "colab_type": "code",
        "outputId": "2828f0ae-e4ac-4299-803a-565f4a9e549c",
        "colab": {
          "base_uri": "https://localhost:8080/",
          "height": 50
        }
      },
      "source": [
        "img_gen.flow_from_directory(test_path)"
      ],
      "execution_count": 183,
      "outputs": [
        {
          "output_type": "stream",
          "text": [
            "Found 306 images belonging to 2 classes.\n"
          ],
          "name": "stdout"
        },
        {
          "output_type": "execute_result",
          "data": {
            "text/plain": [
              "<keras_preprocessing.image.directory_iterator.DirectoryIterator at 0x7f8be5403978>"
            ]
          },
          "metadata": {
            "tags": []
          },
          "execution_count": 183
        }
      ]
    },
    {
      "cell_type": "code",
      "metadata": {
        "id": "YIyyfWMtv31W",
        "colab_type": "code",
        "outputId": "92ce4ec9-d648-4da7-c2be-2210b7ce1cc4",
        "colab": {
          "base_uri": "https://localhost:8080/",
          "height": 34
        }
      },
      "source": [
        "train_imgs = img_gen.flow_from_directory(train_path)"
      ],
      "execution_count": 184,
      "outputs": [
        {
          "output_type": "stream",
          "text": [
            "Found 1090 images belonging to 2 classes.\n"
          ],
          "name": "stdout"
        }
      ]
    },
    {
      "cell_type": "code",
      "metadata": {
        "id": "VjC_MY9Tv31a",
        "colab_type": "code",
        "outputId": "0990f55b-080b-4141-980d-7d737fb79241",
        "colab": {
          "base_uri": "https://localhost:8080/",
          "height": 34
        }
      },
      "source": [
        "train_imgs.class_indices"
      ],
      "execution_count": 185,
      "outputs": [
        {
          "output_type": "execute_result",
          "data": {
            "text/plain": [
              "{'with_mask': 0, 'without_mask': 1}"
            ]
          },
          "metadata": {
            "tags": []
          },
          "execution_count": 185
        }
      ]
    },
    {
      "cell_type": "code",
      "metadata": {
        "id": "m2VgC_ZKv31c",
        "colab_type": "code",
        "colab": {}
      },
      "source": [
        "#the categories have been assigned according to the folder names where 'with_mask': 0, 'without_mask': 1"
      ],
      "execution_count": 0,
      "outputs": []
    },
    {
      "cell_type": "code",
      "metadata": {
        "id": "X84wiSZMv31e",
        "colab_type": "code",
        "colab": {}
      },
      "source": [
        "new_shape = (224,224,3)"
      ],
      "execution_count": 0,
      "outputs": []
    },
    {
      "cell_type": "code",
      "metadata": {
        "id": "5HovzCm-v31g",
        "colab_type": "code",
        "outputId": "7dfd13d7-8564-4737-c6a1-fa3b13d5baa3",
        "colab": {
          "base_uri": "https://localhost:8080/",
          "height": 34
        }
      },
      "source": [
        "train_imgs = img_gen.flow_from_directory(train_path,\n",
        "                                         target_size=new_shape[0:2],\n",
        "                                         color_mode='rgb',\n",
        "                                        batch_size=32,\n",
        "                                        shuffle=False)"
      ],
      "execution_count": 188,
      "outputs": [
        {
          "output_type": "stream",
          "text": [
            "Found 1090 images belonging to 2 classes.\n"
          ],
          "name": "stdout"
        }
      ]
    },
    {
      "cell_type": "code",
      "metadata": {
        "id": "_okuPlxIv31i",
        "colab_type": "code",
        "outputId": "15fa11f2-f8b6-46c4-d650-7be7efeeb3cf",
        "colab": {
          "base_uri": "https://localhost:8080/",
          "height": 34
        }
      },
      "source": [
        "test_imgs = img_gen.flow_from_directory(test_path,\n",
        "                                         target_size=new_shape[0:2],\n",
        "                                         color_mode='rgb',\n",
        "                                        batch_size=32,\n",
        "                                        shuffle=False)"
      ],
      "execution_count": 189,
      "outputs": [
        {
          "output_type": "stream",
          "text": [
            "Found 306 images belonging to 2 classes.\n"
          ],
          "name": "stdout"
        }
      ]
    },
    {
      "cell_type": "code",
      "metadata": {
        "id": "z_PEYnZpv31k",
        "colab_type": "code",
        "outputId": "6dcf3505-25b0-4190-d27e-17eb3573d1d1",
        "colab": {
          "base_uri": "https://localhost:8080/",
          "height": 34
        }
      },
      "source": [
        "train_imgs[0][0].shape"
      ],
      "execution_count": 190,
      "outputs": [
        {
          "output_type": "execute_result",
          "data": {
            "text/plain": [
              "(32, 224, 224, 3)"
            ]
          },
          "metadata": {
            "tags": []
          },
          "execution_count": 190
        }
      ]
    },
    {
      "cell_type": "code",
      "metadata": {
        "id": "GzWs7m9MkqwJ",
        "colab_type": "code",
        "outputId": "5fdccfc6-8efc-4175-fd90-d3d6ab04468a",
        "colab": {
          "base_uri": "https://localhost:8080/",
          "height": 1000
        }
      },
      "source": [
        "train_imgs[0][0]"
      ],
      "execution_count": 191,
      "outputs": [
        {
          "output_type": "execute_result",
          "data": {
            "text/plain": [
              "array([[[[0.24697968, 0.2619229 , 0.17685857],\n",
              "         [0.2223867 , 0.24820776, 0.155817  ],\n",
              "         [0.19424115, 0.2254567 , 0.12472946],\n",
              "         ...,\n",
              "         [0.39361307, 0.24829184, 0.11069211],\n",
              "         [0.23849115, 0.15927644, 0.03940823],\n",
              "         [0.199926  , 0.1739381 , 0.07584892]],\n",
              "\n",
              "        [[0.22863784, 0.24365084, 0.16147338],\n",
              "         [0.20127669, 0.22305454, 0.1337212 ],\n",
              "         [0.17498606, 0.19898942, 0.10210055],\n",
              "         ...,\n",
              "         [0.450035  , 0.28190407, 0.136702  ],\n",
              "         [0.31263828, 0.2039755 , 0.06860071],\n",
              "         [0.16432971, 0.11158987, 0.        ]],\n",
              "\n",
              "        [[0.20653681, 0.21691689, 0.13616733],\n",
              "         [0.18021536, 0.19826986, 0.11190013],\n",
              "         [0.16259994, 0.18180373, 0.08946597],\n",
              "         ...,\n",
              "         [0.49503997, 0.32430518, 0.17860548],\n",
              "         [0.38709033, 0.2644007 , 0.11726176],\n",
              "         [0.2621164 , 0.19872169, 0.06845289]],\n",
              "\n",
              "        ...,\n",
              "\n",
              "        [[0.11993957, 0.16719152, 0.19980688],\n",
              "         [0.13420102, 0.17254902, 0.2061078 ],\n",
              "         [0.131837  , 0.16663858, 0.19211942],\n",
              "         ...,\n",
              "         [0.08235294, 0.04705883, 0.0509804 ],\n",
              "         [0.08235294, 0.04705883, 0.0509804 ],\n",
              "         [0.08235294, 0.04705883, 0.0509804 ]],\n",
              "\n",
              "        [[0.12222349, 0.16810508, 0.20117724],\n",
              "         [0.1346578 , 0.17254902, 0.20519422],\n",
              "         [0.12681235, 0.16115715, 0.18481083],\n",
              "         ...,\n",
              "         [0.08235294, 0.04705883, 0.0509804 ],\n",
              "         [0.08235294, 0.04705883, 0.0509804 ],\n",
              "         [0.08235294, 0.04705883, 0.0509804 ]],\n",
              "\n",
              "        [[0.12450743, 0.16901867, 0.2025476 ],\n",
              "         [0.1351146 , 0.17254902, 0.20428066],\n",
              "         [0.1217877 , 0.15567571, 0.17750226],\n",
              "         ...,\n",
              "         [0.08235294, 0.04705883, 0.0509804 ],\n",
              "         [0.08235294, 0.04705883, 0.0509804 ],\n",
              "         [0.08235294, 0.04705883, 0.0509804 ]]],\n",
              "\n",
              "\n",
              "       [[[0.9803922 , 0.9803922 , 0.9725491 ],\n",
              "         [0.9803922 , 0.9803922 , 0.9725491 ],\n",
              "         [0.9803922 , 0.9803922 , 0.9725491 ],\n",
              "         ...,\n",
              "         [0.9843138 , 0.9843138 , 0.97647065],\n",
              "         [0.9843138 , 0.9843138 , 0.97647065],\n",
              "         [0.9843138 , 0.9843138 , 0.97647065]],\n",
              "\n",
              "        [[0.9803922 , 0.9803922 , 0.9725491 ],\n",
              "         [0.9803922 , 0.9803922 , 0.9725491 ],\n",
              "         [0.9803922 , 0.9803922 , 0.9725491 ],\n",
              "         ...,\n",
              "         [0.9843138 , 0.9843138 , 0.97647065],\n",
              "         [0.9843138 , 0.9843138 , 0.97647065],\n",
              "         [0.9843138 , 0.9843138 , 0.97647065]],\n",
              "\n",
              "        [[0.9803922 , 0.9803922 , 0.9725491 ],\n",
              "         [0.9803922 , 0.9803922 , 0.9725491 ],\n",
              "         [0.9803922 , 0.9803922 , 0.9725491 ],\n",
              "         ...,\n",
              "         [0.9843138 , 0.9843138 , 0.97647065],\n",
              "         [0.9843138 , 0.9843138 , 0.97647065],\n",
              "         [0.9843138 , 0.9843138 , 0.97647065]],\n",
              "\n",
              "        ...,\n",
              "\n",
              "        [[1.        , 1.        , 1.        ],\n",
              "         [1.        , 1.        , 1.        ],\n",
              "         [1.        , 1.        , 1.        ],\n",
              "         ...,\n",
              "         [0.09019608, 0.09019608, 0.08235294],\n",
              "         [0.08696476, 0.08696476, 0.07912163],\n",
              "         [0.07907963, 0.07907963, 0.07123649]],\n",
              "\n",
              "        [[1.        , 1.        , 1.        ],\n",
              "         [1.        , 1.        , 1.        ],\n",
              "         [1.        , 1.        , 1.        ],\n",
              "         ...,\n",
              "         [0.09019608, 0.09019608, 0.08235294],\n",
              "         [0.08734848, 0.08734848, 0.07950534],\n",
              "         [0.07984705, 0.07984705, 0.07200392]],\n",
              "\n",
              "        [[1.        , 1.        , 1.        ],\n",
              "         [1.        , 1.        , 1.        ],\n",
              "         [1.        , 1.        , 1.        ],\n",
              "         ...,\n",
              "         [0.09019608, 0.09019608, 0.08235294],\n",
              "         [0.0877322 , 0.0877322 , 0.07988906],\n",
              "         [0.08061448, 0.08061448, 0.07277135]]],\n",
              "\n",
              "\n",
              "       [[[0.8705883 , 0.87843144, 0.8745099 ],\n",
              "         [0.8705883 , 0.87843144, 0.8745099 ],\n",
              "         [0.8705883 , 0.87843144, 0.8745099 ],\n",
              "         ...,\n",
              "         [0.77647066, 0.79215693, 0.80392164],\n",
              "         [0.77647066, 0.79215693, 0.80392164],\n",
              "         [0.77647066, 0.79215693, 0.80392164]],\n",
              "\n",
              "        [[0.8705883 , 0.87843144, 0.8745099 ],\n",
              "         [0.8705883 , 0.87843144, 0.8745099 ],\n",
              "         [0.8705883 , 0.87843144, 0.8745099 ],\n",
              "         ...,\n",
              "         [0.77647066, 0.79215693, 0.80392164],\n",
              "         [0.7769867 , 0.792673  , 0.8044377 ],\n",
              "         [0.7777847 , 0.793471  , 0.8052357 ]],\n",
              "\n",
              "        [[0.8705883 , 0.87843144, 0.8745099 ],\n",
              "         [0.8705883 , 0.87843144, 0.8745099 ],\n",
              "         [0.8705883 , 0.87843144, 0.8745099 ],\n",
              "         ...,\n",
              "         [0.7834505 , 0.79913676, 0.81090146],\n",
              "         [0.7842484 , 0.7999347 , 0.8116994 ],\n",
              "         [0.78468007, 0.80036634, 0.81213105]],\n",
              "\n",
              "        ...,\n",
              "\n",
              "        [[0.7093288 , 0.82745105, 0.88378996],\n",
              "         [0.7137174 , 0.82745105, 0.88698167],\n",
              "         [0.7181061 , 0.82745105, 0.8901734 ],\n",
              "         ...,\n",
              "         [0.1635018 , 0.2671836 , 0.32409376],\n",
              "         [0.17578912, 0.277816  , 0.33084014],\n",
              "         [0.17480548, 0.26503846, 0.32104167]],\n",
              "\n",
              "        [[0.73637897, 0.8168365 , 0.9007058 ],\n",
              "         [0.7272028 , 0.80566543, 0.89113057],\n",
              "         [0.7180265 , 0.7944944 , 0.8815554 ],\n",
              "         ...,\n",
              "         [0.1554063 , 0.2573671 , 0.3090826 ],\n",
              "         [0.17152353, 0.26672176, 0.31995633],\n",
              "         [0.1650165 , 0.25544474, 0.31026933]],\n",
              "\n",
              "        [[0.64359075, 0.7094288 , 0.8067611 ],\n",
              "         [0.5925231 , 0.6723249 , 0.7664655 ],\n",
              "         [0.5414554 , 0.635221  , 0.7261699 ],\n",
              "         ...,\n",
              "         [0.14951687, 0.24737708, 0.29972434],\n",
              "         [0.16330086, 0.25462916, 0.30915374],\n",
              "         [0.15454601, 0.24702583, 0.2973603 ]]],\n",
              "\n",
              "\n",
              "       ...,\n",
              "\n",
              "\n",
              "       [[[1.        , 0.9921569 , 1.        ],\n",
              "         [1.        , 0.9921569 , 1.        ],\n",
              "         [1.        , 0.9921569 , 1.        ],\n",
              "         ...,\n",
              "         [0.32333678, 0.32333678, 0.33087456],\n",
              "         [0.3391314 , 0.3379076 , 0.34942216],\n",
              "         [0.37684035, 0.37383425, 0.39454243]],\n",
              "\n",
              "        [[1.        , 0.9921569 , 1.        ],\n",
              "         [1.        , 0.9921569 , 1.        ],\n",
              "         [1.        , 0.9921569 , 1.        ],\n",
              "         ...,\n",
              "         [0.23847163, 0.2364339 , 0.25039023],\n",
              "         [0.21420328, 0.21027917, 0.22992797],\n",
              "         [0.17229626, 0.16811712, 0.19966201]],\n",
              "\n",
              "        [[1.        , 0.9955957 , 1.        ],\n",
              "         [1.        , 0.99482334, 1.        ],\n",
              "         [1.        , 0.994051  , 1.        ],\n",
              "         ...,\n",
              "         [0.20871085, 0.20478928, 0.2257716 ],\n",
              "         [0.18645015, 0.18176283, 0.20798121],\n",
              "         [0.15245205, 0.14477916, 0.19417274]],\n",
              "\n",
              "        ...,\n",
              "\n",
              "        [[0.28577045, 0.2544609 , 0.39936993],\n",
              "         [0.25744808, 0.22967882, 0.36396697],\n",
              "         [0.24201383, 0.21778488, 0.3511182 ],\n",
              "         ...,\n",
              "         [0.35142606, 0.34004012, 0.16300136],\n",
              "         [0.34524718, 0.33540598, 0.15605012],\n",
              "         [0.3390683 , 0.33077183, 0.14909887]],\n",
              "\n",
              "        [[0.27971983, 0.24916662, 0.39180666],\n",
              "         [0.25314972, 0.22613679, 0.35947013],\n",
              "         [0.23887494, 0.21534552, 0.3486789 ],\n",
              "         ...,\n",
              "         [0.37588277, 0.3510086 , 0.236808  ],\n",
              "         [0.37047625, 0.3486915 , 0.21981606],\n",
              "         [0.36506972, 0.34637445, 0.20282412]],\n",
              "\n",
              "        [[0.27366924, 0.24387234, 0.3842434 ],\n",
              "         [0.25012442, 0.22386782, 0.35720116],\n",
              "         [0.23433699, 0.21080758, 0.34414092],\n",
              "         ...,\n",
              "         [0.42273057, 0.367054  , 0.38928583],\n",
              "         [0.41114515, 0.3631922 , 0.35144016],\n",
              "         [0.39955977, 0.3593304 , 0.31359446]]],\n",
              "\n",
              "\n",
              "       [[[0.9911693 , 0.9872477 , 1.        ],\n",
              "         [0.9921569 , 0.98823535, 1.        ],\n",
              "         [0.994742  , 0.9908204 , 1.        ],\n",
              "         ...,\n",
              "         [1.        , 0.99121994, 0.30802545],\n",
              "         [1.        , 0.9877529 , 0.3522296 ],\n",
              "         [1.        , 0.9842859 , 0.39643374]],\n",
              "\n",
              "        [[0.9906884 , 0.9867668 , 1.        ],\n",
              "         [0.9921569 , 0.98823535, 1.        ],\n",
              "         [0.994261  , 0.99033946, 1.        ],\n",
              "         ...,\n",
              "         [1.        , 0.9686275 , 0.50745565],\n",
              "         [1.        , 0.9686275 , 0.47928637],\n",
              "         [1.        , 0.9686275 , 0.45111704]],\n",
              "\n",
              "        [[0.9902074 , 0.9862858 , 1.        ],\n",
              "         [0.9921569 , 0.98823535, 1.        ],\n",
              "         [0.9937801 , 0.9898585 , 1.        ],\n",
              "         ...,\n",
              "         [1.        , 0.98166215, 0.31184843],\n",
              "         [1.        , 0.9851292 , 0.30404773],\n",
              "         [1.        , 0.9885962 , 0.29624698]],\n",
              "\n",
              "        ...,\n",
              "\n",
              "        [[0.7955976 , 0.2323754 , 0.35686064],\n",
              "         [0.8676793 , 0.02676859, 0.234108  ],\n",
              "         [0.8947717 , 0.08842196, 0.27335286],\n",
              "         ...,\n",
              "         [0.63903254, 0.04824489, 0.14090322],\n",
              "         [0.6621462 , 0.00994515, 0.09501041],\n",
              "         [0.6325504 , 0.00284302, 0.07950992]],\n",
              "\n",
              "        [[0.7982998 , 0.2941864 , 0.4011283 ],\n",
              "         [0.82930785, 0.02261569, 0.21915242],\n",
              "         [0.89072675, 0.0666788 , 0.25899825],\n",
              "         ...,\n",
              "         [0.6337422 , 0.0516115 , 0.14330794],\n",
              "         [0.65974146, 0.01523552, 0.10174362],\n",
              "         [0.63832176, 0.00236208, 0.07999086]],\n",
              "\n",
              "        [[0.8302975 , 0.3880113 , 0.4773878 ],\n",
              "         [0.825648  , 0.05291086, 0.24092472],\n",
              "         [0.92779523, 0.08181133, 0.2846544 ],\n",
              "         ...,\n",
              "         [0.6284518 , 0.05497811, 0.14571266],\n",
              "         [0.6573368 , 0.0205259 , 0.10847683],\n",
              "         [0.6440931 , 0.00188114, 0.08047181]]],\n",
              "\n",
              "\n",
              "       [[[0.998751  , 0.9946551 , 0.9946551 ],\n",
              "         [0.9977702 , 0.9966167 , 0.9966167 ],\n",
              "         [0.99678934, 0.9985784 , 0.9985784 ],\n",
              "         ...,\n",
              "         [1.        , 1.        , 1.        ],\n",
              "         [1.        , 1.        , 1.        ],\n",
              "         [1.        , 1.        , 1.        ]],\n",
              "\n",
              "        [[1.        , 0.9921569 , 0.9921569 ],\n",
              "         [1.        , 0.9921569 , 0.9921569 ],\n",
              "         [1.        , 0.9921569 , 0.9921569 ],\n",
              "         ...,\n",
              "         [1.        , 1.        , 1.        ],\n",
              "         [1.        , 1.        , 1.        ],\n",
              "         [1.        , 1.        , 1.        ]],\n",
              "\n",
              "        [[1.        , 0.9921569 , 0.9921569 ],\n",
              "         [1.        , 0.9921569 , 0.9921569 ],\n",
              "         [1.        , 0.9921569 , 0.9921569 ],\n",
              "         ...,\n",
              "         [1.        , 1.        , 1.        ],\n",
              "         [1.        , 1.        , 1.        ],\n",
              "         [1.        , 1.        , 1.        ]],\n",
              "\n",
              "        ...,\n",
              "\n",
              "        [[1.        , 1.        , 1.        ],\n",
              "         [1.        , 1.        , 1.        ],\n",
              "         [1.        , 1.        , 1.        ],\n",
              "         ...,\n",
              "         [1.        , 1.        , 0.9803922 ],\n",
              "         [1.        , 1.        , 0.9803922 ],\n",
              "         [1.        , 1.        , 0.9803922 ]],\n",
              "\n",
              "        [[1.        , 1.        , 1.        ],\n",
              "         [1.        , 1.        , 1.        ],\n",
              "         [1.        , 1.        , 1.        ],\n",
              "         ...,\n",
              "         [1.        , 1.        , 0.9803922 ],\n",
              "         [1.        , 1.        , 0.9803922 ],\n",
              "         [1.        , 1.        , 0.9803922 ]],\n",
              "\n",
              "        [[1.        , 1.        , 1.        ],\n",
              "         [1.        , 1.        , 1.        ],\n",
              "         [1.        , 1.        , 1.        ],\n",
              "         ...,\n",
              "         [1.        , 1.        , 0.9803922 ],\n",
              "         [1.        , 1.        , 0.9803922 ],\n",
              "         [1.        , 1.        , 0.9803922 ]]]], dtype=float32)"
            ]
          },
          "metadata": {
            "tags": []
          },
          "execution_count": 191
        }
      ]
    },
    {
      "cell_type": "code",
      "metadata": {
        "id": "58zfDa5IkaCZ",
        "colab_type": "code",
        "outputId": "c9eb99e2-2aa1-4256-a03a-0792bc647513",
        "colab": {
          "base_uri": "https://localhost:8080/",
          "height": 1000
        }
      },
      "source": [
        "preprocess_input(train_imgs[0][0])"
      ],
      "execution_count": 192,
      "outputs": [
        {
          "output_type": "execute_result",
          "data": {
            "text/plain": [
              "array([[[[-0.9999015 , -0.99985605, -0.9999979 ],\n",
              "         [-0.99988544, -0.99980277, -0.99999255],\n",
              "         [-0.99986947, -0.9997495 , -0.99998724],\n",
              "         ...,\n",
              "         [-0.99862957, -0.9983699 , -0.998973  ],\n",
              "         [-0.9985971 , -0.9983451 , -0.99906534],\n",
              "         [-0.9982841 , -0.9980928 , -0.9989404 ]],\n",
              "\n",
              "        [[-0.99945706, -0.9996235 , -1.        ],\n",
              "         [-0.99954236, -0.99967146, -1.        ],\n",
              "         [-0.9996276 , -0.9997194 , -1.        ],\n",
              "         ...,\n",
              "         [-0.99863917, -0.9983699 , -0.99899703],\n",
              "         [-0.9985875 , -0.99834025, -0.99907494],\n",
              "         [-0.99824685, -0.9980623 , -0.9989235 ]],\n",
              "\n",
              "        [[-0.99844724, -0.9987978 , -0.99944663],\n",
              "         [-0.9986337 , -0.99895227, -0.9995532 ],\n",
              "         [-0.9988202 , -0.9991068 , -0.9996598 ],\n",
              "         ...,\n",
              "         [-0.9986446 , -0.9983688 , -0.9990179 ],\n",
              "         [-0.99854517, -0.9983064 , -0.9990591 ],\n",
              "         [-0.99824685, -0.9980623 , -0.9989235 ]],\n",
              "\n",
              "        ...,\n",
              "\n",
              "        [[-0.999979  , -0.9997009 , -0.99973166],\n",
              "         [-0.99954563, -0.9992616 , -0.9993865 ],\n",
              "         [-0.99944174, -0.99921715, -0.99942315],\n",
              "         ...,\n",
              "         [-0.99726814, -0.9971759 , -0.99806327],\n",
              "         [-0.9973025 , -0.9972102 , -0.9981082 ],\n",
              "         [-0.99731845, -0.9972262 , -0.99813485]],\n",
              "\n",
              "        [[-0.99997425, -0.99968165, -0.9997124 ],\n",
              "         [-0.9994592 , -0.99917996, -0.9993241 ],\n",
              "         [-0.9994448 , -0.9992312 , -0.99944687],\n",
              "         ...,\n",
              "         [-0.9969496 , -0.99685913, -0.99768424],\n",
              "         [-0.9969939 , -0.99690163, -0.99773914],\n",
              "         [-0.99705255, -0.9969602 , -0.9978084 ]],\n",
              "\n",
              "        [[-0.9999694 , -0.99966246, -0.9996932 ],\n",
              "         [-0.99941796, -0.9991459 , -0.9993045 ],\n",
              "         [-0.9993968 , -0.99923605, -0.99946123],\n",
              "         ...,\n",
              "         [-0.99686533, -0.9968038 , -0.9975394 ],\n",
              "         [-0.99687487, -0.9968093 , -0.99755955],\n",
              "         [-0.99689084, -0.99682   , -0.9975862 ]]],\n",
              "\n",
              "\n",
              "       [[[-0.9922184 , -0.9922184 , -0.9922799 ],\n",
              "         [-0.9922184 , -0.9922184 , -0.9922799 ],\n",
              "         [-0.9922184 , -0.9922184 , -0.9922799 ],\n",
              "         ...,\n",
              "         [-0.9922184 , -0.9922184 , -0.9922799 ],\n",
              "         [-0.9922184 , -0.9922184 , -0.9922799 ],\n",
              "         [-0.9922184 , -0.9922184 , -0.9922799 ]],\n",
              "\n",
              "        [[-0.9922184 , -0.9922184 , -0.9922799 ],\n",
              "         [-0.9922184 , -0.9922184 , -0.9922799 ],\n",
              "         [-0.9922184 , -0.9922184 , -0.9922799 ],\n",
              "         ...,\n",
              "         [-0.9922184 , -0.9922184 , -0.9922799 ],\n",
              "         [-0.9922184 , -0.9922184 , -0.9922799 ],\n",
              "         [-0.9922184 , -0.9922184 , -0.9922799 ]],\n",
              "\n",
              "        [[-0.9922184 , -0.9922184 , -0.9922799 ],\n",
              "         [-0.9922184 , -0.9922184 , -0.9922799 ],\n",
              "         [-0.9922184 , -0.9922184 , -0.9922799 ],\n",
              "         ...,\n",
              "         [-0.9922184 , -0.9922184 , -0.9922799 ],\n",
              "         [-0.9922184 , -0.9922184 , -0.9922799 ],\n",
              "         [-0.9922184 , -0.9922184 , -0.9922799 ]],\n",
              "\n",
              "        ...,\n",
              "\n",
              "        [[-0.99933475, -0.99933475, -0.99939626],\n",
              "         [-0.9993233 , -0.9993233 , -0.9993849 ],\n",
              "         [-0.9993233 , -0.9993233 , -0.9993849 ],\n",
              "         ...,\n",
              "         [-0.99215686, -0.99215686, -0.99215686],\n",
              "         [-0.99215686, -0.99215686, -0.99215686],\n",
              "         [-0.99215686, -0.99215686, -0.99215686]],\n",
              "\n",
              "        [[-0.9993233 , -0.9993233 , -0.9993849 ],\n",
              "         [-0.9993233 , -0.9993233 , -0.9993849 ],\n",
              "         [-0.9993233 , -0.9993233 , -0.9993849 ],\n",
              "         ...,\n",
              "         [-0.99215686, -0.99215686, -0.99215686],\n",
              "         [-0.99215686, -0.99215686, -0.99215686],\n",
              "         [-0.99215686, -0.99215686, -0.99215686]],\n",
              "\n",
              "        [[-0.9993233 , -0.9993233 , -0.9993849 ],\n",
              "         [-0.9993233 , -0.9993233 , -0.9993849 ],\n",
              "         [-0.9993233 , -0.9993233 , -0.9993849 ],\n",
              "         ...,\n",
              "         [-0.99215686, -0.99215686, -0.99215686],\n",
              "         [-0.99215686, -0.99215686, -0.99215686],\n",
              "         [-0.99215686, -0.99215686, -0.99215686]]],\n",
              "\n",
              "\n",
              "       [[[-0.99346715, -0.9933441 , -0.99325186],\n",
              "         [-0.99344105, -0.993318  , -0.99322575],\n",
              "         [-0.993413  , -0.9932899 , -0.9931976 ],\n",
              "         ...,\n",
              "         [-0.99289507, -0.99289507, -0.99289507],\n",
              "         [-0.99289507, -0.99289507, -0.99289507],\n",
              "         [-0.99289507, -0.99289507, -0.99289507]],\n",
              "\n",
              "        [[-0.9934396 , -0.9933166 , -0.9932243 ],\n",
              "         [-0.99342144, -0.9932984 , -0.99320614],\n",
              "         [-0.993403  , -0.99328   , -0.9931877 ],\n",
              "         ...,\n",
              "         [-0.99289507, -0.99289507, -0.99289507],\n",
              "         [-0.99289507, -0.99289507, -0.99289507],\n",
              "         [-0.99289507, -0.99289507, -0.99289507]],\n",
              "\n",
              "        [[-0.9934341 , -0.99331105, -0.9932188 ],\n",
              "         [-0.99340934, -0.9932863 , -0.99319404],\n",
              "         [-0.9933846 , -0.9932615 , -0.99316925],\n",
              "         ...,\n",
              "         [-0.99289507, -0.99289507, -0.99289507],\n",
              "         [-0.99289507, -0.99289507, -0.99289507],\n",
              "         [-0.99289507, -0.99289507, -0.99289507]],\n",
              "\n",
              "        ...,\n",
              "\n",
              "        [[-0.99919   , -0.9987423 , -0.9986159 ],\n",
              "         [-0.9992596 , -0.99879825, -0.9986445 ],\n",
              "         [-0.99926966, -0.9988312 , -0.99863154],\n",
              "         ...,\n",
              "         [-0.99524796, -0.99450976, -0.9937101 ],\n",
              "         [-0.99642664, -0.99530864, -0.99440217],\n",
              "         [-0.9975822 , -0.9958598 , -0.9948014 ]],\n",
              "\n",
              "        [[-0.9991921 , -0.9987437 , -0.9986159 ],\n",
              "         [-0.999261  , -0.9987997 , -0.99864584],\n",
              "         [-0.99926823, -0.9988312 , -0.9986287 ],\n",
              "         ...,\n",
              "         [-0.99527866, -0.99454045, -0.9937408 ],\n",
              "         [-0.9964559 , -0.9953151 , -0.99440217],\n",
              "         [-0.9976122 , -0.9958897 , -0.9948328 ]],\n",
              "\n",
              "        [[-0.99919426, -0.99874514, -0.9986159 ],\n",
              "         [-0.99926245, -0.9988011 , -0.9986473 ],\n",
              "         [-0.9992668 , -0.9988312 , -0.9986259 ],\n",
              "         ...,\n",
              "         [-0.99530935, -0.99457115, -0.99377143],\n",
              "         [-0.9964852 , -0.9953215 , -0.99440217],\n",
              "         [-0.99764216, -0.9959197 , -0.9948642 ]]],\n",
              "\n",
              "\n",
              "       ...,\n",
              "\n",
              "\n",
              "       [[[-0.99215686, -0.99215686, -0.9922671 ],\n",
              "         [-0.99215686, -0.99215686, -0.9922799 ],\n",
              "         [-0.99215686, -0.99215686, -0.9923    ],\n",
              "         ...,\n",
              "         [-0.99694496, -0.9969556 , -0.9966072 ],\n",
              "         [-0.9968254 , -0.99688596, -0.996453  ],\n",
              "         [-0.99672896, -0.996852  , -0.9964214 ]],\n",
              "\n",
              "        [[-0.99215686, -0.99215686, -0.99225664],\n",
              "         [-0.99215686, -0.99215686, -0.9922799 ],\n",
              "         [-0.99215686, -0.99215686, -0.9922947 ],\n",
              "         ...,\n",
              "         [-0.99701077, -0.9970176 , -0.99663556],\n",
              "         [-0.9969089 , -0.9969538 , -0.9964739 ],\n",
              "         [-0.99669087, -0.9968063 , -0.9963795 ]],\n",
              "\n",
              "        [[-0.99215686, -0.99215686, -0.99224615],\n",
              "         [-0.99215686, -0.99215686, -0.9922799 ],\n",
              "         [-0.99215686, -0.99215686, -0.9922895 ],\n",
              "         ...,\n",
              "         [-0.9970796 , -0.9970611 , -0.9968276 ],\n",
              "         [-0.9969323 , -0.9969369 , -0.99665153],\n",
              "         [-0.9967548 , -0.996811  , -0.99642456]],\n",
              "\n",
              "        ...,\n",
              "\n",
              "        [[-0.9921876 , -0.9921876 , -0.9921876 ],\n",
              "         [-0.9921876 , -0.9921876 , -0.9921876 ],\n",
              "         [-0.9921876 , -0.9921876 , -0.9921876 ],\n",
              "         ...,\n",
              "         [-0.992235  , -0.99247485, -0.9922502 ],\n",
              "         [-0.9932008 , -0.993519  , -0.993137  ],\n",
              "         [-0.99627805, -0.9967276 , -0.9960235 ]],\n",
              "\n",
              "        [[-0.9921876 , -0.9921876 , -0.9921876 ],\n",
              "         [-0.9921876 , -0.9921876 , -0.9921876 ],\n",
              "         [-0.9921848 , -0.9921848 , -0.9921848 ],\n",
              "         ...,\n",
              "         [-0.9930501 , -0.9935434 , -0.99298877],\n",
              "         [-0.9953879 , -0.99595666, -0.9952025 ],\n",
              "         [-0.9977723 , -0.9983235 , -0.99738383]],\n",
              "\n",
              "        [[-0.9921684 , -0.9921684 , -0.9921684 ],\n",
              "         [-0.99216294, -0.99216294, -0.99216294],\n",
              "         [-0.99215746, -0.99215746, -0.99215746],\n",
              "         ...,\n",
              "         [-0.99660957, -0.99723095, -0.99641234],\n",
              "         [-0.99805063, -0.99871117, -0.9977333 ],\n",
              "         [-0.99846655, -0.99910027, -0.99797666]]],\n",
              "\n",
              "\n",
              "       [[[-0.99215686, -0.99219465, -0.99803096],\n",
              "         [-0.99215686, -0.992214  , -0.9980465 ],\n",
              "         [-0.99215686, -0.99223346, -0.998062  ],\n",
              "         ...,\n",
              "         [-0.99215686, -0.99215686, -0.99215686],\n",
              "         [-0.99215686, -0.99215686, -0.99215686],\n",
              "         [-0.99215686, -0.99215686, -0.99215686]],\n",
              "\n",
              "        [[-0.99215686, -0.99215686, -0.99798006],\n",
              "         [-0.99215686, -0.99215686, -0.99798393],\n",
              "         [-0.99215686, -0.99215686, -0.9979878 ],\n",
              "         ...,\n",
              "         [-0.99215686, -0.99215686, -0.99215686],\n",
              "         [-0.99215686, -0.99215686, -0.99215686],\n",
              "         [-0.99215686, -0.99215686, -0.99215686]],\n",
              "\n",
              "        [[-0.99215686, -0.99215686, -0.99786055],\n",
              "         [-0.99215686, -0.99215686, -0.99788386],\n",
              "         [-0.99215686, -0.99215686, -0.99790716],\n",
              "         ...,\n",
              "         [-0.99215686, -0.99215686, -0.99215686],\n",
              "         [-0.99215686, -0.99215686, -0.99215686],\n",
              "         [-0.99215686, -0.99215686, -0.99215686]],\n",
              "\n",
              "        ...,\n",
              "\n",
              "        [[-0.99477214, -0.9990796 , -0.99824864],\n",
              "         [-0.99465126, -0.9989916 , -0.99814934],\n",
              "         [-0.99459803, -0.9990172 , -0.9981456 ],\n",
              "         ...,\n",
              "         [-0.99215686, -0.99215686, -0.99215686],\n",
              "         [-0.99215686, -0.99215686, -0.99215686],\n",
              "         [-0.99215686, -0.99215686, -0.99215686]],\n",
              "\n",
              "        [[-0.99488837, -0.9991432 , -0.99833834],\n",
              "         [-0.9946842 , -0.9989546 , -0.99814326],\n",
              "         [-0.9946104 , -0.9989195 , -0.99809396],\n",
              "         ...,\n",
              "         [-0.99215686, -0.99215686, -0.99215686],\n",
              "         [-0.99215686, -0.99215686, -0.99215686],\n",
              "         [-0.99215686, -0.99215686, -0.99215686]],\n",
              "\n",
              "        [[-0.9949153 , -0.9991504 , -0.9983507 ],\n",
              "         [-0.9948342 , -0.99905944, -0.9982598 ],\n",
              "         [-0.9947959 , -0.9990065 , -0.998213  ],\n",
              "         ...,\n",
              "         [-0.99215686, -0.99215686, -0.99215686],\n",
              "         [-0.99215686, -0.99215686, -0.99215686],\n",
              "         [-0.99215686, -0.99215686, -0.99215686]]],\n",
              "\n",
              "\n",
              "       [[[-0.99215686, -0.99215686, -0.99215686],\n",
              "         [-0.99215686, -0.99215686, -0.99215686],\n",
              "         [-0.99215686, -0.99215686, -0.99215686],\n",
              "         ...,\n",
              "         [-0.9923148 , -0.99215686, -0.99219716],\n",
              "         [-0.99237216, -0.99215686, -0.9921876 ],\n",
              "         [-0.99237216, -0.99215686, -0.9921876 ]],\n",
              "\n",
              "        [[-0.99215686, -0.99215686, -0.99215686],\n",
              "         [-0.99215686, -0.99215686, -0.99215686],\n",
              "         [-0.99215686, -0.99215686, -0.99215686],\n",
              "         ...,\n",
              "         [-0.99237216, -0.99215686, -0.9921876 ],\n",
              "         [-0.99237216, -0.99215686, -0.9921876 ],\n",
              "         [-0.99237216, -0.99215686, -0.9921876 ]],\n",
              "\n",
              "        [[-0.99215686, -0.99215686, -0.99215686],\n",
              "         [-0.99215686, -0.99215686, -0.99215686],\n",
              "         [-0.99215686, -0.99215686, -0.99215686],\n",
              "         ...,\n",
              "         [-0.99237216, -0.99215686, -0.9921876 ],\n",
              "         [-0.99237216, -0.99215686, -0.9921876 ],\n",
              "         [-0.99237216, -0.99215686, -0.9921876 ]],\n",
              "\n",
              "        ...,\n",
              "\n",
              "        [[-0.99215686, -0.99215686, -0.9922799 ],\n",
              "         [-0.99215686, -0.99215686, -0.9922799 ],\n",
              "         [-0.99215686, -0.99215686, -0.9922799 ],\n",
              "         ...,\n",
              "         [-0.99215686, -0.99215686, -0.99215686],\n",
              "         [-0.99215686, -0.99215686, -0.99215686],\n",
              "         [-0.99215686, -0.99215686, -0.99215686]],\n",
              "\n",
              "        [[-0.99215686, -0.99215686, -0.9922799 ],\n",
              "         [-0.99215686, -0.99215686, -0.9922799 ],\n",
              "         [-0.99215686, -0.99215686, -0.9922799 ],\n",
              "         ...,\n",
              "         [-0.99215686, -0.99215686, -0.99215686],\n",
              "         [-0.99215686, -0.99215686, -0.99215686],\n",
              "         [-0.99215686, -0.99215686, -0.99215686]],\n",
              "\n",
              "        [[-0.99215686, -0.99215686, -0.9922799 ],\n",
              "         [-0.99215686, -0.99215686, -0.9922799 ],\n",
              "         [-0.99215686, -0.99215686, -0.9922799 ],\n",
              "         ...,\n",
              "         [-0.99215686, -0.99215686, -0.99215686],\n",
              "         [-0.99215686, -0.99215686, -0.99215686],\n",
              "         [-0.99215686, -0.99215686, -0.99215686]]]], dtype=float32)"
            ]
          },
          "metadata": {
            "tags": []
          },
          "execution_count": 192
        }
      ]
    },
    {
      "cell_type": "code",
      "metadata": {
        "id": "bPTAmIEkmGXO",
        "colab_type": "code",
        "outputId": "b7eed1fd-cdf6-4302-f81e-18f9008dcb4f",
        "colab": {
          "base_uri": "https://localhost:8080/",
          "height": 34
        }
      },
      "source": [
        "len(train_imgs)"
      ],
      "execution_count": 193,
      "outputs": [
        {
          "output_type": "execute_result",
          "data": {
            "text/plain": [
              "35"
            ]
          },
          "metadata": {
            "tags": []
          },
          "execution_count": 193
        }
      ]
    },
    {
      "cell_type": "code",
      "metadata": {
        "id": "vLHNacl20Gi4",
        "colab_type": "code",
        "colab": {}
      },
      "source": [
        "from tensorflow.keras.applications.mobilenet_v2 import preprocess_input"
      ],
      "execution_count": 0,
      "outputs": []
    },
    {
      "cell_type": "code",
      "metadata": {
        "id": "pURCQsSq61bU",
        "colab_type": "code",
        "colab": {}
      },
      "source": [
        "# len(data)"
      ],
      "execution_count": 0,
      "outputs": []
    },
    {
      "cell_type": "code",
      "metadata": {
        "id": "zYNQL3my9HaH",
        "colab_type": "code",
        "colab": {}
      },
      "source": [
        ""
      ],
      "execution_count": 0,
      "outputs": []
    },
    {
      "cell_type": "code",
      "metadata": {
        "id": "tu67Ht3dv31m",
        "colab_type": "code",
        "colab": {}
      },
      "source": [
        "#the data has been reshaped accroding to the new shape and batch size"
      ],
      "execution_count": 0,
      "outputs": []
    },
    {
      "cell_type": "code",
      "metadata": {
        "id": "Gz2ytkzWv31o",
        "colab_type": "code",
        "colab": {}
      },
      "source": [
        "#importing the mobilenetv2 architecture and building the model on top of that so that its faster to train"
      ],
      "execution_count": 0,
      "outputs": []
    },
    {
      "cell_type": "code",
      "metadata": {
        "id": "_lM5SECKv31r",
        "colab_type": "code",
        "colab": {}
      },
      "source": [
        "from tensorflow.keras.applications import MobileNetV2\n",
        "from tensorflow.keras.layers import Dense,Conv2D,MaxPool2D,Flatten,Input,Dropout\n",
        "from tensorflow.keras.models import Sequential,Model"
      ],
      "execution_count": 0,
      "outputs": []
    },
    {
      "cell_type": "code",
      "metadata": {
        "id": "1akbvw9Xv31u",
        "colab_type": "code",
        "outputId": "dcd77150-5a4a-4395-e81d-757b3bed12bb",
        "colab": {
          "base_uri": "https://localhost:8080/",
          "height": 54
        }
      },
      "source": [
        "base_model = MobileNetV2(weights=\"imagenet\", include_top=False,\n",
        "                          input_tensor=Input(shape=(224,224,3)))\n"
      ],
      "execution_count": 207,
      "outputs": [
        {
          "output_type": "stream",
          "text": [
            "WARNING:tensorflow:`input_shape` is undefined or non-square, or `rows` is not in [96, 128, 160, 192, 224]. Weights for input shape (224, 224) will be loaded as the default.\n"
          ],
          "name": "stdout"
        }
      ]
    },
    {
      "cell_type": "code",
      "metadata": {
        "id": "31ktnaptv31x",
        "colab_type": "code",
        "outputId": "3c4976e2-0aa9-46cc-9490-0686c08376ae",
        "colab": {
          "base_uri": "https://localhost:8080/",
          "height": 1000
        }
      },
      "source": [
        "base_model.summary()"
      ],
      "execution_count": 208,
      "outputs": [
        {
          "output_type": "stream",
          "text": [
            "Model: \"mobilenetv2_1.00_224\"\n",
            "__________________________________________________________________________________________________\n",
            "Layer (type)                    Output Shape         Param #     Connected to                     \n",
            "==================================================================================================\n",
            "input_2 (InputLayer)            [(None, 224, 224, 3) 0                                            \n",
            "__________________________________________________________________________________________________\n",
            "Conv1_pad (ZeroPadding2D)       (None, 225, 225, 3)  0           input_2[0][0]                    \n",
            "__________________________________________________________________________________________________\n",
            "Conv1 (Conv2D)                  (None, 112, 112, 32) 864         Conv1_pad[0][0]                  \n",
            "__________________________________________________________________________________________________\n",
            "bn_Conv1 (BatchNormalization)   (None, 112, 112, 32) 128         Conv1[0][0]                      \n",
            "__________________________________________________________________________________________________\n",
            "Conv1_relu (ReLU)               (None, 112, 112, 32) 0           bn_Conv1[0][0]                   \n",
            "__________________________________________________________________________________________________\n",
            "expanded_conv_depthwise (Depthw (None, 112, 112, 32) 288         Conv1_relu[0][0]                 \n",
            "__________________________________________________________________________________________________\n",
            "expanded_conv_depthwise_BN (Bat (None, 112, 112, 32) 128         expanded_conv_depthwise[0][0]    \n",
            "__________________________________________________________________________________________________\n",
            "expanded_conv_depthwise_relu (R (None, 112, 112, 32) 0           expanded_conv_depthwise_BN[0][0] \n",
            "__________________________________________________________________________________________________\n",
            "expanded_conv_project (Conv2D)  (None, 112, 112, 16) 512         expanded_conv_depthwise_relu[0][0\n",
            "__________________________________________________________________________________________________\n",
            "expanded_conv_project_BN (Batch (None, 112, 112, 16) 64          expanded_conv_project[0][0]      \n",
            "__________________________________________________________________________________________________\n",
            "block_1_expand (Conv2D)         (None, 112, 112, 96) 1536        expanded_conv_project_BN[0][0]   \n",
            "__________________________________________________________________________________________________\n",
            "block_1_expand_BN (BatchNormali (None, 112, 112, 96) 384         block_1_expand[0][0]             \n",
            "__________________________________________________________________________________________________\n",
            "block_1_expand_relu (ReLU)      (None, 112, 112, 96) 0           block_1_expand_BN[0][0]          \n",
            "__________________________________________________________________________________________________\n",
            "block_1_pad (ZeroPadding2D)     (None, 113, 113, 96) 0           block_1_expand_relu[0][0]        \n",
            "__________________________________________________________________________________________________\n",
            "block_1_depthwise (DepthwiseCon (None, 56, 56, 96)   864         block_1_pad[0][0]                \n",
            "__________________________________________________________________________________________________\n",
            "block_1_depthwise_BN (BatchNorm (None, 56, 56, 96)   384         block_1_depthwise[0][0]          \n",
            "__________________________________________________________________________________________________\n",
            "block_1_depthwise_relu (ReLU)   (None, 56, 56, 96)   0           block_1_depthwise_BN[0][0]       \n",
            "__________________________________________________________________________________________________\n",
            "block_1_project (Conv2D)        (None, 56, 56, 24)   2304        block_1_depthwise_relu[0][0]     \n",
            "__________________________________________________________________________________________________\n",
            "block_1_project_BN (BatchNormal (None, 56, 56, 24)   96          block_1_project[0][0]            \n",
            "__________________________________________________________________________________________________\n",
            "block_2_expand (Conv2D)         (None, 56, 56, 144)  3456        block_1_project_BN[0][0]         \n",
            "__________________________________________________________________________________________________\n",
            "block_2_expand_BN (BatchNormali (None, 56, 56, 144)  576         block_2_expand[0][0]             \n",
            "__________________________________________________________________________________________________\n",
            "block_2_expand_relu (ReLU)      (None, 56, 56, 144)  0           block_2_expand_BN[0][0]          \n",
            "__________________________________________________________________________________________________\n",
            "block_2_depthwise (DepthwiseCon (None, 56, 56, 144)  1296        block_2_expand_relu[0][0]        \n",
            "__________________________________________________________________________________________________\n",
            "block_2_depthwise_BN (BatchNorm (None, 56, 56, 144)  576         block_2_depthwise[0][0]          \n",
            "__________________________________________________________________________________________________\n",
            "block_2_depthwise_relu (ReLU)   (None, 56, 56, 144)  0           block_2_depthwise_BN[0][0]       \n",
            "__________________________________________________________________________________________________\n",
            "block_2_project (Conv2D)        (None, 56, 56, 24)   3456        block_2_depthwise_relu[0][0]     \n",
            "__________________________________________________________________________________________________\n",
            "block_2_project_BN (BatchNormal (None, 56, 56, 24)   96          block_2_project[0][0]            \n",
            "__________________________________________________________________________________________________\n",
            "block_2_add (Add)               (None, 56, 56, 24)   0           block_1_project_BN[0][0]         \n",
            "                                                                 block_2_project_BN[0][0]         \n",
            "__________________________________________________________________________________________________\n",
            "block_3_expand (Conv2D)         (None, 56, 56, 144)  3456        block_2_add[0][0]                \n",
            "__________________________________________________________________________________________________\n",
            "block_3_expand_BN (BatchNormali (None, 56, 56, 144)  576         block_3_expand[0][0]             \n",
            "__________________________________________________________________________________________________\n",
            "block_3_expand_relu (ReLU)      (None, 56, 56, 144)  0           block_3_expand_BN[0][0]          \n",
            "__________________________________________________________________________________________________\n",
            "block_3_pad (ZeroPadding2D)     (None, 57, 57, 144)  0           block_3_expand_relu[0][0]        \n",
            "__________________________________________________________________________________________________\n",
            "block_3_depthwise (DepthwiseCon (None, 28, 28, 144)  1296        block_3_pad[0][0]                \n",
            "__________________________________________________________________________________________________\n",
            "block_3_depthwise_BN (BatchNorm (None, 28, 28, 144)  576         block_3_depthwise[0][0]          \n",
            "__________________________________________________________________________________________________\n",
            "block_3_depthwise_relu (ReLU)   (None, 28, 28, 144)  0           block_3_depthwise_BN[0][0]       \n",
            "__________________________________________________________________________________________________\n",
            "block_3_project (Conv2D)        (None, 28, 28, 32)   4608        block_3_depthwise_relu[0][0]     \n",
            "__________________________________________________________________________________________________\n",
            "block_3_project_BN (BatchNormal (None, 28, 28, 32)   128         block_3_project[0][0]            \n",
            "__________________________________________________________________________________________________\n",
            "block_4_expand (Conv2D)         (None, 28, 28, 192)  6144        block_3_project_BN[0][0]         \n",
            "__________________________________________________________________________________________________\n",
            "block_4_expand_BN (BatchNormali (None, 28, 28, 192)  768         block_4_expand[0][0]             \n",
            "__________________________________________________________________________________________________\n",
            "block_4_expand_relu (ReLU)      (None, 28, 28, 192)  0           block_4_expand_BN[0][0]          \n",
            "__________________________________________________________________________________________________\n",
            "block_4_depthwise (DepthwiseCon (None, 28, 28, 192)  1728        block_4_expand_relu[0][0]        \n",
            "__________________________________________________________________________________________________\n",
            "block_4_depthwise_BN (BatchNorm (None, 28, 28, 192)  768         block_4_depthwise[0][0]          \n",
            "__________________________________________________________________________________________________\n",
            "block_4_depthwise_relu (ReLU)   (None, 28, 28, 192)  0           block_4_depthwise_BN[0][0]       \n",
            "__________________________________________________________________________________________________\n",
            "block_4_project (Conv2D)        (None, 28, 28, 32)   6144        block_4_depthwise_relu[0][0]     \n",
            "__________________________________________________________________________________________________\n",
            "block_4_project_BN (BatchNormal (None, 28, 28, 32)   128         block_4_project[0][0]            \n",
            "__________________________________________________________________________________________________\n",
            "block_4_add (Add)               (None, 28, 28, 32)   0           block_3_project_BN[0][0]         \n",
            "                                                                 block_4_project_BN[0][0]         \n",
            "__________________________________________________________________________________________________\n",
            "block_5_expand (Conv2D)         (None, 28, 28, 192)  6144        block_4_add[0][0]                \n",
            "__________________________________________________________________________________________________\n",
            "block_5_expand_BN (BatchNormali (None, 28, 28, 192)  768         block_5_expand[0][0]             \n",
            "__________________________________________________________________________________________________\n",
            "block_5_expand_relu (ReLU)      (None, 28, 28, 192)  0           block_5_expand_BN[0][0]          \n",
            "__________________________________________________________________________________________________\n",
            "block_5_depthwise (DepthwiseCon (None, 28, 28, 192)  1728        block_5_expand_relu[0][0]        \n",
            "__________________________________________________________________________________________________\n",
            "block_5_depthwise_BN (BatchNorm (None, 28, 28, 192)  768         block_5_depthwise[0][0]          \n",
            "__________________________________________________________________________________________________\n",
            "block_5_depthwise_relu (ReLU)   (None, 28, 28, 192)  0           block_5_depthwise_BN[0][0]       \n",
            "__________________________________________________________________________________________________\n",
            "block_5_project (Conv2D)        (None, 28, 28, 32)   6144        block_5_depthwise_relu[0][0]     \n",
            "__________________________________________________________________________________________________\n",
            "block_5_project_BN (BatchNormal (None, 28, 28, 32)   128         block_5_project[0][0]            \n",
            "__________________________________________________________________________________________________\n",
            "block_5_add (Add)               (None, 28, 28, 32)   0           block_4_add[0][0]                \n",
            "                                                                 block_5_project_BN[0][0]         \n",
            "__________________________________________________________________________________________________\n",
            "block_6_expand (Conv2D)         (None, 28, 28, 192)  6144        block_5_add[0][0]                \n",
            "__________________________________________________________________________________________________\n",
            "block_6_expand_BN (BatchNormali (None, 28, 28, 192)  768         block_6_expand[0][0]             \n",
            "__________________________________________________________________________________________________\n",
            "block_6_expand_relu (ReLU)      (None, 28, 28, 192)  0           block_6_expand_BN[0][0]          \n",
            "__________________________________________________________________________________________________\n",
            "block_6_pad (ZeroPadding2D)     (None, 29, 29, 192)  0           block_6_expand_relu[0][0]        \n",
            "__________________________________________________________________________________________________\n",
            "block_6_depthwise (DepthwiseCon (None, 14, 14, 192)  1728        block_6_pad[0][0]                \n",
            "__________________________________________________________________________________________________\n",
            "block_6_depthwise_BN (BatchNorm (None, 14, 14, 192)  768         block_6_depthwise[0][0]          \n",
            "__________________________________________________________________________________________________\n",
            "block_6_depthwise_relu (ReLU)   (None, 14, 14, 192)  0           block_6_depthwise_BN[0][0]       \n",
            "__________________________________________________________________________________________________\n",
            "block_6_project (Conv2D)        (None, 14, 14, 64)   12288       block_6_depthwise_relu[0][0]     \n",
            "__________________________________________________________________________________________________\n",
            "block_6_project_BN (BatchNormal (None, 14, 14, 64)   256         block_6_project[0][0]            \n",
            "__________________________________________________________________________________________________\n",
            "block_7_expand (Conv2D)         (None, 14, 14, 384)  24576       block_6_project_BN[0][0]         \n",
            "__________________________________________________________________________________________________\n",
            "block_7_expand_BN (BatchNormali (None, 14, 14, 384)  1536        block_7_expand[0][0]             \n",
            "__________________________________________________________________________________________________\n",
            "block_7_expand_relu (ReLU)      (None, 14, 14, 384)  0           block_7_expand_BN[0][0]          \n",
            "__________________________________________________________________________________________________\n",
            "block_7_depthwise (DepthwiseCon (None, 14, 14, 384)  3456        block_7_expand_relu[0][0]        \n",
            "__________________________________________________________________________________________________\n",
            "block_7_depthwise_BN (BatchNorm (None, 14, 14, 384)  1536        block_7_depthwise[0][0]          \n",
            "__________________________________________________________________________________________________\n",
            "block_7_depthwise_relu (ReLU)   (None, 14, 14, 384)  0           block_7_depthwise_BN[0][0]       \n",
            "__________________________________________________________________________________________________\n",
            "block_7_project (Conv2D)        (None, 14, 14, 64)   24576       block_7_depthwise_relu[0][0]     \n",
            "__________________________________________________________________________________________________\n",
            "block_7_project_BN (BatchNormal (None, 14, 14, 64)   256         block_7_project[0][0]            \n",
            "__________________________________________________________________________________________________\n",
            "block_7_add (Add)               (None, 14, 14, 64)   0           block_6_project_BN[0][0]         \n",
            "                                                                 block_7_project_BN[0][0]         \n",
            "__________________________________________________________________________________________________\n",
            "block_8_expand (Conv2D)         (None, 14, 14, 384)  24576       block_7_add[0][0]                \n",
            "__________________________________________________________________________________________________\n",
            "block_8_expand_BN (BatchNormali (None, 14, 14, 384)  1536        block_8_expand[0][0]             \n",
            "__________________________________________________________________________________________________\n",
            "block_8_expand_relu (ReLU)      (None, 14, 14, 384)  0           block_8_expand_BN[0][0]          \n",
            "__________________________________________________________________________________________________\n",
            "block_8_depthwise (DepthwiseCon (None, 14, 14, 384)  3456        block_8_expand_relu[0][0]        \n",
            "__________________________________________________________________________________________________\n",
            "block_8_depthwise_BN (BatchNorm (None, 14, 14, 384)  1536        block_8_depthwise[0][0]          \n",
            "__________________________________________________________________________________________________\n",
            "block_8_depthwise_relu (ReLU)   (None, 14, 14, 384)  0           block_8_depthwise_BN[0][0]       \n",
            "__________________________________________________________________________________________________\n",
            "block_8_project (Conv2D)        (None, 14, 14, 64)   24576       block_8_depthwise_relu[0][0]     \n",
            "__________________________________________________________________________________________________\n",
            "block_8_project_BN (BatchNormal (None, 14, 14, 64)   256         block_8_project[0][0]            \n",
            "__________________________________________________________________________________________________\n",
            "block_8_add (Add)               (None, 14, 14, 64)   0           block_7_add[0][0]                \n",
            "                                                                 block_8_project_BN[0][0]         \n",
            "__________________________________________________________________________________________________\n",
            "block_9_expand (Conv2D)         (None, 14, 14, 384)  24576       block_8_add[0][0]                \n",
            "__________________________________________________________________________________________________\n",
            "block_9_expand_BN (BatchNormali (None, 14, 14, 384)  1536        block_9_expand[0][0]             \n",
            "__________________________________________________________________________________________________\n",
            "block_9_expand_relu (ReLU)      (None, 14, 14, 384)  0           block_9_expand_BN[0][0]          \n",
            "__________________________________________________________________________________________________\n",
            "block_9_depthwise (DepthwiseCon (None, 14, 14, 384)  3456        block_9_expand_relu[0][0]        \n",
            "__________________________________________________________________________________________________\n",
            "block_9_depthwise_BN (BatchNorm (None, 14, 14, 384)  1536        block_9_depthwise[0][0]          \n",
            "__________________________________________________________________________________________________\n",
            "block_9_depthwise_relu (ReLU)   (None, 14, 14, 384)  0           block_9_depthwise_BN[0][0]       \n",
            "__________________________________________________________________________________________________\n",
            "block_9_project (Conv2D)        (None, 14, 14, 64)   24576       block_9_depthwise_relu[0][0]     \n",
            "__________________________________________________________________________________________________\n",
            "block_9_project_BN (BatchNormal (None, 14, 14, 64)   256         block_9_project[0][0]            \n",
            "__________________________________________________________________________________________________\n",
            "block_9_add (Add)               (None, 14, 14, 64)   0           block_8_add[0][0]                \n",
            "                                                                 block_9_project_BN[0][0]         \n",
            "__________________________________________________________________________________________________\n",
            "block_10_expand (Conv2D)        (None, 14, 14, 384)  24576       block_9_add[0][0]                \n",
            "__________________________________________________________________________________________________\n",
            "block_10_expand_BN (BatchNormal (None, 14, 14, 384)  1536        block_10_expand[0][0]            \n",
            "__________________________________________________________________________________________________\n",
            "block_10_expand_relu (ReLU)     (None, 14, 14, 384)  0           block_10_expand_BN[0][0]         \n",
            "__________________________________________________________________________________________________\n",
            "block_10_depthwise (DepthwiseCo (None, 14, 14, 384)  3456        block_10_expand_relu[0][0]       \n",
            "__________________________________________________________________________________________________\n",
            "block_10_depthwise_BN (BatchNor (None, 14, 14, 384)  1536        block_10_depthwise[0][0]         \n",
            "__________________________________________________________________________________________________\n",
            "block_10_depthwise_relu (ReLU)  (None, 14, 14, 384)  0           block_10_depthwise_BN[0][0]      \n",
            "__________________________________________________________________________________________________\n",
            "block_10_project (Conv2D)       (None, 14, 14, 96)   36864       block_10_depthwise_relu[0][0]    \n",
            "__________________________________________________________________________________________________\n",
            "block_10_project_BN (BatchNorma (None, 14, 14, 96)   384         block_10_project[0][0]           \n",
            "__________________________________________________________________________________________________\n",
            "block_11_expand (Conv2D)        (None, 14, 14, 576)  55296       block_10_project_BN[0][0]        \n",
            "__________________________________________________________________________________________________\n",
            "block_11_expand_BN (BatchNormal (None, 14, 14, 576)  2304        block_11_expand[0][0]            \n",
            "__________________________________________________________________________________________________\n",
            "block_11_expand_relu (ReLU)     (None, 14, 14, 576)  0           block_11_expand_BN[0][0]         \n",
            "__________________________________________________________________________________________________\n",
            "block_11_depthwise (DepthwiseCo (None, 14, 14, 576)  5184        block_11_expand_relu[0][0]       \n",
            "__________________________________________________________________________________________________\n",
            "block_11_depthwise_BN (BatchNor (None, 14, 14, 576)  2304        block_11_depthwise[0][0]         \n",
            "__________________________________________________________________________________________________\n",
            "block_11_depthwise_relu (ReLU)  (None, 14, 14, 576)  0           block_11_depthwise_BN[0][0]      \n",
            "__________________________________________________________________________________________________\n",
            "block_11_project (Conv2D)       (None, 14, 14, 96)   55296       block_11_depthwise_relu[0][0]    \n",
            "__________________________________________________________________________________________________\n",
            "block_11_project_BN (BatchNorma (None, 14, 14, 96)   384         block_11_project[0][0]           \n",
            "__________________________________________________________________________________________________\n",
            "block_11_add (Add)              (None, 14, 14, 96)   0           block_10_project_BN[0][0]        \n",
            "                                                                 block_11_project_BN[0][0]        \n",
            "__________________________________________________________________________________________________\n",
            "block_12_expand (Conv2D)        (None, 14, 14, 576)  55296       block_11_add[0][0]               \n",
            "__________________________________________________________________________________________________\n",
            "block_12_expand_BN (BatchNormal (None, 14, 14, 576)  2304        block_12_expand[0][0]            \n",
            "__________________________________________________________________________________________________\n",
            "block_12_expand_relu (ReLU)     (None, 14, 14, 576)  0           block_12_expand_BN[0][0]         \n",
            "__________________________________________________________________________________________________\n",
            "block_12_depthwise (DepthwiseCo (None, 14, 14, 576)  5184        block_12_expand_relu[0][0]       \n",
            "__________________________________________________________________________________________________\n",
            "block_12_depthwise_BN (BatchNor (None, 14, 14, 576)  2304        block_12_depthwise[0][0]         \n",
            "__________________________________________________________________________________________________\n",
            "block_12_depthwise_relu (ReLU)  (None, 14, 14, 576)  0           block_12_depthwise_BN[0][0]      \n",
            "__________________________________________________________________________________________________\n",
            "block_12_project (Conv2D)       (None, 14, 14, 96)   55296       block_12_depthwise_relu[0][0]    \n",
            "__________________________________________________________________________________________________\n",
            "block_12_project_BN (BatchNorma (None, 14, 14, 96)   384         block_12_project[0][0]           \n",
            "__________________________________________________________________________________________________\n",
            "block_12_add (Add)              (None, 14, 14, 96)   0           block_11_add[0][0]               \n",
            "                                                                 block_12_project_BN[0][0]        \n",
            "__________________________________________________________________________________________________\n",
            "block_13_expand (Conv2D)        (None, 14, 14, 576)  55296       block_12_add[0][0]               \n",
            "__________________________________________________________________________________________________\n",
            "block_13_expand_BN (BatchNormal (None, 14, 14, 576)  2304        block_13_expand[0][0]            \n",
            "__________________________________________________________________________________________________\n",
            "block_13_expand_relu (ReLU)     (None, 14, 14, 576)  0           block_13_expand_BN[0][0]         \n",
            "__________________________________________________________________________________________________\n",
            "block_13_pad (ZeroPadding2D)    (None, 15, 15, 576)  0           block_13_expand_relu[0][0]       \n",
            "__________________________________________________________________________________________________\n",
            "block_13_depthwise (DepthwiseCo (None, 7, 7, 576)    5184        block_13_pad[0][0]               \n",
            "__________________________________________________________________________________________________\n",
            "block_13_depthwise_BN (BatchNor (None, 7, 7, 576)    2304        block_13_depthwise[0][0]         \n",
            "__________________________________________________________________________________________________\n",
            "block_13_depthwise_relu (ReLU)  (None, 7, 7, 576)    0           block_13_depthwise_BN[0][0]      \n",
            "__________________________________________________________________________________________________\n",
            "block_13_project (Conv2D)       (None, 7, 7, 160)    92160       block_13_depthwise_relu[0][0]    \n",
            "__________________________________________________________________________________________________\n",
            "block_13_project_BN (BatchNorma (None, 7, 7, 160)    640         block_13_project[0][0]           \n",
            "__________________________________________________________________________________________________\n",
            "block_14_expand (Conv2D)        (None, 7, 7, 960)    153600      block_13_project_BN[0][0]        \n",
            "__________________________________________________________________________________________________\n",
            "block_14_expand_BN (BatchNormal (None, 7, 7, 960)    3840        block_14_expand[0][0]            \n",
            "__________________________________________________________________________________________________\n",
            "block_14_expand_relu (ReLU)     (None, 7, 7, 960)    0           block_14_expand_BN[0][0]         \n",
            "__________________________________________________________________________________________________\n",
            "block_14_depthwise (DepthwiseCo (None, 7, 7, 960)    8640        block_14_expand_relu[0][0]       \n",
            "__________________________________________________________________________________________________\n",
            "block_14_depthwise_BN (BatchNor (None, 7, 7, 960)    3840        block_14_depthwise[0][0]         \n",
            "__________________________________________________________________________________________________\n",
            "block_14_depthwise_relu (ReLU)  (None, 7, 7, 960)    0           block_14_depthwise_BN[0][0]      \n",
            "__________________________________________________________________________________________________\n",
            "block_14_project (Conv2D)       (None, 7, 7, 160)    153600      block_14_depthwise_relu[0][0]    \n",
            "__________________________________________________________________________________________________\n",
            "block_14_project_BN (BatchNorma (None, 7, 7, 160)    640         block_14_project[0][0]           \n",
            "__________________________________________________________________________________________________\n",
            "block_14_add (Add)              (None, 7, 7, 160)    0           block_13_project_BN[0][0]        \n",
            "                                                                 block_14_project_BN[0][0]        \n",
            "__________________________________________________________________________________________________\n",
            "block_15_expand (Conv2D)        (None, 7, 7, 960)    153600      block_14_add[0][0]               \n",
            "__________________________________________________________________________________________________\n",
            "block_15_expand_BN (BatchNormal (None, 7, 7, 960)    3840        block_15_expand[0][0]            \n",
            "__________________________________________________________________________________________________\n",
            "block_15_expand_relu (ReLU)     (None, 7, 7, 960)    0           block_15_expand_BN[0][0]         \n",
            "__________________________________________________________________________________________________\n",
            "block_15_depthwise (DepthwiseCo (None, 7, 7, 960)    8640        block_15_expand_relu[0][0]       \n",
            "__________________________________________________________________________________________________\n",
            "block_15_depthwise_BN (BatchNor (None, 7, 7, 960)    3840        block_15_depthwise[0][0]         \n",
            "__________________________________________________________________________________________________\n",
            "block_15_depthwise_relu (ReLU)  (None, 7, 7, 960)    0           block_15_depthwise_BN[0][0]      \n",
            "__________________________________________________________________________________________________\n",
            "block_15_project (Conv2D)       (None, 7, 7, 160)    153600      block_15_depthwise_relu[0][0]    \n",
            "__________________________________________________________________________________________________\n",
            "block_15_project_BN (BatchNorma (None, 7, 7, 160)    640         block_15_project[0][0]           \n",
            "__________________________________________________________________________________________________\n",
            "block_15_add (Add)              (None, 7, 7, 160)    0           block_14_add[0][0]               \n",
            "                                                                 block_15_project_BN[0][0]        \n",
            "__________________________________________________________________________________________________\n",
            "block_16_expand (Conv2D)        (None, 7, 7, 960)    153600      block_15_add[0][0]               \n",
            "__________________________________________________________________________________________________\n",
            "block_16_expand_BN (BatchNormal (None, 7, 7, 960)    3840        block_16_expand[0][0]            \n",
            "__________________________________________________________________________________________________\n",
            "block_16_expand_relu (ReLU)     (None, 7, 7, 960)    0           block_16_expand_BN[0][0]         \n",
            "__________________________________________________________________________________________________\n",
            "block_16_depthwise (DepthwiseCo (None, 7, 7, 960)    8640        block_16_expand_relu[0][0]       \n",
            "__________________________________________________________________________________________________\n",
            "block_16_depthwise_BN (BatchNor (None, 7, 7, 960)    3840        block_16_depthwise[0][0]         \n",
            "__________________________________________________________________________________________________\n",
            "block_16_depthwise_relu (ReLU)  (None, 7, 7, 960)    0           block_16_depthwise_BN[0][0]      \n",
            "__________________________________________________________________________________________________\n",
            "block_16_project (Conv2D)       (None, 7, 7, 320)    307200      block_16_depthwise_relu[0][0]    \n",
            "__________________________________________________________________________________________________\n",
            "block_16_project_BN (BatchNorma (None, 7, 7, 320)    1280        block_16_project[0][0]           \n",
            "__________________________________________________________________________________________________\n",
            "Conv_1 (Conv2D)                 (None, 7, 7, 1280)   409600      block_16_project_BN[0][0]        \n",
            "__________________________________________________________________________________________________\n",
            "Conv_1_bn (BatchNormalization)  (None, 7, 7, 1280)   5120        Conv_1[0][0]                     \n",
            "__________________________________________________________________________________________________\n",
            "out_relu (ReLU)                 (None, 7, 7, 1280)   0           Conv_1_bn[0][0]                  \n",
            "==================================================================================================\n",
            "Total params: 2,257,984\n",
            "Trainable params: 2,223,872\n",
            "Non-trainable params: 34,112\n",
            "__________________________________________________________________________________________________\n"
          ],
          "name": "stdout"
        }
      ]
    },
    {
      "cell_type": "code",
      "metadata": {
        "id": "JCFBXUedv310",
        "colab_type": "code",
        "colab": {}
      },
      "source": [
        "f_model = base_model.output\n",
        "f_model = MaxPool2D(pool_size=(7,7))(f_model)\n",
        "f_model = (Flatten())(f_model)\n",
        "f_model  = (Dense(128,activation='relu'))(f_model)\n",
        "f_model  = (Dropout(0.5))(f_model)\n",
        "f_model  = (Dense(2,activation='softmax'))(f_model)"
      ],
      "execution_count": 0,
      "outputs": []
    },
    {
      "cell_type": "code",
      "metadata": {
        "id": "QjnEBO3hv315",
        "colab_type": "code",
        "colab": {}
      },
      "source": [
        "model = Model(inputs = base_model.input,outputs = f_model)"
      ],
      "execution_count": 0,
      "outputs": []
    },
    {
      "cell_type": "code",
      "metadata": {
        "id": "UjbmASkjggok",
        "colab_type": "code",
        "colab": {}
      },
      "source": [
        "for layer in base_model.layers:\n",
        "  layer.trainable = False"
      ],
      "execution_count": 0,
      "outputs": []
    },
    {
      "cell_type": "code",
      "metadata": {
        "id": "VVU70F4eggmn",
        "colab_type": "code",
        "outputId": "3ed33b0e-1eb3-472e-d721-487d4c18ac16",
        "colab": {
          "base_uri": "https://localhost:8080/",
          "height": 1000
        }
      },
      "source": [
        "base_model.layers"
      ],
      "execution_count": 212,
      "outputs": [
        {
          "output_type": "execute_result",
          "data": {
            "text/plain": [
              "[<tensorflow.python.keras.engine.input_layer.InputLayer at 0x7f8be53a4128>,\n",
              " <tensorflow.python.keras.layers.convolutional.ZeroPadding2D at 0x7f8be54b5e10>,\n",
              " <tensorflow.python.keras.layers.convolutional.Conv2D at 0x7f8be5f51630>,\n",
              " <tensorflow.python.keras.layers.normalization_v2.BatchNormalization at 0x7f8be53acc88>,\n",
              " <tensorflow.python.keras.layers.advanced_activations.ReLU at 0x7f8be5343940>,\n",
              " <tensorflow.python.keras.layers.convolutional.DepthwiseConv2D at 0x7f8be53434e0>,\n",
              " <tensorflow.python.keras.layers.normalization_v2.BatchNormalization at 0x7f8be52d9cf8>,\n",
              " <tensorflow.python.keras.layers.advanced_activations.ReLU at 0x7f8be52da978>,\n",
              " <tensorflow.python.keras.layers.convolutional.Conv2D at 0x7f8be52da6d8>,\n",
              " <tensorflow.python.keras.layers.normalization_v2.BatchNormalization at 0x7f8be4b20ba8>,\n",
              " <tensorflow.python.keras.layers.convolutional.Conv2D at 0x7f8be4b25358>,\n",
              " <tensorflow.python.keras.layers.normalization_v2.BatchNormalization at 0x7f8be52a0860>,\n",
              " <tensorflow.python.keras.layers.advanced_activations.ReLU at 0x7f8be52a0fd0>,\n",
              " <tensorflow.python.keras.layers.convolutional.ZeroPadding2D at 0x7f8be52a7160>,\n",
              " <tensorflow.python.keras.layers.convolutional.DepthwiseConv2D at 0x7f8be524f710>,\n",
              " <tensorflow.python.keras.layers.normalization_v2.BatchNormalization at 0x7f8be5254438>,\n",
              " <tensorflow.python.keras.layers.advanced_activations.ReLU at 0x7f8be5254eb8>,\n",
              " <tensorflow.python.keras.layers.convolutional.Conv2D at 0x7f8be5254cf8>,\n",
              " <tensorflow.python.keras.layers.normalization_v2.BatchNormalization at 0x7f8be5204128>,\n",
              " <tensorflow.python.keras.layers.convolutional.Conv2D at 0x7f8be5204898>,\n",
              " <tensorflow.python.keras.layers.normalization_v2.BatchNormalization at 0x7f8be5230240>,\n",
              " <tensorflow.python.keras.layers.advanced_activations.ReLU at 0x7f8be52308d0>,\n",
              " <tensorflow.python.keras.layers.convolutional.DepthwiseConv2D at 0x7f8be52304e0>,\n",
              " <tensorflow.python.keras.layers.normalization_v2.BatchNormalization at 0x7f8be51dc3c8>,\n",
              " <tensorflow.python.keras.layers.advanced_activations.ReLU at 0x7f8be51dce10>,\n",
              " <tensorflow.python.keras.layers.convolutional.Conv2D at 0x7f8be51dc7f0>,\n",
              " <tensorflow.python.keras.layers.normalization_v2.BatchNormalization at 0x7f8be518a0b8>,\n",
              " <tensorflow.python.keras.layers.merge.Add at 0x7f8be518a828>,\n",
              " <tensorflow.python.keras.layers.convolutional.Conv2D at 0x7f8be518a860>,\n",
              " <tensorflow.python.keras.layers.normalization_v2.BatchNormalization at 0x7f8be51b7208>,\n",
              " <tensorflow.python.keras.layers.advanced_activations.ReLU at 0x7f8be51b7cf8>,\n",
              " <tensorflow.python.keras.layers.convolutional.ZeroPadding2D at 0x7f8be51b76d8>,\n",
              " <tensorflow.python.keras.layers.convolutional.DepthwiseConv2D at 0x7f8be51640b8>,\n",
              " <tensorflow.python.keras.layers.normalization_v2.BatchNormalization at 0x7f8be5164748>,\n",
              " <tensorflow.python.keras.layers.advanced_activations.ReLU at 0x7f8be5164d68>,\n",
              " <tensorflow.python.keras.layers.convolutional.Conv2D at 0x7f8be516c668>,\n",
              " <tensorflow.python.keras.layers.normalization_v2.BatchNormalization at 0x7f8be5112a90>,\n",
              " <tensorflow.python.keras.layers.convolutional.Conv2D at 0x7f8be5117240>,\n",
              " <tensorflow.python.keras.layers.normalization_v2.BatchNormalization at 0x7f8be513e748>,\n",
              " <tensorflow.python.keras.layers.advanced_activations.ReLU at 0x7f8be513ef28>,\n",
              " <tensorflow.python.keras.layers.convolutional.DepthwiseConv2D at 0x7f8be50c62b0>,\n",
              " <tensorflow.python.keras.layers.normalization_v2.BatchNormalization at 0x7f8be50eeb38>,\n",
              " <tensorflow.python.keras.layers.advanced_activations.ReLU at 0x7f8be50eee48>,\n",
              " <tensorflow.python.keras.layers.convolutional.Conv2D at 0x7f8be50f15f8>,\n",
              " <tensorflow.python.keras.layers.normalization_v2.BatchNormalization at 0x7f8be509aa20>,\n",
              " <tensorflow.python.keras.layers.merge.Add at 0x7f8be50a11d0>,\n",
              " <tensorflow.python.keras.layers.convolutional.Conv2D at 0x7f8be50a1208>,\n",
              " <tensorflow.python.keras.layers.normalization_v2.BatchNormalization at 0x7f8be5047b00>,\n",
              " <tensorflow.python.keras.layers.advanced_activations.ReLU at 0x7f8be504c6a0>,\n",
              " <tensorflow.python.keras.layers.convolutional.DepthwiseConv2D at 0x7f8be504c2b0>,\n",
              " <tensorflow.python.keras.layers.normalization_v2.BatchNormalization at 0x7f8be5075a90>,\n",
              " <tensorflow.python.keras.layers.advanced_activations.ReLU at 0x7f8be507cc18>,\n",
              " <tensorflow.python.keras.layers.convolutional.Conv2D at 0x7f8be507ca58>,\n",
              " <tensorflow.python.keras.layers.normalization_v2.BatchNormalization at 0x7f8be5020eb8>,\n",
              " <tensorflow.python.keras.layers.merge.Add at 0x7f8be50285f8>,\n",
              " <tensorflow.python.keras.layers.convolutional.Conv2D at 0x7f8be5028630>,\n",
              " <tensorflow.python.keras.layers.normalization_v2.BatchNormalization at 0x7f8be4fcef98>,\n",
              " <tensorflow.python.keras.layers.advanced_activations.ReLU at 0x7f8be4fd4ac8>,\n",
              " <tensorflow.python.keras.layers.convolutional.ZeroPadding2D at 0x7f8be4fd44a8>,\n",
              " <tensorflow.python.keras.layers.convolutional.DepthwiseConv2D at 0x7f8be4ffeeb8>,\n",
              " <tensorflow.python.keras.layers.normalization_v2.BatchNormalization at 0x7f8be4f84940>,\n",
              " <tensorflow.python.keras.layers.advanced_activations.ReLU at 0x7f8be4f84c88>,\n",
              " <tensorflow.python.keras.layers.convolutional.Conv2D at 0x7f8be4f8c438>,\n",
              " <tensorflow.python.keras.layers.normalization_v2.BatchNormalization at 0x7f8be4fb1860>,\n",
              " <tensorflow.python.keras.layers.convolutional.Conv2D at 0x7f8be4f56e80>,\n",
              " <tensorflow.python.keras.layers.normalization_v2.BatchNormalization at 0x7f8be4f5b550>,\n",
              " <tensorflow.python.keras.layers.advanced_activations.ReLU at 0x7f8be4f5bda0>,\n",
              " <tensorflow.python.keras.layers.convolutional.DepthwiseConv2D at 0x7f8be4f5b9e8>,\n",
              " <tensorflow.python.keras.layers.normalization_v2.BatchNormalization at 0x7f8be4f0b908>,\n",
              " <tensorflow.python.keras.layers.advanced_activations.ReLU at 0x7f8be4f0bc18>,\n",
              " <tensorflow.python.keras.layers.convolutional.Conv2D at 0x7f8be4f123c8>,\n",
              " <tensorflow.python.keras.layers.normalization_v2.BatchNormalization at 0x7f8be4f3a7f0>,\n",
              " <tensorflow.python.keras.layers.merge.Add at 0x7f8be4f3ad68>,\n",
              " <tensorflow.python.keras.layers.convolutional.Conv2D at 0x7f8be4f3e198>,\n",
              " <tensorflow.python.keras.layers.normalization_v2.BatchNormalization at 0x7f8be4ee6940>,\n",
              " <tensorflow.python.keras.layers.advanced_activations.ReLU at 0x7f8be4ee6f98>,\n",
              " <tensorflow.python.keras.layers.convolutional.DepthwiseConv2D at 0x7f8be4eec048>,\n",
              " <tensorflow.python.keras.layers.normalization_v2.BatchNormalization at 0x7f8be4e94d30>,\n",
              " <tensorflow.python.keras.layers.advanced_activations.ReLU at 0x7f8be4e9a9b0>,\n",
              " <tensorflow.python.keras.layers.convolutional.Conv2D at 0x7f8be4e9a390>,\n",
              " <tensorflow.python.keras.layers.normalization_v2.BatchNormalization at 0x7f8be4e40c88>,\n",
              " <tensorflow.python.keras.layers.merge.Add at 0x7f8be4e463c8>,\n",
              " <tensorflow.python.keras.layers.convolutional.Conv2D at 0x7f8be4e46400>,\n",
              " <tensorflow.python.keras.layers.normalization_v2.BatchNormalization at 0x7f8be4e6dda0>,\n",
              " <tensorflow.python.keras.layers.advanced_activations.ReLU at 0x7f8be4e74898>,\n",
              " <tensorflow.python.keras.layers.convolutional.DepthwiseConv2D at 0x7f8be4e744a8>,\n",
              " <tensorflow.python.keras.layers.normalization_v2.BatchNormalization at 0x7f8be4e224e0>,\n",
              " <tensorflow.python.keras.layers.advanced_activations.ReLU at 0x7f8be4e22dd8>,\n",
              " <tensorflow.python.keras.layers.convolutional.Conv2D at 0x7f8be4e22748>,\n",
              " <tensorflow.python.keras.layers.normalization_v2.BatchNormalization at 0x7f8be4dd0080>,\n",
              " <tensorflow.python.keras.layers.merge.Add at 0x7f8be4dd07f0>,\n",
              " <tensorflow.python.keras.layers.convolutional.Conv2D at 0x7f8be4dd0828>,\n",
              " <tensorflow.python.keras.layers.normalization_v2.BatchNormalization at 0x7f8be4dfd1d0>,\n",
              " <tensorflow.python.keras.layers.advanced_activations.ReLU at 0x7f8be4dfdcc0>,\n",
              " <tensorflow.python.keras.layers.convolutional.DepthwiseConv2D at 0x7f8be4dfd8d0>,\n",
              " <tensorflow.python.keras.layers.normalization_v2.BatchNormalization at 0x7f8be4dac240>,\n",
              " <tensorflow.python.keras.layers.advanced_activations.ReLU at 0x7f8be4dac978>,\n",
              " <tensorflow.python.keras.layers.convolutional.Conv2D at 0x7f8be4d51cf8>,\n",
              " <tensorflow.python.keras.layers.normalization_v2.BatchNormalization at 0x7f8be4d574a8>,\n",
              " <tensorflow.python.keras.layers.convolutional.Conv2D at 0x7f8be4d57c88>,\n",
              " <tensorflow.python.keras.layers.normalization_v2.BatchNormalization at 0x7f8be4d052e8>,\n",
              " <tensorflow.python.keras.layers.advanced_activations.ReLU at 0x7f8be4d05c50>,\n",
              " <tensorflow.python.keras.layers.convolutional.DepthwiseConv2D at 0x7f8be4d05860>,\n",
              " <tensorflow.python.keras.layers.normalization_v2.BatchNormalization at 0x7f8be4d33780>,\n",
              " <tensorflow.python.keras.layers.advanced_activations.ReLU at 0x7f8be4d33ef0>,\n",
              " <tensorflow.python.keras.layers.convolutional.Conv2D at 0x7f8be4d33d30>,\n",
              " <tensorflow.python.keras.layers.normalization_v2.BatchNormalization at 0x7f8be4cdf438>,\n",
              " <tensorflow.python.keras.layers.merge.Add at 0x7f8be4cdfd68>,\n",
              " <tensorflow.python.keras.layers.convolutional.Conv2D at 0x7f8be4cdf9b0>,\n",
              " <tensorflow.python.keras.layers.normalization_v2.BatchNormalization at 0x7f8be4c8d588>,\n",
              " <tensorflow.python.keras.layers.advanced_activations.ReLU at 0x7f8be4c8de10>,\n",
              " <tensorflow.python.keras.layers.convolutional.DepthwiseConv2D at 0x7f8be4c94080>,\n",
              " <tensorflow.python.keras.layers.normalization_v2.BatchNormalization at 0x7f8be4cb9978>,\n",
              " <tensorflow.python.keras.layers.advanced_activations.ReLU at 0x7f8be4cb9c88>,\n",
              " <tensorflow.python.keras.layers.convolutional.Conv2D at 0x7f8be4c41438>,\n",
              " <tensorflow.python.keras.layers.normalization_v2.BatchNormalization at 0x7f8be4c67860>,\n",
              " <tensorflow.python.keras.layers.merge.Add at 0x7f8be4c0be80>,\n",
              " <tensorflow.python.keras.layers.convolutional.Conv2D at 0x7f8be4c6d0f0>,\n",
              " <tensorflow.python.keras.layers.normalization_v2.BatchNormalization at 0x7f8be4c169b0>,\n",
              " <tensorflow.python.keras.layers.advanced_activations.ReLU at 0x7f8be4c1b518>,\n",
              " <tensorflow.python.keras.layers.convolutional.ZeroPadding2D at 0x7f8be4c1b048>,\n",
              " <tensorflow.python.keras.layers.convolutional.DepthwiseConv2D at 0x7f8be4bc2860>,\n",
              " <tensorflow.python.keras.layers.normalization_v2.BatchNormalization at 0x7f8be4bc7588>,\n",
              " <tensorflow.python.keras.layers.advanced_activations.ReLU at 0x7f8be4bc7b70>,\n",
              " <tensorflow.python.keras.layers.convolutional.Conv2D at 0x7f8be4bc7748>,\n",
              " <tensorflow.python.keras.layers.normalization_v2.BatchNormalization at 0x7f8be4bf7278>,\n",
              " <tensorflow.python.keras.layers.convolutional.Conv2D at 0x7f8be4bf79e8>,\n",
              " <tensorflow.python.keras.layers.normalization_v2.BatchNormalization at 0x7f8be4ba70b8>,\n",
              " <tensorflow.python.keras.layers.advanced_activations.ReLU at 0x7f8be4ba7a20>,\n",
              " <tensorflow.python.keras.layers.convolutional.DepthwiseConv2D at 0x7f8be4ba7630>,\n",
              " <tensorflow.python.keras.layers.normalization_v2.BatchNormalization at 0x7f8be4b53668>,\n",
              " <tensorflow.python.keras.layers.advanced_activations.ReLU at 0x7f8be4b53f60>,\n",
              " <tensorflow.python.keras.layers.convolutional.Conv2D at 0x7f8be4b538d0>,\n",
              " <tensorflow.python.keras.layers.normalization_v2.BatchNormalization at 0x7f8be42bd208>,\n",
              " <tensorflow.python.keras.layers.merge.Add at 0x7f8be42bd978>,\n",
              " <tensorflow.python.keras.layers.convolutional.Conv2D at 0x7f8be42bd9b0>,\n",
              " <tensorflow.python.keras.layers.normalization_v2.BatchNormalization at 0x7f8be42ee358>,\n",
              " <tensorflow.python.keras.layers.advanced_activations.ReLU at 0x7f8be42eee48>,\n",
              " <tensorflow.python.keras.layers.convolutional.DepthwiseConv2D at 0x7f8be42eeb00>,\n",
              " <tensorflow.python.keras.layers.normalization_v2.BatchNormalization at 0x7f8be429a3c8>,\n",
              " <tensorflow.python.keras.layers.advanced_activations.ReLU at 0x7f8be429aa90>,\n",
              " <tensorflow.python.keras.layers.convolutional.Conv2D at 0x7f8be42a1240>,\n",
              " <tensorflow.python.keras.layers.normalization_v2.BatchNormalization at 0x7f8be4246630>,\n",
              " <tensorflow.python.keras.layers.merge.Add at 0x7f8be4246e10>,\n",
              " <tensorflow.python.keras.layers.convolutional.Conv2D at 0x7f8be424c208>,\n",
              " <tensorflow.python.keras.layers.normalization_v2.BatchNormalization at 0x7f8be4276780>,\n",
              " <tensorflow.python.keras.layers.advanced_activations.ReLU at 0x7f8be4276f28>,\n",
              " <tensorflow.python.keras.layers.convolutional.DepthwiseConv2D at 0x7f8be427a2e8>,\n",
              " <tensorflow.python.keras.layers.normalization_v2.BatchNormalization at 0x7f8be4223b70>,\n",
              " <tensorflow.python.keras.layers.advanced_activations.ReLU at 0x7f8be4223e80>,\n",
              " <tensorflow.python.keras.layers.convolutional.Conv2D at 0x7f8be4227630>,\n",
              " <tensorflow.python.keras.layers.normalization_v2.BatchNormalization at 0x7f8be41d1a58>,\n",
              " <tensorflow.python.keras.layers.convolutional.Conv2D at 0x7f8be41d8208>,\n",
              " <tensorflow.python.keras.layers.normalization_v2.BatchNormalization at 0x7f8be417e710>,\n",
              " <tensorflow.python.keras.layers.advanced_activations.ReLU at 0x7f8be417ef98>]"
            ]
          },
          "metadata": {
            "tags": []
          },
          "execution_count": 212
        }
      ]
    },
    {
      "cell_type": "code",
      "metadata": {
        "id": "OMG6CVzVv319",
        "colab_type": "code",
        "colab": {}
      },
      "source": [
        "#base_model.trainable = False"
      ],
      "execution_count": 0,
      "outputs": []
    },
    {
      "cell_type": "code",
      "metadata": {
        "id": "df2rzumwv31_",
        "colab_type": "code",
        "outputId": "302747ac-24e1-4143-a8a0-442903f49c9c",
        "colab": {
          "base_uri": "https://localhost:8080/",
          "height": 34
        }
      },
      "source": [
        "base_model.trainable"
      ],
      "execution_count": 214,
      "outputs": [
        {
          "output_type": "execute_result",
          "data": {
            "text/plain": [
              "True"
            ]
          },
          "metadata": {
            "tags": []
          },
          "execution_count": 214
        }
      ]
    },
    {
      "cell_type": "code",
      "metadata": {
        "id": "zamZQfwzv32C",
        "colab_type": "code",
        "outputId": "8682dc79-9cf8-4fed-b84b-175939f843e5",
        "colab": {
          "base_uri": "https://localhost:8080/",
          "height": 1000
        }
      },
      "source": [
        "model.summary()"
      ],
      "execution_count": 215,
      "outputs": [
        {
          "output_type": "stream",
          "text": [
            "Model: \"model_1\"\n",
            "__________________________________________________________________________________________________\n",
            "Layer (type)                    Output Shape         Param #     Connected to                     \n",
            "==================================================================================================\n",
            "input_2 (InputLayer)            [(None, 224, 224, 3) 0                                            \n",
            "__________________________________________________________________________________________________\n",
            "Conv1_pad (ZeroPadding2D)       (None, 225, 225, 3)  0           input_2[0][0]                    \n",
            "__________________________________________________________________________________________________\n",
            "Conv1 (Conv2D)                  (None, 112, 112, 32) 864         Conv1_pad[0][0]                  \n",
            "__________________________________________________________________________________________________\n",
            "bn_Conv1 (BatchNormalization)   (None, 112, 112, 32) 128         Conv1[0][0]                      \n",
            "__________________________________________________________________________________________________\n",
            "Conv1_relu (ReLU)               (None, 112, 112, 32) 0           bn_Conv1[0][0]                   \n",
            "__________________________________________________________________________________________________\n",
            "expanded_conv_depthwise (Depthw (None, 112, 112, 32) 288         Conv1_relu[0][0]                 \n",
            "__________________________________________________________________________________________________\n",
            "expanded_conv_depthwise_BN (Bat (None, 112, 112, 32) 128         expanded_conv_depthwise[0][0]    \n",
            "__________________________________________________________________________________________________\n",
            "expanded_conv_depthwise_relu (R (None, 112, 112, 32) 0           expanded_conv_depthwise_BN[0][0] \n",
            "__________________________________________________________________________________________________\n",
            "expanded_conv_project (Conv2D)  (None, 112, 112, 16) 512         expanded_conv_depthwise_relu[0][0\n",
            "__________________________________________________________________________________________________\n",
            "expanded_conv_project_BN (Batch (None, 112, 112, 16) 64          expanded_conv_project[0][0]      \n",
            "__________________________________________________________________________________________________\n",
            "block_1_expand (Conv2D)         (None, 112, 112, 96) 1536        expanded_conv_project_BN[0][0]   \n",
            "__________________________________________________________________________________________________\n",
            "block_1_expand_BN (BatchNormali (None, 112, 112, 96) 384         block_1_expand[0][0]             \n",
            "__________________________________________________________________________________________________\n",
            "block_1_expand_relu (ReLU)      (None, 112, 112, 96) 0           block_1_expand_BN[0][0]          \n",
            "__________________________________________________________________________________________________\n",
            "block_1_pad (ZeroPadding2D)     (None, 113, 113, 96) 0           block_1_expand_relu[0][0]        \n",
            "__________________________________________________________________________________________________\n",
            "block_1_depthwise (DepthwiseCon (None, 56, 56, 96)   864         block_1_pad[0][0]                \n",
            "__________________________________________________________________________________________________\n",
            "block_1_depthwise_BN (BatchNorm (None, 56, 56, 96)   384         block_1_depthwise[0][0]          \n",
            "__________________________________________________________________________________________________\n",
            "block_1_depthwise_relu (ReLU)   (None, 56, 56, 96)   0           block_1_depthwise_BN[0][0]       \n",
            "__________________________________________________________________________________________________\n",
            "block_1_project (Conv2D)        (None, 56, 56, 24)   2304        block_1_depthwise_relu[0][0]     \n",
            "__________________________________________________________________________________________________\n",
            "block_1_project_BN (BatchNormal (None, 56, 56, 24)   96          block_1_project[0][0]            \n",
            "__________________________________________________________________________________________________\n",
            "block_2_expand (Conv2D)         (None, 56, 56, 144)  3456        block_1_project_BN[0][0]         \n",
            "__________________________________________________________________________________________________\n",
            "block_2_expand_BN (BatchNormali (None, 56, 56, 144)  576         block_2_expand[0][0]             \n",
            "__________________________________________________________________________________________________\n",
            "block_2_expand_relu (ReLU)      (None, 56, 56, 144)  0           block_2_expand_BN[0][0]          \n",
            "__________________________________________________________________________________________________\n",
            "block_2_depthwise (DepthwiseCon (None, 56, 56, 144)  1296        block_2_expand_relu[0][0]        \n",
            "__________________________________________________________________________________________________\n",
            "block_2_depthwise_BN (BatchNorm (None, 56, 56, 144)  576         block_2_depthwise[0][0]          \n",
            "__________________________________________________________________________________________________\n",
            "block_2_depthwise_relu (ReLU)   (None, 56, 56, 144)  0           block_2_depthwise_BN[0][0]       \n",
            "__________________________________________________________________________________________________\n",
            "block_2_project (Conv2D)        (None, 56, 56, 24)   3456        block_2_depthwise_relu[0][0]     \n",
            "__________________________________________________________________________________________________\n",
            "block_2_project_BN (BatchNormal (None, 56, 56, 24)   96          block_2_project[0][0]            \n",
            "__________________________________________________________________________________________________\n",
            "block_2_add (Add)               (None, 56, 56, 24)   0           block_1_project_BN[0][0]         \n",
            "                                                                 block_2_project_BN[0][0]         \n",
            "__________________________________________________________________________________________________\n",
            "block_3_expand (Conv2D)         (None, 56, 56, 144)  3456        block_2_add[0][0]                \n",
            "__________________________________________________________________________________________________\n",
            "block_3_expand_BN (BatchNormali (None, 56, 56, 144)  576         block_3_expand[0][0]             \n",
            "__________________________________________________________________________________________________\n",
            "block_3_expand_relu (ReLU)      (None, 56, 56, 144)  0           block_3_expand_BN[0][0]          \n",
            "__________________________________________________________________________________________________\n",
            "block_3_pad (ZeroPadding2D)     (None, 57, 57, 144)  0           block_3_expand_relu[0][0]        \n",
            "__________________________________________________________________________________________________\n",
            "block_3_depthwise (DepthwiseCon (None, 28, 28, 144)  1296        block_3_pad[0][0]                \n",
            "__________________________________________________________________________________________________\n",
            "block_3_depthwise_BN (BatchNorm (None, 28, 28, 144)  576         block_3_depthwise[0][0]          \n",
            "__________________________________________________________________________________________________\n",
            "block_3_depthwise_relu (ReLU)   (None, 28, 28, 144)  0           block_3_depthwise_BN[0][0]       \n",
            "__________________________________________________________________________________________________\n",
            "block_3_project (Conv2D)        (None, 28, 28, 32)   4608        block_3_depthwise_relu[0][0]     \n",
            "__________________________________________________________________________________________________\n",
            "block_3_project_BN (BatchNormal (None, 28, 28, 32)   128         block_3_project[0][0]            \n",
            "__________________________________________________________________________________________________\n",
            "block_4_expand (Conv2D)         (None, 28, 28, 192)  6144        block_3_project_BN[0][0]         \n",
            "__________________________________________________________________________________________________\n",
            "block_4_expand_BN (BatchNormali (None, 28, 28, 192)  768         block_4_expand[0][0]             \n",
            "__________________________________________________________________________________________________\n",
            "block_4_expand_relu (ReLU)      (None, 28, 28, 192)  0           block_4_expand_BN[0][0]          \n",
            "__________________________________________________________________________________________________\n",
            "block_4_depthwise (DepthwiseCon (None, 28, 28, 192)  1728        block_4_expand_relu[0][0]        \n",
            "__________________________________________________________________________________________________\n",
            "block_4_depthwise_BN (BatchNorm (None, 28, 28, 192)  768         block_4_depthwise[0][0]          \n",
            "__________________________________________________________________________________________________\n",
            "block_4_depthwise_relu (ReLU)   (None, 28, 28, 192)  0           block_4_depthwise_BN[0][0]       \n",
            "__________________________________________________________________________________________________\n",
            "block_4_project (Conv2D)        (None, 28, 28, 32)   6144        block_4_depthwise_relu[0][0]     \n",
            "__________________________________________________________________________________________________\n",
            "block_4_project_BN (BatchNormal (None, 28, 28, 32)   128         block_4_project[0][0]            \n",
            "__________________________________________________________________________________________________\n",
            "block_4_add (Add)               (None, 28, 28, 32)   0           block_3_project_BN[0][0]         \n",
            "                                                                 block_4_project_BN[0][0]         \n",
            "__________________________________________________________________________________________________\n",
            "block_5_expand (Conv2D)         (None, 28, 28, 192)  6144        block_4_add[0][0]                \n",
            "__________________________________________________________________________________________________\n",
            "block_5_expand_BN (BatchNormali (None, 28, 28, 192)  768         block_5_expand[0][0]             \n",
            "__________________________________________________________________________________________________\n",
            "block_5_expand_relu (ReLU)      (None, 28, 28, 192)  0           block_5_expand_BN[0][0]          \n",
            "__________________________________________________________________________________________________\n",
            "block_5_depthwise (DepthwiseCon (None, 28, 28, 192)  1728        block_5_expand_relu[0][0]        \n",
            "__________________________________________________________________________________________________\n",
            "block_5_depthwise_BN (BatchNorm (None, 28, 28, 192)  768         block_5_depthwise[0][0]          \n",
            "__________________________________________________________________________________________________\n",
            "block_5_depthwise_relu (ReLU)   (None, 28, 28, 192)  0           block_5_depthwise_BN[0][0]       \n",
            "__________________________________________________________________________________________________\n",
            "block_5_project (Conv2D)        (None, 28, 28, 32)   6144        block_5_depthwise_relu[0][0]     \n",
            "__________________________________________________________________________________________________\n",
            "block_5_project_BN (BatchNormal (None, 28, 28, 32)   128         block_5_project[0][0]            \n",
            "__________________________________________________________________________________________________\n",
            "block_5_add (Add)               (None, 28, 28, 32)   0           block_4_add[0][0]                \n",
            "                                                                 block_5_project_BN[0][0]         \n",
            "__________________________________________________________________________________________________\n",
            "block_6_expand (Conv2D)         (None, 28, 28, 192)  6144        block_5_add[0][0]                \n",
            "__________________________________________________________________________________________________\n",
            "block_6_expand_BN (BatchNormali (None, 28, 28, 192)  768         block_6_expand[0][0]             \n",
            "__________________________________________________________________________________________________\n",
            "block_6_expand_relu (ReLU)      (None, 28, 28, 192)  0           block_6_expand_BN[0][0]          \n",
            "__________________________________________________________________________________________________\n",
            "block_6_pad (ZeroPadding2D)     (None, 29, 29, 192)  0           block_6_expand_relu[0][0]        \n",
            "__________________________________________________________________________________________________\n",
            "block_6_depthwise (DepthwiseCon (None, 14, 14, 192)  1728        block_6_pad[0][0]                \n",
            "__________________________________________________________________________________________________\n",
            "block_6_depthwise_BN (BatchNorm (None, 14, 14, 192)  768         block_6_depthwise[0][0]          \n",
            "__________________________________________________________________________________________________\n",
            "block_6_depthwise_relu (ReLU)   (None, 14, 14, 192)  0           block_6_depthwise_BN[0][0]       \n",
            "__________________________________________________________________________________________________\n",
            "block_6_project (Conv2D)        (None, 14, 14, 64)   12288       block_6_depthwise_relu[0][0]     \n",
            "__________________________________________________________________________________________________\n",
            "block_6_project_BN (BatchNormal (None, 14, 14, 64)   256         block_6_project[0][0]            \n",
            "__________________________________________________________________________________________________\n",
            "block_7_expand (Conv2D)         (None, 14, 14, 384)  24576       block_6_project_BN[0][0]         \n",
            "__________________________________________________________________________________________________\n",
            "block_7_expand_BN (BatchNormali (None, 14, 14, 384)  1536        block_7_expand[0][0]             \n",
            "__________________________________________________________________________________________________\n",
            "block_7_expand_relu (ReLU)      (None, 14, 14, 384)  0           block_7_expand_BN[0][0]          \n",
            "__________________________________________________________________________________________________\n",
            "block_7_depthwise (DepthwiseCon (None, 14, 14, 384)  3456        block_7_expand_relu[0][0]        \n",
            "__________________________________________________________________________________________________\n",
            "block_7_depthwise_BN (BatchNorm (None, 14, 14, 384)  1536        block_7_depthwise[0][0]          \n",
            "__________________________________________________________________________________________________\n",
            "block_7_depthwise_relu (ReLU)   (None, 14, 14, 384)  0           block_7_depthwise_BN[0][0]       \n",
            "__________________________________________________________________________________________________\n",
            "block_7_project (Conv2D)        (None, 14, 14, 64)   24576       block_7_depthwise_relu[0][0]     \n",
            "__________________________________________________________________________________________________\n",
            "block_7_project_BN (BatchNormal (None, 14, 14, 64)   256         block_7_project[0][0]            \n",
            "__________________________________________________________________________________________________\n",
            "block_7_add (Add)               (None, 14, 14, 64)   0           block_6_project_BN[0][0]         \n",
            "                                                                 block_7_project_BN[0][0]         \n",
            "__________________________________________________________________________________________________\n",
            "block_8_expand (Conv2D)         (None, 14, 14, 384)  24576       block_7_add[0][0]                \n",
            "__________________________________________________________________________________________________\n",
            "block_8_expand_BN (BatchNormali (None, 14, 14, 384)  1536        block_8_expand[0][0]             \n",
            "__________________________________________________________________________________________________\n",
            "block_8_expand_relu (ReLU)      (None, 14, 14, 384)  0           block_8_expand_BN[0][0]          \n",
            "__________________________________________________________________________________________________\n",
            "block_8_depthwise (DepthwiseCon (None, 14, 14, 384)  3456        block_8_expand_relu[0][0]        \n",
            "__________________________________________________________________________________________________\n",
            "block_8_depthwise_BN (BatchNorm (None, 14, 14, 384)  1536        block_8_depthwise[0][0]          \n",
            "__________________________________________________________________________________________________\n",
            "block_8_depthwise_relu (ReLU)   (None, 14, 14, 384)  0           block_8_depthwise_BN[0][0]       \n",
            "__________________________________________________________________________________________________\n",
            "block_8_project (Conv2D)        (None, 14, 14, 64)   24576       block_8_depthwise_relu[0][0]     \n",
            "__________________________________________________________________________________________________\n",
            "block_8_project_BN (BatchNormal (None, 14, 14, 64)   256         block_8_project[0][0]            \n",
            "__________________________________________________________________________________________________\n",
            "block_8_add (Add)               (None, 14, 14, 64)   0           block_7_add[0][0]                \n",
            "                                                                 block_8_project_BN[0][0]         \n",
            "__________________________________________________________________________________________________\n",
            "block_9_expand (Conv2D)         (None, 14, 14, 384)  24576       block_8_add[0][0]                \n",
            "__________________________________________________________________________________________________\n",
            "block_9_expand_BN (BatchNormali (None, 14, 14, 384)  1536        block_9_expand[0][0]             \n",
            "__________________________________________________________________________________________________\n",
            "block_9_expand_relu (ReLU)      (None, 14, 14, 384)  0           block_9_expand_BN[0][0]          \n",
            "__________________________________________________________________________________________________\n",
            "block_9_depthwise (DepthwiseCon (None, 14, 14, 384)  3456        block_9_expand_relu[0][0]        \n",
            "__________________________________________________________________________________________________\n",
            "block_9_depthwise_BN (BatchNorm (None, 14, 14, 384)  1536        block_9_depthwise[0][0]          \n",
            "__________________________________________________________________________________________________\n",
            "block_9_depthwise_relu (ReLU)   (None, 14, 14, 384)  0           block_9_depthwise_BN[0][0]       \n",
            "__________________________________________________________________________________________________\n",
            "block_9_project (Conv2D)        (None, 14, 14, 64)   24576       block_9_depthwise_relu[0][0]     \n",
            "__________________________________________________________________________________________________\n",
            "block_9_project_BN (BatchNormal (None, 14, 14, 64)   256         block_9_project[0][0]            \n",
            "__________________________________________________________________________________________________\n",
            "block_9_add (Add)               (None, 14, 14, 64)   0           block_8_add[0][0]                \n",
            "                                                                 block_9_project_BN[0][0]         \n",
            "__________________________________________________________________________________________________\n",
            "block_10_expand (Conv2D)        (None, 14, 14, 384)  24576       block_9_add[0][0]                \n",
            "__________________________________________________________________________________________________\n",
            "block_10_expand_BN (BatchNormal (None, 14, 14, 384)  1536        block_10_expand[0][0]            \n",
            "__________________________________________________________________________________________________\n",
            "block_10_expand_relu (ReLU)     (None, 14, 14, 384)  0           block_10_expand_BN[0][0]         \n",
            "__________________________________________________________________________________________________\n",
            "block_10_depthwise (DepthwiseCo (None, 14, 14, 384)  3456        block_10_expand_relu[0][0]       \n",
            "__________________________________________________________________________________________________\n",
            "block_10_depthwise_BN (BatchNor (None, 14, 14, 384)  1536        block_10_depthwise[0][0]         \n",
            "__________________________________________________________________________________________________\n",
            "block_10_depthwise_relu (ReLU)  (None, 14, 14, 384)  0           block_10_depthwise_BN[0][0]      \n",
            "__________________________________________________________________________________________________\n",
            "block_10_project (Conv2D)       (None, 14, 14, 96)   36864       block_10_depthwise_relu[0][0]    \n",
            "__________________________________________________________________________________________________\n",
            "block_10_project_BN (BatchNorma (None, 14, 14, 96)   384         block_10_project[0][0]           \n",
            "__________________________________________________________________________________________________\n",
            "block_11_expand (Conv2D)        (None, 14, 14, 576)  55296       block_10_project_BN[0][0]        \n",
            "__________________________________________________________________________________________________\n",
            "block_11_expand_BN (BatchNormal (None, 14, 14, 576)  2304        block_11_expand[0][0]            \n",
            "__________________________________________________________________________________________________\n",
            "block_11_expand_relu (ReLU)     (None, 14, 14, 576)  0           block_11_expand_BN[0][0]         \n",
            "__________________________________________________________________________________________________\n",
            "block_11_depthwise (DepthwiseCo (None, 14, 14, 576)  5184        block_11_expand_relu[0][0]       \n",
            "__________________________________________________________________________________________________\n",
            "block_11_depthwise_BN (BatchNor (None, 14, 14, 576)  2304        block_11_depthwise[0][0]         \n",
            "__________________________________________________________________________________________________\n",
            "block_11_depthwise_relu (ReLU)  (None, 14, 14, 576)  0           block_11_depthwise_BN[0][0]      \n",
            "__________________________________________________________________________________________________\n",
            "block_11_project (Conv2D)       (None, 14, 14, 96)   55296       block_11_depthwise_relu[0][0]    \n",
            "__________________________________________________________________________________________________\n",
            "block_11_project_BN (BatchNorma (None, 14, 14, 96)   384         block_11_project[0][0]           \n",
            "__________________________________________________________________________________________________\n",
            "block_11_add (Add)              (None, 14, 14, 96)   0           block_10_project_BN[0][0]        \n",
            "                                                                 block_11_project_BN[0][0]        \n",
            "__________________________________________________________________________________________________\n",
            "block_12_expand (Conv2D)        (None, 14, 14, 576)  55296       block_11_add[0][0]               \n",
            "__________________________________________________________________________________________________\n",
            "block_12_expand_BN (BatchNormal (None, 14, 14, 576)  2304        block_12_expand[0][0]            \n",
            "__________________________________________________________________________________________________\n",
            "block_12_expand_relu (ReLU)     (None, 14, 14, 576)  0           block_12_expand_BN[0][0]         \n",
            "__________________________________________________________________________________________________\n",
            "block_12_depthwise (DepthwiseCo (None, 14, 14, 576)  5184        block_12_expand_relu[0][0]       \n",
            "__________________________________________________________________________________________________\n",
            "block_12_depthwise_BN (BatchNor (None, 14, 14, 576)  2304        block_12_depthwise[0][0]         \n",
            "__________________________________________________________________________________________________\n",
            "block_12_depthwise_relu (ReLU)  (None, 14, 14, 576)  0           block_12_depthwise_BN[0][0]      \n",
            "__________________________________________________________________________________________________\n",
            "block_12_project (Conv2D)       (None, 14, 14, 96)   55296       block_12_depthwise_relu[0][0]    \n",
            "__________________________________________________________________________________________________\n",
            "block_12_project_BN (BatchNorma (None, 14, 14, 96)   384         block_12_project[0][0]           \n",
            "__________________________________________________________________________________________________\n",
            "block_12_add (Add)              (None, 14, 14, 96)   0           block_11_add[0][0]               \n",
            "                                                                 block_12_project_BN[0][0]        \n",
            "__________________________________________________________________________________________________\n",
            "block_13_expand (Conv2D)        (None, 14, 14, 576)  55296       block_12_add[0][0]               \n",
            "__________________________________________________________________________________________________\n",
            "block_13_expand_BN (BatchNormal (None, 14, 14, 576)  2304        block_13_expand[0][0]            \n",
            "__________________________________________________________________________________________________\n",
            "block_13_expand_relu (ReLU)     (None, 14, 14, 576)  0           block_13_expand_BN[0][0]         \n",
            "__________________________________________________________________________________________________\n",
            "block_13_pad (ZeroPadding2D)    (None, 15, 15, 576)  0           block_13_expand_relu[0][0]       \n",
            "__________________________________________________________________________________________________\n",
            "block_13_depthwise (DepthwiseCo (None, 7, 7, 576)    5184        block_13_pad[0][0]               \n",
            "__________________________________________________________________________________________________\n",
            "block_13_depthwise_BN (BatchNor (None, 7, 7, 576)    2304        block_13_depthwise[0][0]         \n",
            "__________________________________________________________________________________________________\n",
            "block_13_depthwise_relu (ReLU)  (None, 7, 7, 576)    0           block_13_depthwise_BN[0][0]      \n",
            "__________________________________________________________________________________________________\n",
            "block_13_project (Conv2D)       (None, 7, 7, 160)    92160       block_13_depthwise_relu[0][0]    \n",
            "__________________________________________________________________________________________________\n",
            "block_13_project_BN (BatchNorma (None, 7, 7, 160)    640         block_13_project[0][0]           \n",
            "__________________________________________________________________________________________________\n",
            "block_14_expand (Conv2D)        (None, 7, 7, 960)    153600      block_13_project_BN[0][0]        \n",
            "__________________________________________________________________________________________________\n",
            "block_14_expand_BN (BatchNormal (None, 7, 7, 960)    3840        block_14_expand[0][0]            \n",
            "__________________________________________________________________________________________________\n",
            "block_14_expand_relu (ReLU)     (None, 7, 7, 960)    0           block_14_expand_BN[0][0]         \n",
            "__________________________________________________________________________________________________\n",
            "block_14_depthwise (DepthwiseCo (None, 7, 7, 960)    8640        block_14_expand_relu[0][0]       \n",
            "__________________________________________________________________________________________________\n",
            "block_14_depthwise_BN (BatchNor (None, 7, 7, 960)    3840        block_14_depthwise[0][0]         \n",
            "__________________________________________________________________________________________________\n",
            "block_14_depthwise_relu (ReLU)  (None, 7, 7, 960)    0           block_14_depthwise_BN[0][0]      \n",
            "__________________________________________________________________________________________________\n",
            "block_14_project (Conv2D)       (None, 7, 7, 160)    153600      block_14_depthwise_relu[0][0]    \n",
            "__________________________________________________________________________________________________\n",
            "block_14_project_BN (BatchNorma (None, 7, 7, 160)    640         block_14_project[0][0]           \n",
            "__________________________________________________________________________________________________\n",
            "block_14_add (Add)              (None, 7, 7, 160)    0           block_13_project_BN[0][0]        \n",
            "                                                                 block_14_project_BN[0][0]        \n",
            "__________________________________________________________________________________________________\n",
            "block_15_expand (Conv2D)        (None, 7, 7, 960)    153600      block_14_add[0][0]               \n",
            "__________________________________________________________________________________________________\n",
            "block_15_expand_BN (BatchNormal (None, 7, 7, 960)    3840        block_15_expand[0][0]            \n",
            "__________________________________________________________________________________________________\n",
            "block_15_expand_relu (ReLU)     (None, 7, 7, 960)    0           block_15_expand_BN[0][0]         \n",
            "__________________________________________________________________________________________________\n",
            "block_15_depthwise (DepthwiseCo (None, 7, 7, 960)    8640        block_15_expand_relu[0][0]       \n",
            "__________________________________________________________________________________________________\n",
            "block_15_depthwise_BN (BatchNor (None, 7, 7, 960)    3840        block_15_depthwise[0][0]         \n",
            "__________________________________________________________________________________________________\n",
            "block_15_depthwise_relu (ReLU)  (None, 7, 7, 960)    0           block_15_depthwise_BN[0][0]      \n",
            "__________________________________________________________________________________________________\n",
            "block_15_project (Conv2D)       (None, 7, 7, 160)    153600      block_15_depthwise_relu[0][0]    \n",
            "__________________________________________________________________________________________________\n",
            "block_15_project_BN (BatchNorma (None, 7, 7, 160)    640         block_15_project[0][0]           \n",
            "__________________________________________________________________________________________________\n",
            "block_15_add (Add)              (None, 7, 7, 160)    0           block_14_add[0][0]               \n",
            "                                                                 block_15_project_BN[0][0]        \n",
            "__________________________________________________________________________________________________\n",
            "block_16_expand (Conv2D)        (None, 7, 7, 960)    153600      block_15_add[0][0]               \n",
            "__________________________________________________________________________________________________\n",
            "block_16_expand_BN (BatchNormal (None, 7, 7, 960)    3840        block_16_expand[0][0]            \n",
            "__________________________________________________________________________________________________\n",
            "block_16_expand_relu (ReLU)     (None, 7, 7, 960)    0           block_16_expand_BN[0][0]         \n",
            "__________________________________________________________________________________________________\n",
            "block_16_depthwise (DepthwiseCo (None, 7, 7, 960)    8640        block_16_expand_relu[0][0]       \n",
            "__________________________________________________________________________________________________\n",
            "block_16_depthwise_BN (BatchNor (None, 7, 7, 960)    3840        block_16_depthwise[0][0]         \n",
            "__________________________________________________________________________________________________\n",
            "block_16_depthwise_relu (ReLU)  (None, 7, 7, 960)    0           block_16_depthwise_BN[0][0]      \n",
            "__________________________________________________________________________________________________\n",
            "block_16_project (Conv2D)       (None, 7, 7, 320)    307200      block_16_depthwise_relu[0][0]    \n",
            "__________________________________________________________________________________________________\n",
            "block_16_project_BN (BatchNorma (None, 7, 7, 320)    1280        block_16_project[0][0]           \n",
            "__________________________________________________________________________________________________\n",
            "Conv_1 (Conv2D)                 (None, 7, 7, 1280)   409600      block_16_project_BN[0][0]        \n",
            "__________________________________________________________________________________________________\n",
            "Conv_1_bn (BatchNormalization)  (None, 7, 7, 1280)   5120        Conv_1[0][0]                     \n",
            "__________________________________________________________________________________________________\n",
            "out_relu (ReLU)                 (None, 7, 7, 1280)   0           Conv_1_bn[0][0]                  \n",
            "__________________________________________________________________________________________________\n",
            "max_pooling2d_1 (MaxPooling2D)  (None, 1, 1, 1280)   0           out_relu[0][0]                   \n",
            "__________________________________________________________________________________________________\n",
            "flatten_1 (Flatten)             (None, 1280)         0           max_pooling2d_1[0][0]            \n",
            "__________________________________________________________________________________________________\n",
            "dense_2 (Dense)                 (None, 128)          163968      flatten_1[0][0]                  \n",
            "__________________________________________________________________________________________________\n",
            "dropout_1 (Dropout)             (None, 128)          0           dense_2[0][0]                    \n",
            "__________________________________________________________________________________________________\n",
            "dense_3 (Dense)                 (None, 2)            258         dropout_1[0][0]                  \n",
            "==================================================================================================\n",
            "Total params: 2,422,210\n",
            "Trainable params: 164,226\n",
            "Non-trainable params: 2,257,984\n",
            "__________________________________________________________________________________________________\n"
          ],
          "name": "stdout"
        }
      ]
    },
    {
      "cell_type": "code",
      "metadata": {
        "id": "vUQAi4dFv32D",
        "colab_type": "code",
        "colab": {}
      },
      "source": [
        "#the model has been built with the mobilenet model set to not trainable as its preloaded with imagenet weights"
      ],
      "execution_count": 0,
      "outputs": []
    },
    {
      "cell_type": "code",
      "metadata": {
        "id": "Qp7DbOs_v32F",
        "colab_type": "code",
        "colab": {}
      },
      "source": [
        "model.compile(loss='binary_crossentropy',optimizer='adam',metrics=['accuracy'])"
      ],
      "execution_count": 0,
      "outputs": []
    },
    {
      "cell_type": "code",
      "metadata": {
        "id": "A-9Ps9H-v32G",
        "colab_type": "code",
        "outputId": "2a016bc3-959e-4104-c396-4ff6aa55517e",
        "colab": {
          "base_uri": "https://localhost:8080/",
          "height": 370
        }
      },
      "source": [
        "model.fit(train_imgs,validation_data=test_imgs,epochs=10)"
      ],
      "execution_count": 218,
      "outputs": [
        {
          "output_type": "stream",
          "text": [
            "Epoch 1/10\n",
            "35/35 [==============================] - 22s 615ms/step - loss: 1.9375 - accuracy: 0.7826 - val_loss: 0.0526 - val_accuracy: 0.9739\n",
            "Epoch 2/10\n",
            "35/35 [==============================] - 21s 590ms/step - loss: 0.0810 - accuracy: 0.9789 - val_loss: 0.0475 - val_accuracy: 0.9869\n",
            "Epoch 3/10\n",
            "35/35 [==============================] - 21s 588ms/step - loss: 0.0347 - accuracy: 0.9862 - val_loss: 0.0428 - val_accuracy: 0.9869\n",
            "Epoch 4/10\n",
            "35/35 [==============================] - 21s 595ms/step - loss: 0.0285 - accuracy: 0.9908 - val_loss: 0.0504 - val_accuracy: 0.9837\n",
            "Epoch 5/10\n",
            "35/35 [==============================] - 21s 588ms/step - loss: 0.0286 - accuracy: 0.9890 - val_loss: 0.1659 - val_accuracy: 0.9542\n",
            "Epoch 6/10\n",
            "35/35 [==============================] - 21s 590ms/step - loss: 0.0815 - accuracy: 0.9670 - val_loss: 0.0618 - val_accuracy: 0.9804\n",
            "Epoch 7/10\n",
            "35/35 [==============================] - 21s 591ms/step - loss: 0.0623 - accuracy: 0.9844 - val_loss: 0.0536 - val_accuracy: 0.9804\n",
            "Epoch 8/10\n",
            "35/35 [==============================] - 20s 583ms/step - loss: 0.0253 - accuracy: 0.9862 - val_loss: 0.0403 - val_accuracy: 0.9935\n",
            "Epoch 9/10\n",
            "35/35 [==============================] - 20s 582ms/step - loss: 0.0125 - accuracy: 0.9963 - val_loss: 0.0287 - val_accuracy: 0.9869\n",
            "Epoch 10/10\n",
            "35/35 [==============================] - 21s 588ms/step - loss: 0.0179 - accuracy: 0.9945 - val_loss: 0.0642 - val_accuracy: 0.9869\n"
          ],
          "name": "stdout"
        },
        {
          "output_type": "execute_result",
          "data": {
            "text/plain": [
              "<tensorflow.python.keras.callbacks.History at 0x7f8be559bf98>"
            ]
          },
          "metadata": {
            "tags": []
          },
          "execution_count": 218
        }
      ]
    },
    {
      "cell_type": "code",
      "metadata": {
        "id": "a7QO-p5nv32I",
        "colab_type": "code",
        "colab": {}
      },
      "source": [
        "model.save('fmask2.h5')"
      ],
      "execution_count": 0,
      "outputs": []
    },
    {
      "cell_type": "code",
      "metadata": {
        "id": "R0GZ21qOptiX",
        "colab_type": "code",
        "outputId": "04982f75-1380-4e55-9410-54a72db5ae91",
        "colab": {
          "base_uri": "https://localhost:8080/",
          "height": 689
        }
      },
      "source": [
        "model.history.history"
      ],
      "execution_count": 220,
      "outputs": [
        {
          "output_type": "execute_result",
          "data": {
            "text/plain": [
              "{'accuracy': [0.7825688123703003,\n",
              "  0.9788990616798401,\n",
              "  0.9862385392189026,\n",
              "  0.9908257126808167,\n",
              "  0.988990843296051,\n",
              "  0.9669724702835083,\n",
              "  0.984403669834137,\n",
              "  0.9862385392189026,\n",
              "  0.9963302612304688,\n",
              "  0.9944953918457031],\n",
              " 'loss': [1.9375122785568237,\n",
              "  0.08100220561027527,\n",
              "  0.03474533185362816,\n",
              "  0.028481895104050636,\n",
              "  0.02857283316552639,\n",
              "  0.08147860318422318,\n",
              "  0.06227319687604904,\n",
              "  0.025271402671933174,\n",
              "  0.012545648962259293,\n",
              "  0.01789756491780281],\n",
              " 'val_accuracy': [0.9738562107086182,\n",
              "  0.9869281053543091,\n",
              "  0.9869281053543091,\n",
              "  0.983660101890564,\n",
              "  0.9542483687400818,\n",
              "  0.9803921580314636,\n",
              "  0.9803921580314636,\n",
              "  0.9934640526771545,\n",
              "  0.9869281053543091,\n",
              "  0.9869281053543091],\n",
              " 'val_loss': [0.05261974781751633,\n",
              "  0.047473613172769547,\n",
              "  0.04284219443798065,\n",
              "  0.05043543875217438,\n",
              "  0.16593262553215027,\n",
              "  0.06175713613629341,\n",
              "  0.053625356405973434,\n",
              "  0.04027944803237915,\n",
              "  0.028686491772532463,\n",
              "  0.06420967727899551]}"
            ]
          },
          "metadata": {
            "tags": []
          },
          "execution_count": 220
        }
      ]
    },
    {
      "cell_type": "code",
      "metadata": {
        "id": "1JEX_uBspzNs",
        "colab_type": "code",
        "outputId": "a6fad52c-b39d-4dd0-b606-ed86946b4b45",
        "colab": {
          "base_uri": "https://localhost:8080/",
          "height": 343
        }
      },
      "source": [
        "pd.DataFrame(model.history.history)"
      ],
      "execution_count": 221,
      "outputs": [
        {
          "output_type": "execute_result",
          "data": {
            "text/html": [
              "<div>\n",
              "<style scoped>\n",
              "    .dataframe tbody tr th:only-of-type {\n",
              "        vertical-align: middle;\n",
              "    }\n",
              "\n",
              "    .dataframe tbody tr th {\n",
              "        vertical-align: top;\n",
              "    }\n",
              "\n",
              "    .dataframe thead th {\n",
              "        text-align: right;\n",
              "    }\n",
              "</style>\n",
              "<table border=\"1\" class=\"dataframe\">\n",
              "  <thead>\n",
              "    <tr style=\"text-align: right;\">\n",
              "      <th></th>\n",
              "      <th>loss</th>\n",
              "      <th>accuracy</th>\n",
              "      <th>val_loss</th>\n",
              "      <th>val_accuracy</th>\n",
              "    </tr>\n",
              "  </thead>\n",
              "  <tbody>\n",
              "    <tr>\n",
              "      <th>0</th>\n",
              "      <td>1.937512</td>\n",
              "      <td>0.782569</td>\n",
              "      <td>0.052620</td>\n",
              "      <td>0.973856</td>\n",
              "    </tr>\n",
              "    <tr>\n",
              "      <th>1</th>\n",
              "      <td>0.081002</td>\n",
              "      <td>0.978899</td>\n",
              "      <td>0.047474</td>\n",
              "      <td>0.986928</td>\n",
              "    </tr>\n",
              "    <tr>\n",
              "      <th>2</th>\n",
              "      <td>0.034745</td>\n",
              "      <td>0.986239</td>\n",
              "      <td>0.042842</td>\n",
              "      <td>0.986928</td>\n",
              "    </tr>\n",
              "    <tr>\n",
              "      <th>3</th>\n",
              "      <td>0.028482</td>\n",
              "      <td>0.990826</td>\n",
              "      <td>0.050435</td>\n",
              "      <td>0.983660</td>\n",
              "    </tr>\n",
              "    <tr>\n",
              "      <th>4</th>\n",
              "      <td>0.028573</td>\n",
              "      <td>0.988991</td>\n",
              "      <td>0.165933</td>\n",
              "      <td>0.954248</td>\n",
              "    </tr>\n",
              "    <tr>\n",
              "      <th>5</th>\n",
              "      <td>0.081479</td>\n",
              "      <td>0.966972</td>\n",
              "      <td>0.061757</td>\n",
              "      <td>0.980392</td>\n",
              "    </tr>\n",
              "    <tr>\n",
              "      <th>6</th>\n",
              "      <td>0.062273</td>\n",
              "      <td>0.984404</td>\n",
              "      <td>0.053625</td>\n",
              "      <td>0.980392</td>\n",
              "    </tr>\n",
              "    <tr>\n",
              "      <th>7</th>\n",
              "      <td>0.025271</td>\n",
              "      <td>0.986239</td>\n",
              "      <td>0.040279</td>\n",
              "      <td>0.993464</td>\n",
              "    </tr>\n",
              "    <tr>\n",
              "      <th>8</th>\n",
              "      <td>0.012546</td>\n",
              "      <td>0.996330</td>\n",
              "      <td>0.028686</td>\n",
              "      <td>0.986928</td>\n",
              "    </tr>\n",
              "    <tr>\n",
              "      <th>9</th>\n",
              "      <td>0.017898</td>\n",
              "      <td>0.994495</td>\n",
              "      <td>0.064210</td>\n",
              "      <td>0.986928</td>\n",
              "    </tr>\n",
              "  </tbody>\n",
              "</table>\n",
              "</div>"
            ],
            "text/plain": [
              "       loss  accuracy  val_loss  val_accuracy\n",
              "0  1.937512  0.782569  0.052620      0.973856\n",
              "1  0.081002  0.978899  0.047474      0.986928\n",
              "2  0.034745  0.986239  0.042842      0.986928\n",
              "3  0.028482  0.990826  0.050435      0.983660\n",
              "4  0.028573  0.988991  0.165933      0.954248\n",
              "5  0.081479  0.966972  0.061757      0.980392\n",
              "6  0.062273  0.984404  0.053625      0.980392\n",
              "7  0.025271  0.986239  0.040279      0.993464\n",
              "8  0.012546  0.996330  0.028686      0.986928\n",
              "9  0.017898  0.994495  0.064210      0.986928"
            ]
          },
          "metadata": {
            "tags": []
          },
          "execution_count": 221
        }
      ]
    },
    {
      "cell_type": "code",
      "metadata": {
        "id": "9Mg5nr55p6yc",
        "colab_type": "code",
        "colab": {}
      },
      "source": [
        "history = pd.DataFrame(model.history.history)"
      ],
      "execution_count": 0,
      "outputs": []
    },
    {
      "cell_type": "code",
      "metadata": {
        "id": "fO3BfKq4qJHk",
        "colab_type": "code",
        "outputId": "31fd5924-3f15-4742-f89b-815b1cd31108",
        "colab": {
          "base_uri": "https://localhost:8080/",
          "height": 282
        }
      },
      "source": [
        "history[['accuracy','val_accuracy']].plot()"
      ],
      "execution_count": 223,
      "outputs": [
        {
          "output_type": "execute_result",
          "data": {
            "text/plain": [
              "<matplotlib.axes._subplots.AxesSubplot at 0x7f8b3a5de588>"
            ]
          },
          "metadata": {
            "tags": []
          },
          "execution_count": 223
        },
        {
          "output_type": "display_data",
          "data": {
            "image/png": "[encoded data removed]",
            "text/plain": [
              "<Figure size 432x288 with 1 Axes>"
            ]
          },
          "metadata": {
            "tags": [],
            "needs_background": "light"
          }
        }
      ]
    },
    {
      "cell_type": "code",
      "metadata": {
        "id": "KIHvOZoFqUts",
        "colab_type": "code",
        "outputId": "3c754166-4154-4e81-98c5-e469b82be6c5",
        "colab": {
          "base_uri": "https://localhost:8080/",
          "height": 283
        }
      },
      "source": [
        "history[['loss','val_loss']].plot()"
      ],
      "execution_count": 224,
      "outputs": [
        {
          "output_type": "execute_result",
          "data": {
            "text/plain": [
              "<matplotlib.axes._subplots.AxesSubplot at 0x7f8b3a569e48>"
            ]
          },
          "metadata": {
            "tags": []
          },
          "execution_count": 224
        },
        {
          "output_type": "display_data",
          "data": {
            "image/png": "[encoded data removed]",
            "text/plain": [
              "<Figure size 432x288 with 1 Axes>"
            ]
          },
          "metadata": {
            "tags": [],
            "needs_background": "light"
          }
        }
      ]
    },
    {
      "cell_type": "code",
      "metadata": {
        "id": "SGz-EJT1qcYm",
        "colab_type": "code",
        "colab": {}
      },
      "source": [
        "from sklearn.metrics import classification_report,confusion_matrix"
      ],
      "execution_count": 0,
      "outputs": []
    },
    {
      "cell_type": "code",
      "metadata": {
        "id": "p1aZ_tbdreWG",
        "colab_type": "code",
        "colab": {}
      },
      "source": [
        "pred = model.predict(test_imgs)"
      ],
      "execution_count": 0,
      "outputs": []
    },
    {
      "cell_type": "code",
      "metadata": {
        "id": "7bzi-Rk3rzG0",
        "colab_type": "code",
        "outputId": "d755ad1f-98c0-4ecf-ffe0-2993f8d503b7",
        "colab": {
          "base_uri": "https://localhost:8080/",
          "height": 34
        }
      },
      "source": [
        "len(pred)"
      ],
      "execution_count": 233,
      "outputs": [
        {
          "output_type": "execute_result",
          "data": {
            "text/plain": [
              "306"
            ]
          },
          "metadata": {
            "tags": []
          },
          "execution_count": 233
        }
      ]
    },
    {
      "cell_type": "code",
      "metadata": {
        "id": "FNJ9ZdbQr2TB",
        "colab_type": "code",
        "outputId": "72281981-b153-486d-89ef-38b1397b1bfa",
        "colab": {
          "base_uri": "https://localhost:8080/",
          "height": 34
        }
      },
      "source": [
        "test_imgs.class_indices"
      ],
      "execution_count": 228,
      "outputs": [
        {
          "output_type": "execute_result",
          "data": {
            "text/plain": [
              "{'with_mask': 0, 'without_mask': 1}"
            ]
          },
          "metadata": {
            "tags": []
          },
          "execution_count": 228
        }
      ]
    },
    {
      "cell_type": "code",
      "metadata": {
        "id": "6z4ZZTqLCYDK",
        "colab_type": "code",
        "colab": {
          "base_uri": "https://localhost:8080/",
          "height": 554
        },
        "outputId": "063317cf-4254-4003-f9ba-9cf896b2ce94"
      },
      "source": [
        "test_imgs[0][1]"
      ],
      "execution_count": 235,
      "outputs": [
        {
          "output_type": "execute_result",
          "data": {
            "text/plain": [
              "array([[1., 0.],\n",
              "       [1., 0.],\n",
              "       [1., 0.],\n",
              "       [1., 0.],\n",
              "       [1., 0.],\n",
              "       [1., 0.],\n",
              "       [1., 0.],\n",
              "       [1., 0.],\n",
              "       [1., 0.],\n",
              "       [1., 0.],\n",
              "       [1., 0.],\n",
              "       [1., 0.],\n",
              "       [1., 0.],\n",
              "       [1., 0.],\n",
              "       [1., 0.],\n",
              "       [1., 0.],\n",
              "       [1., 0.],\n",
              "       [1., 0.],\n",
              "       [1., 0.],\n",
              "       [1., 0.],\n",
              "       [1., 0.],\n",
              "       [1., 0.],\n",
              "       [1., 0.],\n",
              "       [1., 0.],\n",
              "       [1., 0.],\n",
              "       [1., 0.],\n",
              "       [1., 0.],\n",
              "       [1., 0.],\n",
              "       [1., 0.],\n",
              "       [1., 0.],\n",
              "       [1., 0.],\n",
              "       [1., 0.]], dtype=float32)"
            ]
          },
          "metadata": {
            "tags": []
          },
          "execution_count": 235
        }
      ]
    },
    {
      "cell_type": "code",
      "metadata": {
        "id": "p_xDKASysJe6",
        "colab_type": "code",
        "colab": {
          "base_uri": "https://localhost:8080/",
          "height": 34
        },
        "outputId": "2904512a-fd97-4d51-fd57-13ff77230f37"
      },
      "source": [
        "len(test_imgs[0][1])"
      ],
      "execution_count": 234,
      "outputs": [
        {
          "output_type": "execute_result",
          "data": {
            "text/plain": [
              "32"
            ]
          },
          "metadata": {
            "tags": []
          },
          "execution_count": 234
        }
      ]
    },
    {
      "cell_type": "code",
      "metadata": {
        "id": "CD5xKea3BsMZ",
        "colab_type": "code",
        "colab": {
          "base_uri": "https://localhost:8080/",
          "height": 554
        },
        "outputId": "8f1bc245-bed2-4cb1-a7ef-853cd8fe8dd6"
      },
      "source": [
        "pred[0:32]"
      ],
      "execution_count": 239,
      "outputs": [
        {
          "output_type": "execute_result",
          "data": {
            "text/plain": [
              "array([[9.99999404e-01, 5.83335009e-07],\n",
              "       [9.95458484e-01, 4.54159128e-03],\n",
              "       [9.99977350e-01, 2.27075816e-05],\n",
              "       [9.99519944e-01, 4.80053714e-04],\n",
              "       [8.84677052e-01, 1.15322940e-01],\n",
              "       [9.87991989e-01, 1.20080067e-02],\n",
              "       [9.99585092e-01, 4.14899696e-04],\n",
              "       [9.99998212e-01, 1.76928859e-06],\n",
              "       [9.99999881e-01, 6.94571725e-08],\n",
              "       [9.99987125e-01, 1.29336549e-05],\n",
              "       [1.00000000e+00, 3.56384100e-09],\n",
              "       [1.00000000e+00, 1.87996552e-09],\n",
              "       [9.99999523e-01, 4.31798696e-07],\n",
              "       [1.00000000e+00, 3.00077879e-10],\n",
              "       [9.99999523e-01, 4.72658229e-07],\n",
              "       [9.99999285e-01, 6.88533760e-07],\n",
              "       [9.99813974e-01, 1.86084115e-04],\n",
              "       [9.99999881e-01, 7.38648893e-08],\n",
              "       [1.00000000e+00, 4.63459759e-09],\n",
              "       [9.99940515e-01, 5.94664052e-05],\n",
              "       [9.99999881e-01, 1.52507411e-07],\n",
              "       [1.00000000e+00, 1.71789747e-08],\n",
              "       [9.99999881e-01, 1.13138960e-07],\n",
              "       [9.99986172e-01, 1.37944580e-05],\n",
              "       [9.97165501e-01, 2.83443835e-03],\n",
              "       [1.00000000e+00, 1.07487796e-10],\n",
              "       [1.00000000e+00, 1.19665397e-11],\n",
              "       [1.00000000e+00, 3.42182220e-11],\n",
              "       [1.00000000e+00, 1.33564979e-10],\n",
              "       [1.00000000e+00, 2.23920327e-11],\n",
              "       [1.00000000e+00, 1.54935851e-12],\n",
              "       [1.00000000e+00, 1.89339144e-09]], dtype=float32)"
            ]
          },
          "metadata": {
            "tags": []
          },
          "execution_count": 239
        }
      ]
    },
    {
      "cell_type": "code",
      "metadata": {
        "id": "uLokPVF8ChW_",
        "colab_type": "code",
        "colab": {
          "base_uri": "https://localhost:8080/",
          "height": 34
        },
        "outputId": "1da0e91f-0356-46b6-f183-df6ef0da7f5d"
      },
      "source": [
        "pred[10]"
      ],
      "execution_count": 240,
      "outputs": [
        {
          "output_type": "execute_result",
          "data": {
            "text/plain": [
              "array([1.000000e+00, 3.563841e-09], dtype=float32)"
            ]
          },
          "metadata": {
            "tags": []
          },
          "execution_count": 240
        }
      ]
    },
    {
      "cell_type": "code",
      "metadata": {
        "id": "crJw2XbbDZuz",
        "colab_type": "code",
        "colab": {
          "base_uri": "https://localhost:8080/",
          "height": 554
        },
        "outputId": "eaf4b3be-6a5e-4e36-c8a9-f14957270b71"
      },
      "source": [
        "pred[-32:]"
      ],
      "execution_count": 241,
      "outputs": [
        {
          "output_type": "execute_result",
          "data": {
            "text/plain": [
              "array([[7.6853088e-03, 9.9231476e-01],\n",
              "       [4.0556964e-02, 9.5944303e-01],\n",
              "       [8.2402676e-02, 9.1759735e-01],\n",
              "       [2.7683118e-04, 9.9972314e-01],\n",
              "       [8.2146293e-08, 9.9999988e-01],\n",
              "       [1.8487391e-07, 9.9999976e-01],\n",
              "       [1.1041644e-07, 9.9999988e-01],\n",
              "       [2.4350475e-06, 9.9999762e-01],\n",
              "       [1.9373160e-03, 9.9806267e-01],\n",
              "       [9.2834728e-03, 9.9071652e-01],\n",
              "       [8.6185805e-09, 1.0000000e+00],\n",
              "       [1.4138111e-06, 9.9999857e-01],\n",
              "       [5.3818116e-08, 1.0000000e+00],\n",
              "       [3.2970202e-09, 1.0000000e+00],\n",
              "       [5.0280292e-08, 1.0000000e+00],\n",
              "       [1.2435967e-08, 1.0000000e+00],\n",
              "       [5.4736966e-09, 1.0000000e+00],\n",
              "       [5.1772179e-07, 9.9999952e-01],\n",
              "       [4.8677684e-06, 9.9999511e-01],\n",
              "       [1.7641787e-07, 9.9999988e-01],\n",
              "       [2.2129785e-09, 1.0000000e+00],\n",
              "       [6.2358434e-09, 1.0000000e+00],\n",
              "       [4.0776900e-08, 1.0000000e+00],\n",
              "       [3.2023169e-07, 9.9999964e-01],\n",
              "       [1.0501897e-06, 9.9999893e-01],\n",
              "       [3.5978189e-06, 9.9999642e-01],\n",
              "       [9.7844058e-08, 9.9999988e-01],\n",
              "       [6.1547502e-07, 9.9999940e-01],\n",
              "       [5.1691941e-06, 9.9999487e-01],\n",
              "       [3.0317062e-01, 6.9682938e-01],\n",
              "       [4.1190797e-06, 9.9999583e-01],\n",
              "       [3.8691901e-06, 9.9999619e-01]], dtype=float32)"
            ]
          },
          "metadata": {
            "tags": []
          },
          "execution_count": 241
        }
      ]
    },
    {
      "cell_type": "code",
      "metadata": {
        "id": "5aLS6PmiD66X",
        "colab_type": "code",
        "colab": {}
      },
      "source": [
        "from tensorflow.keras.preprocessing.image import img_to_array,load_img\n",
        "#make sure to scale the img array(1/255)"
      ],
      "execution_count": 0,
      "outputs": []
    },
    {
      "cell_type": "code",
      "metadata": {
        "id": "gQMbaoUfDoQE",
        "colab_type": "code",
        "colab": {
          "base_uri": "https://localhost:8080/",
          "height": 34
        },
        "outputId": "d7bf4d5f-fe1e-4f1c-8358-22a2ad874888"
      },
      "source": [
        "new_face_img2 = load_img(test_path+'/with_mask/augmented_image_138.jpg',target_size=(224,224,3))\n",
        "new_face_arr2 = img_to_array(new_face_img2)\n",
        "new_face_arr2 = new_face_arr2/255\n",
        "new_face_arr2 = np.expand_dims(new_face_arr2,axis=0)\n",
        "model.predict(new_face_arr2.reshape(1,224,224,3))"
      ],
      "execution_count": 253,
      "outputs": [
        {
          "output_type": "execute_result",
          "data": {
            "text/plain": [
              "array([[9.9999213e-01, 7.8348730e-06]], dtype=float32)"
            ]
          },
          "metadata": {
            "tags": []
          },
          "execution_count": 253
        }
      ]
    },
    {
      "cell_type": "code",
      "metadata": {
        "id": "ar7egOEOEFiR",
        "colab_type": "code",
        "colab": {
          "base_uri": "https://localhost:8080/",
          "height": 34
        },
        "outputId": "bd0b5366-3b09-4c4c-aa52-7343ea5376c4"
      },
      "source": [
        "len(test_imgs[0][0][0])"
      ],
      "execution_count": 248,
      "outputs": [
        {
          "output_type": "execute_result",
          "data": {
            "text/plain": [
              "224"
            ]
          },
          "metadata": {
            "tags": []
          },
          "execution_count": 248
        }
      ]
    },
    {
      "cell_type": "code",
      "metadata": {
        "id": "zpyhcnhHEvBC",
        "colab_type": "code",
        "colab": {
          "base_uri": "https://localhost:8080/",
          "height": 34
        },
        "outputId": "36bbf2ab-3d62-46a1-993e-9449607c3f61"
      },
      "source": [
        ""
      ],
      "execution_count": 251,
      "outputs": [
        {
          "output_type": "execute_result",
          "data": {
            "text/plain": [
              "1"
            ]
          },
          "metadata": {
            "tags": []
          },
          "execution_count": 251
        }
      ]
    },
    {
      "cell_type": "code",
      "metadata": {
        "id": "WegfPRrMFBPM",
        "colab_type": "code",
        "colab": {}
      },
      "source": [
        ""
      ],
      "execution_count": 0,
      "outputs": []
    }
  ]
}